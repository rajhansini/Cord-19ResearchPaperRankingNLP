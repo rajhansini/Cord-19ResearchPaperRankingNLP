{
 "cells": [
  {
   "cell_type": "markdown",
   "metadata": {},
   "source": [
    "# COVID-19 Literature search using GloVe + using K-Means and 1-D CNN trained for cluster classification to get feature represenation of Document   \n",
    "**Steps:**  \n",
    "**1) Load data into DataFrame.  \n",
    "2) Work on a slice of DataFrame for the experiment.  \n",
    "3) Clean the body text.  \n",
    "4) Filter articles which are in English and remove those which are likely noise.  \n",
    "5) Load the pre-trained GloVe vectors.  \n",
    "6) Apply K-Means Clustering to get labels.  \n",
    "7) Learn a simple 1D Convolutional Network to predict cluster.  \n",
    "8) Pick the output AveragePooling Layer of 1D Convolutional Neural Network as embedding for the document.    \n",
    "9) Get the norm of each document embedding and store that in a vector.  \n",
    "10) Get the keywords from the question after tokenizing the question.  \n",
    "11) Get the keywords embedding using AveragePooling Layer output of 1D Convolutional Neural Network.  \n",
    "11) Get the norm of keywords embedding.  \n",
    "12) Compute the cosine similarity using matrix vector multiplication and norms of document embeddings and keyword embeddings.  \n",
    "13) Get the top 5 articles that have the highest cosine similarity with the keywords of the question.**  \n",
    "  \n",
    "  \n",
    "*1D Convolutional Neural Networks work well for text classification. So, I have used that idea here to get document embedding using output of it's Average Pooling Layer. Output of Average Pooling layer is low dimensional feature representation of document for classifying it's cluster. Cluster will have similar document, so in that way it can act as document embedding when we are searching for a particular article.*\n",
    "  \n"
   ]
  },
  {
   "cell_type": "markdown",
   "metadata": {},
   "source": []
  },
  {
   "cell_type": "markdown",
   "metadata": {},
   "source": [
    "Preprocessing and loading the data taken from notebook: COVID EDA: Initial Exploration Tool, by Ivan Ega Pratama\n",
    "https://www.kaggle.com/ivanegapratama/covid-eda-initial-exploration-tool"
   ]
  },
  {
   "cell_type": "code",
   "execution_count": 319,
   "metadata": {
    "_cell_guid": "b1076dfc-b9ad-4769-8c92-a6c4dae69d19",
    "_uuid": "8f2839f25d086af736a60e9eeb907d3b93b6e0e5"
   },
   "outputs": [],
   "source": [
    "import numpy as np \n",
    "import pandas as pd\n",
    "import glob\n",
    "import json\n",
    "import re\n",
    "import string\n",
    "\n",
    "import nltk\n",
    "from nltk.stem import WordNetLemmatizer\n",
    "from nltk.corpus import stopwords\n",
    "\n",
    "from sklearn.cluster import KMeans\n",
    "from sklearn.decomposition import PCA\n",
    "from sklearn.feature_extraction.text import TfidfVectorizer\n",
    "\n",
    "from keras.models import Model\n",
    "from keras.layers import Dense, Input, Dropout, Activation, Conv1D, GlobalAveragePooling1D, AveragePooling1D\n",
    "from keras.layers.embeddings import Embedding\n",
    "from keras.preprocessing import sequence\n",
    "from keras.initializers import glorot_uniform\n",
    "from keras import backend as K\n",
    "\n",
    "from spacy.lang.en.stop_words import STOP_WORDS\n",
    "\n",
    "import matplotlib.pyplot as plt\n",
    "plt.style.use('ggplot')\n",
    "\n",
    "from collections import Counter"
   ]
  },
  {
   "cell_type": "markdown",
   "metadata": {},
   "source": [
    "Load the metadata.csv file into a DataFrame."
   ]
  },
  {
   "cell_type": "code",
   "execution_count": 2,
   "metadata": {},
   "outputs": [
    {
     "name": "stderr",
     "output_type": "stream",
     "text": [
      "/opt/conda/lib/python3.6/site-packages/IPython/core/interactiveshell.py:3063: DtypeWarning: Columns (14) have mixed types. Specify dtype option on import or set low_memory=False.\n",
      "  interactivity=interactivity, compiler=compiler, result=result)\n"
     ]
    },
    {
     "data": {
      "text/html": [
       "<div>\n",
       "<style scoped>\n",
       "    .dataframe tbody tr th:only-of-type {\n",
       "        vertical-align: middle;\n",
       "    }\n",
       "\n",
       "    .dataframe tbody tr th {\n",
       "        vertical-align: top;\n",
       "    }\n",
       "\n",
       "    .dataframe thead th {\n",
       "        text-align: right;\n",
       "    }\n",
       "</style>\n",
       "<table border=\"1\" class=\"dataframe\">\n",
       "  <thead>\n",
       "    <tr style=\"text-align: right;\">\n",
       "      <th></th>\n",
       "      <th>cord_uid</th>\n",
       "      <th>sha</th>\n",
       "      <th>source_x</th>\n",
       "      <th>title</th>\n",
       "      <th>doi</th>\n",
       "      <th>pmcid</th>\n",
       "      <th>pubmed_id</th>\n",
       "      <th>license</th>\n",
       "      <th>abstract</th>\n",
       "      <th>publish_time</th>\n",
       "      <th>authors</th>\n",
       "      <th>journal</th>\n",
       "      <th>mag_id</th>\n",
       "      <th>who_covidence_id</th>\n",
       "      <th>arxiv_id</th>\n",
       "      <th>pdf_json_files</th>\n",
       "      <th>pmc_json_files</th>\n",
       "      <th>url</th>\n",
       "    </tr>\n",
       "  </thead>\n",
       "  <tbody>\n",
       "    <tr>\n",
       "      <th>0</th>\n",
       "      <td>zjufx4fo</td>\n",
       "      <td>b2897e1277f56641193a6db73825f707eed3e4c9</td>\n",
       "      <td>PMC</td>\n",
       "      <td>Sequence requirements for RNA strand transfer ...</td>\n",
       "      <td>10.1093/emboj/20.24.7220</td>\n",
       "      <td>PMC125340</td>\n",
       "      <td>11742998</td>\n",
       "      <td>green-oa</td>\n",
       "      <td>Nidovirus subgenomic mRNAs contain a leader se...</td>\n",
       "      <td>2001-12-17</td>\n",
       "      <td>Pasternak, Alexander O.; van den Born, Erwin; ...</td>\n",
       "      <td>The EMBO Journal</td>\n",
       "      <td>NaN</td>\n",
       "      <td>NaN</td>\n",
       "      <td>NaN</td>\n",
       "      <td>document_parses/pdf_json/b2897e1277f56641193a6...</td>\n",
       "      <td>document_parses/pmc_json/PMC125340.xml.json</td>\n",
       "      <td>http://europepmc.org/articles/pmc125340?pdf=re...</td>\n",
       "    </tr>\n",
       "    <tr>\n",
       "      <th>1</th>\n",
       "      <td>ymceytj3</td>\n",
       "      <td>e3d0d482ebd9a8ba81c254cc433f314142e72174</td>\n",
       "      <td>PMC</td>\n",
       "      <td>Crystal structure of murine sCEACAM1a[1,4]: a ...</td>\n",
       "      <td>10.1093/emboj/21.9.2076</td>\n",
       "      <td>PMC125375</td>\n",
       "      <td>11980704</td>\n",
       "      <td>green-oa</td>\n",
       "      <td>CEACAM1 is a member of the carcinoembryonic an...</td>\n",
       "      <td>2002-05-01</td>\n",
       "      <td>Tan, Kemin; Zelus, Bruce D.; Meijers, Rob; Liu...</td>\n",
       "      <td>The EMBO Journal</td>\n",
       "      <td>NaN</td>\n",
       "      <td>NaN</td>\n",
       "      <td>NaN</td>\n",
       "      <td>document_parses/pdf_json/e3d0d482ebd9a8ba81c25...</td>\n",
       "      <td>document_parses/pmc_json/PMC125375.xml.json</td>\n",
       "      <td>http://europepmc.org/articles/pmc125375?pdf=re...</td>\n",
       "    </tr>\n",
       "    <tr>\n",
       "      <th>2</th>\n",
       "      <td>wzj2glte</td>\n",
       "      <td>00b1d99e70f779eb4ede50059db469c65e8c1469</td>\n",
       "      <td>PMC</td>\n",
       "      <td>Synthesis of a novel hepatitis C virus protein...</td>\n",
       "      <td>10.1093/emboj/20.14.3840</td>\n",
       "      <td>PMC125543</td>\n",
       "      <td>11447125</td>\n",
       "      <td>no-cc</td>\n",
       "      <td>Hepatitis C virus (HCV) is an important human ...</td>\n",
       "      <td>2001-07-16</td>\n",
       "      <td>Xu, Zhenming; Choi, Jinah; Yen, T.S.Benedict; ...</td>\n",
       "      <td>EMBO J</td>\n",
       "      <td>NaN</td>\n",
       "      <td>NaN</td>\n",
       "      <td>NaN</td>\n",
       "      <td>document_parses/pdf_json/00b1d99e70f779eb4ede5...</td>\n",
       "      <td>document_parses/pmc_json/PMC125543.xml.json</td>\n",
       "      <td>https://www.ncbi.nlm.nih.gov/pmc/articles/PMC1...</td>\n",
       "    </tr>\n",
       "    <tr>\n",
       "      <th>3</th>\n",
       "      <td>2sfqsfm1</td>\n",
       "      <td>cf584e00f637cbd8f1bb35f3f09f5ed07b71aeb0</td>\n",
       "      <td>PMC</td>\n",
       "      <td>Structure of coronavirus main proteinase revea...</td>\n",
       "      <td>10.1093/emboj/cdf327</td>\n",
       "      <td>PMC126080</td>\n",
       "      <td>12093723</td>\n",
       "      <td>green-oa</td>\n",
       "      <td>The key enzyme in coronavirus polyprotein proc...</td>\n",
       "      <td>2002-07-01</td>\n",
       "      <td>Anand, Kanchan; Palm, Gottfried J.; Mesters, J...</td>\n",
       "      <td>The EMBO Journal</td>\n",
       "      <td>NaN</td>\n",
       "      <td>NaN</td>\n",
       "      <td>NaN</td>\n",
       "      <td>document_parses/pdf_json/cf584e00f637cbd8f1bb3...</td>\n",
       "      <td>document_parses/pmc_json/PMC126080.xml.json</td>\n",
       "      <td>http://europepmc.org/articles/pmc126080?pdf=re...</td>\n",
       "    </tr>\n",
       "    <tr>\n",
       "      <th>4</th>\n",
       "      <td>i0zym7iq</td>\n",
       "      <td>dde02f11923815e6a16a31dd6298c46b109c5dfa</td>\n",
       "      <td>PMC</td>\n",
       "      <td>Discontinuous and non-discontinuous subgenomic...</td>\n",
       "      <td>10.1093/emboj/cdf635</td>\n",
       "      <td>PMC136939</td>\n",
       "      <td>12456663</td>\n",
       "      <td>green-oa</td>\n",
       "      <td>Arteri-, corona-, toro- and roniviruses are ev...</td>\n",
       "      <td>2002-12-01</td>\n",
       "      <td>van Vliet, A.L.W.; Smits, S.L.; Rottier, P.J.M...</td>\n",
       "      <td>The EMBO Journal</td>\n",
       "      <td>NaN</td>\n",
       "      <td>NaN</td>\n",
       "      <td>NaN</td>\n",
       "      <td>document_parses/pdf_json/dde02f11923815e6a16a3...</td>\n",
       "      <td>document_parses/pmc_json/PMC136939.xml.json</td>\n",
       "      <td>http://europepmc.org/articles/pmc136939?pdf=re...</td>\n",
       "    </tr>\n",
       "  </tbody>\n",
       "</table>\n",
       "</div>"
      ],
      "text/plain": [
       "   cord_uid                                       sha source_x  \\\n",
       "0  zjufx4fo  b2897e1277f56641193a6db73825f707eed3e4c9      PMC   \n",
       "1  ymceytj3  e3d0d482ebd9a8ba81c254cc433f314142e72174      PMC   \n",
       "2  wzj2glte  00b1d99e70f779eb4ede50059db469c65e8c1469      PMC   \n",
       "3  2sfqsfm1  cf584e00f637cbd8f1bb35f3f09f5ed07b71aeb0      PMC   \n",
       "4  i0zym7iq  dde02f11923815e6a16a31dd6298c46b109c5dfa      PMC   \n",
       "\n",
       "                                               title  \\\n",
       "0  Sequence requirements for RNA strand transfer ...   \n",
       "1  Crystal structure of murine sCEACAM1a[1,4]: a ...   \n",
       "2  Synthesis of a novel hepatitis C virus protein...   \n",
       "3  Structure of coronavirus main proteinase revea...   \n",
       "4  Discontinuous and non-discontinuous subgenomic...   \n",
       "\n",
       "                        doi      pmcid pubmed_id   license  \\\n",
       "0  10.1093/emboj/20.24.7220  PMC125340  11742998  green-oa   \n",
       "1   10.1093/emboj/21.9.2076  PMC125375  11980704  green-oa   \n",
       "2  10.1093/emboj/20.14.3840  PMC125543  11447125     no-cc   \n",
       "3      10.1093/emboj/cdf327  PMC126080  12093723  green-oa   \n",
       "4      10.1093/emboj/cdf635  PMC136939  12456663  green-oa   \n",
       "\n",
       "                                            abstract publish_time  \\\n",
       "0  Nidovirus subgenomic mRNAs contain a leader se...   2001-12-17   \n",
       "1  CEACAM1 is a member of the carcinoembryonic an...   2002-05-01   \n",
       "2  Hepatitis C virus (HCV) is an important human ...   2001-07-16   \n",
       "3  The key enzyme in coronavirus polyprotein proc...   2002-07-01   \n",
       "4  Arteri-, corona-, toro- and roniviruses are ev...   2002-12-01   \n",
       "\n",
       "                                             authors           journal  \\\n",
       "0  Pasternak, Alexander O.; van den Born, Erwin; ...  The EMBO Journal   \n",
       "1  Tan, Kemin; Zelus, Bruce D.; Meijers, Rob; Liu...  The EMBO Journal   \n",
       "2  Xu, Zhenming; Choi, Jinah; Yen, T.S.Benedict; ...            EMBO J   \n",
       "3  Anand, Kanchan; Palm, Gottfried J.; Mesters, J...  The EMBO Journal   \n",
       "4  van Vliet, A.L.W.; Smits, S.L.; Rottier, P.J.M...  The EMBO Journal   \n",
       "\n",
       "   mag_id who_covidence_id arxiv_id  \\\n",
       "0     NaN              NaN      NaN   \n",
       "1     NaN              NaN      NaN   \n",
       "2     NaN              NaN      NaN   \n",
       "3     NaN              NaN      NaN   \n",
       "4     NaN              NaN      NaN   \n",
       "\n",
       "                                      pdf_json_files  \\\n",
       "0  document_parses/pdf_json/b2897e1277f56641193a6...   \n",
       "1  document_parses/pdf_json/e3d0d482ebd9a8ba81c25...   \n",
       "2  document_parses/pdf_json/00b1d99e70f779eb4ede5...   \n",
       "3  document_parses/pdf_json/cf584e00f637cbd8f1bb3...   \n",
       "4  document_parses/pdf_json/dde02f11923815e6a16a3...   \n",
       "\n",
       "                                pmc_json_files  \\\n",
       "0  document_parses/pmc_json/PMC125340.xml.json   \n",
       "1  document_parses/pmc_json/PMC125375.xml.json   \n",
       "2  document_parses/pmc_json/PMC125543.xml.json   \n",
       "3  document_parses/pmc_json/PMC126080.xml.json   \n",
       "4  document_parses/pmc_json/PMC136939.xml.json   \n",
       "\n",
       "                                                 url  \n",
       "0  http://europepmc.org/articles/pmc125340?pdf=re...  \n",
       "1  http://europepmc.org/articles/pmc125375?pdf=re...  \n",
       "2  https://www.ncbi.nlm.nih.gov/pmc/articles/PMC1...  \n",
       "3  http://europepmc.org/articles/pmc126080?pdf=re...  \n",
       "4  http://europepmc.org/articles/pmc136939?pdf=re...  "
      ]
     },
     "execution_count": 2,
     "metadata": {},
     "output_type": "execute_result"
    }
   ],
   "source": [
    "root_path = '/kaggle/input/CORD-19-research-challenge/'\n",
    "metadata_path = f'{root_path}/metadata.csv'\n",
    "meta_df = pd.read_csv(metadata_path, dtype={\n",
    "    'pubmed_id': str,\n",
    "    'Microsoft Academic Paper ID': str, \n",
    "    'doi': str\n",
    "})\n",
    "meta_df.head()"
   ]
  },
  {
   "cell_type": "code",
   "execution_count": 3,
   "metadata": {},
   "outputs": [
    {
     "name": "stdout",
     "output_type": "stream",
     "text": [
      "<class 'pandas.core.frame.DataFrame'>\n",
      "RangeIndex: 63571 entries, 0 to 63570\n",
      "Data columns (total 18 columns):\n",
      "cord_uid            63571 non-null object\n",
      "sha                 48924 non-null object\n",
      "source_x            63571 non-null object\n",
      "title               63408 non-null object\n",
      "doi                 59162 non-null object\n",
      "pmcid               49732 non-null object\n",
      "pubmed_id           42478 non-null object\n",
      "license             63571 non-null object\n",
      "abstract            51012 non-null object\n",
      "publish_time        63563 non-null object\n",
      "authors             60868 non-null object\n",
      "journal             55602 non-null object\n",
      "mag_id              970 non-null float64\n",
      "who_covidence_id    1775 non-null object\n",
      "arxiv_id            1166 non-null object\n",
      "pdf_json_files      48924 non-null object\n",
      "pmc_json_files      33503 non-null object\n",
      "url                 45608 non-null object\n",
      "dtypes: float64(1), object(17)\n",
      "memory usage: 8.7+ MB\n"
     ]
    }
   ],
   "source": [
    "meta_df.info()\n",
    "#meta_df['url'][0]"
   ]
  },
  {
   "cell_type": "code",
   "execution_count": 4,
   "metadata": {},
   "outputs": [
    {
     "data": {
      "text/plain": [
       "85371"
      ]
     },
     "execution_count": 4,
     "metadata": {},
     "output_type": "execute_result"
    }
   ],
   "source": [
    "all_json = glob.glob(f'{root_path}/**/*.json', recursive=True)\n",
    "len(all_json)"
   ]
  },
  {
   "cell_type": "markdown",
   "metadata": {},
   "source": [
    "Little modified helper class. It will get paper id, title, authors(concatenate first name and last name), abstract and body text from each json object."
   ]
  },
  {
   "cell_type": "code",
   "execution_count": 5,
   "metadata": {},
   "outputs": [
    {
     "name": "stdout",
     "output_type": "stream",
     "text": [
      "PMC5730575: ... There is wide recognition of the need for the development of new antibiotics1–3. Historically, there has never been a wide selection of effective antivirals, with only antivirals for human immunodefic...\n"
     ]
    }
   ],
   "source": [
    "class FileReader:\n",
    "    def __init__(self, file_path):\n",
    "        with open(file_path) as file:\n",
    "            content = json.load(file)\n",
    "            self.paper_id = content['paper_id']\n",
    "            self.abstract = []\n",
    "            self.body_text = []\n",
    "            self.title = content['metadata']['title']\n",
    "            self.authors = ''\n",
    "            for author in content['metadata']['authors']:\n",
    "                #concatenate first name and last name\n",
    "                self.authors += author['first'] + ' ' + author['last'] + \", \"\n",
    "            #removing last comma and a space from string authors\n",
    "            self.authors = self.authors[:-2]\n",
    "            # Abstract\n",
    "            try:\n",
    "                for entry in content['abstract']:\n",
    "                    self.abstract.append(entry['text'])\n",
    "            except:\n",
    "                self.abstract = []\n",
    "            # Body text\n",
    "            for entry in content['body_text']:\n",
    "                self.body_text.append(entry['text'])\n",
    "            #converting list to string\n",
    "            self.abstract = '\\n'.join(self.abstract)\n",
    "            self.body_text = '\\n'.join(self.body_text)\n",
    "    def __repr__(self):\n",
    "        return f'{self.paper_id}: {self.abstract[:200]}... {self.body_text[:200]}...'\n",
    "first_row = FileReader(all_json[0])\n",
    "print(first_row)"
   ]
  },
  {
   "cell_type": "markdown",
   "metadata": {},
   "source": [
    "Load data(paper id, title, authors, abstract, body text) into a DataFrame after extracting data from json objects."
   ]
  },
  {
   "cell_type": "code",
   "execution_count": 6,
   "metadata": {},
   "outputs": [
    {
     "name": "stdout",
     "output_type": "stream",
     "text": [
      "Processing index: 0 of 85371\n",
      "Processing index: 8537 of 85371\n",
      "Processing index: 17074 of 85371\n",
      "Processing index: 25611 of 85371\n",
      "Processing index: 34148 of 85371\n",
      "Processing index: 42685 of 85371\n",
      "Processing index: 51222 of 85371\n",
      "Processing index: 59759 of 85371\n",
      "Processing index: 68296 of 85371\n",
      "Processing index: 76833 of 85371\n",
      "Processing index: 85370 of 85371\n"
     ]
    },
    {
     "data": {
      "text/html": [
       "<div>\n",
       "<style scoped>\n",
       "    .dataframe tbody tr th:only-of-type {\n",
       "        vertical-align: middle;\n",
       "    }\n",
       "\n",
       "    .dataframe tbody tr th {\n",
       "        vertical-align: top;\n",
       "    }\n",
       "\n",
       "    .dataframe thead th {\n",
       "        text-align: right;\n",
       "    }\n",
       "</style>\n",
       "<table border=\"1\" class=\"dataframe\">\n",
       "  <thead>\n",
       "    <tr style=\"text-align: right;\">\n",
       "      <th></th>\n",
       "      <th>paper_id</th>\n",
       "      <th>title</th>\n",
       "      <th>authors</th>\n",
       "      <th>abstract</th>\n",
       "      <th>body_text</th>\n",
       "    </tr>\n",
       "  </thead>\n",
       "  <tbody>\n",
       "    <tr>\n",
       "      <th>0</th>\n",
       "      <td>PMC5730575</td>\n",
       "      <td>A Simple Platform for the Rapid Development of...</td>\n",
       "      <td>Stephen Johnston, Valeriy Domenyuk, Nidhi Gupt...</td>\n",
       "      <td></td>\n",
       "      <td>There is wide recognition of the need for the ...</td>\n",
       "    </tr>\n",
       "    <tr>\n",
       "      <th>1</th>\n",
       "      <td>PMC7127289</td>\n",
       "      <td>Latent Adenovirus Infection in COPD</td>\n",
       "      <td>Shizu Hayashi</td>\n",
       "      <td></td>\n",
       "      <td>Several years ago, we postulated that the pers...</td>\n",
       "    </tr>\n",
       "    <tr>\n",
       "      <th>2</th>\n",
       "      <td>PMC7117474</td>\n",
       "      <td>Genetic, antigenic, and pathogenic characteris...</td>\n",
       "      <td>Zongxi Han, Wenjun Zhao, Yuqiu Chen, Qianqian ...</td>\n",
       "      <td></td>\n",
       "      <td>Coronaviruses (CoVs), a genus of the Coronavir...</td>\n",
       "    </tr>\n",
       "    <tr>\n",
       "      <th>3</th>\n",
       "      <td>PMC2887147</td>\n",
       "      <td>Cytokine profiles of suction pulmonary secreti...</td>\n",
       "      <td>Hisashi Kawashima, Soken Go, Yasuyo Kashiwagi,...</td>\n",
       "      <td></td>\n",
       "      <td>Uncomplicated influenza in humans is character...</td>\n",
       "    </tr>\n",
       "    <tr>\n",
       "      <th>4</th>\n",
       "      <td>PMC5606103</td>\n",
       "      <td>The Clinical Significance of FilmArray Respira...</td>\n",
       "      <td>Huanzhu Chen, Huilan Weng, Meirui Lin, Ping He...</td>\n",
       "      <td></td>\n",
       "      <td>The community-acquired pneumonia (CAP) is the ...</td>\n",
       "    </tr>\n",
       "  </tbody>\n",
       "</table>\n",
       "</div>"
      ],
      "text/plain": [
       "     paper_id                                              title  \\\n",
       "0  PMC5730575  A Simple Platform for the Rapid Development of...   \n",
       "1  PMC7127289                Latent Adenovirus Infection in COPD   \n",
       "2  PMC7117474  Genetic, antigenic, and pathogenic characteris...   \n",
       "3  PMC2887147  Cytokine profiles of suction pulmonary secreti...   \n",
       "4  PMC5606103  The Clinical Significance of FilmArray Respira...   \n",
       "\n",
       "                                             authors abstract  \\\n",
       "0  Stephen Johnston, Valeriy Domenyuk, Nidhi Gupt...            \n",
       "1                                      Shizu Hayashi            \n",
       "2  Zongxi Han, Wenjun Zhao, Yuqiu Chen, Qianqian ...            \n",
       "3  Hisashi Kawashima, Soken Go, Yasuyo Kashiwagi,...            \n",
       "4  Huanzhu Chen, Huilan Weng, Meirui Lin, Ping He...            \n",
       "\n",
       "                                           body_text  \n",
       "0  There is wide recognition of the need for the ...  \n",
       "1  Several years ago, we postulated that the pers...  \n",
       "2  Coronaviruses (CoVs), a genus of the Coronavir...  \n",
       "3  Uncomplicated influenza in humans is character...  \n",
       "4  The community-acquired pneumonia (CAP) is the ...  "
      ]
     },
     "execution_count": 6,
     "metadata": {},
     "output_type": "execute_result"
    }
   ],
   "source": [
    "dict_ = {'paper_id': [],  'title': [], 'authors': [], 'abstract': [], 'body_text': []}\n",
    "for idx, entry in enumerate(all_json):\n",
    "    if idx % (len(all_json) // 10) == 0:\n",
    "        print(f'Processing index: {idx} of {len(all_json)}')\n",
    "    content = FileReader(entry)\n",
    "    dict_['paper_id'].append(content.paper_id)\n",
    "    dict_['title'].append(content.title)\n",
    "    dict_['authors'].append(content.authors)\n",
    "    dict_['abstract'].append(content.abstract)\n",
    "    dict_['body_text'].append(content.body_text)\n",
    "df_covid = pd.DataFrame(dict_, columns=['paper_id', 'title', 'authors', 'abstract', 'body_text'])\n",
    "df_covid.head()"
   ]
  },
  {
   "cell_type": "markdown",
   "metadata": {},
   "source": [
    "Clean Duplicates."
   ]
  },
  {
   "cell_type": "code",
   "execution_count": 7,
   "metadata": {},
   "outputs": [],
   "source": [
    "df_covid.drop_duplicates(['abstract', 'body_text'], inplace=True)"
   ]
  },
  {
   "cell_type": "markdown",
   "metadata": {},
   "source": [
    "Drop null values."
   ]
  },
  {
   "cell_type": "code",
   "execution_count": 8,
   "metadata": {},
   "outputs": [
    {
     "name": "stdout",
     "output_type": "stream",
     "text": [
      "<class 'pandas.core.frame.DataFrame'>\n",
      "Int64Index: 84543 entries, 0 to 85370\n",
      "Data columns (total 5 columns):\n",
      "paper_id     84543 non-null object\n",
      "title        84543 non-null object\n",
      "authors      84543 non-null object\n",
      "abstract     84543 non-null object\n",
      "body_text    84543 non-null object\n",
      "dtypes: object(5)\n",
      "memory usage: 3.9+ MB\n"
     ]
    }
   ],
   "source": [
    "df_covid.dropna(inplace=True)\n",
    "df_covid.info()"
   ]
  },
  {
   "cell_type": "markdown",
   "metadata": {},
   "source": [
    "Work on a small portion of DataFrame for speedup."
   ]
  },
  {
   "cell_type": "code",
   "execution_count": 9,
   "metadata": {},
   "outputs": [],
   "source": [
    "df_covid_small = df_covid.head(10000).copy()"
   ]
  },
  {
   "cell_type": "markdown",
   "metadata": {},
   "source": [
    "Do some cleaning. Remove everything inside square brackets and parenthesis as these are mostly numbers and irrelevant information from body_text. Remove punctuation except for hyphen, replace \\n, \\t with a space, replace more than one space with single space and make everything in lower case in body_text of DataFrame df_covid_small. Keep the pre-processed body_text in new column in DataFrame called filtered_body_text."
   ]
  },
  {
   "cell_type": "code",
   "execution_count": 10,
   "metadata": {},
   "outputs": [],
   "source": [
    "df_covid_small['filtered_body_text'] = df_covid_small['body_text'].copy()"
   ]
  },
  {
   "cell_type": "code",
   "execution_count": 11,
   "metadata": {},
   "outputs": [],
   "source": [
    "#remove square bracket contents\n",
    "df_covid_small['filtered_body_text'] = df_covid_small['filtered_body_text'].apply(lambda x: re.sub('\\[.*?\\]','',x))\n",
    "#remove parenthesis contents\n",
    "df_covid_small['filtered_body_text'] = df_covid_small['filtered_body_text'].apply(lambda x: re.sub('\\(.*?\\)','',x))\n",
    "#remove punctuation except hyphen\n",
    "df_covid_small['filtered_body_text'] = df_covid_small['filtered_body_text'].apply(lambda x: re.sub('[^a-zA-z0-9\\s-]','',x))\n",
    "#remove \\n \\t\n",
    "df_covid_small['filtered_body_text'] = df_covid_small['filtered_body_text'].apply(lambda x: re.sub('\\n|\\t',' ',x))\n",
    "#remove extra space\n",
    "df_covid_small['filtered_body_text'] = df_covid_small['filtered_body_text'].apply(lambda x: re.sub(' +',' ',x))\n",
    "# make everything lower case\n",
    "df_covid_small['filtered_body_text'] = df_covid_small['filtered_body_text'].apply(lambda x: x.lower())"
   ]
  },
  {
   "cell_type": "markdown",
   "metadata": {},
   "source": [
    "Probably the articles which don't contain the word \"the\" are most likely not in English. Get rid of them. Get the indexes of the article which does not contain the word \" the \"."
   ]
  },
  {
   "cell_type": "code",
   "execution_count": 12,
   "metadata": {},
   "outputs": [],
   "source": [
    "ignore_idxs = []\n",
    "for i in range(10000):\n",
    "    if 'the' not in df_covid_small.iloc[i]['filtered_body_text']:\n",
    "        ignore_idxs.append(i)"
   ]
  },
  {
   "cell_type": "markdown",
   "metadata": {},
   "source": [
    "Have a look at the articles which do not contain the word \"the\"."
   ]
  },
  {
   "cell_type": "code",
   "execution_count": 13,
   "metadata": {},
   "outputs": [
    {
     "name": "stdout",
     "output_type": "stream",
     "text": [
      "la scurit sanitaire mondiale est mise au dfi par la propagation internationale des maladies les agents infectieux sont la principale source de ce dfi lhistoire est scande par des pidmies de porte mondiale ou rgionale qui furent les tmoins de ces prop......\n",
      "============================================================================================================================================\n",
      "none author yyg has no conflicts of interest pertaining to this manuscript......\n",
      "============================================================================================================================================\n",
      "la rinofaringitis es una infeccin banal y frecuente de la primera infancia cuando se presenta en su forma aguda su gravedad se debe a la presencia de complicaciones o de formas recidivantes el conocimiento de estas formas clnicas permite aplicar un t......\n",
      "============================================================================================================================================\n",
      " dfinition pragmatique plus de trois selles trs molles ou liquides par jour depuis moins de deux semaineslapparition de selles liquides permet de porter le diagnostic de diarrhe aigu si elles sont rcentes frquentes et abondantesfacteurs de risque ass......\n",
      "============================================================================================================================================\n",
      "la displasia ectodrmica comprende un amplio y heterogneo grupo de enfermedades genticas no progresivas ocasionadas por defectos primarios en el desarrollo de 2 o ms tejidos derivados del ectodermo embrionario1 2 3 4 5 6 7 8 su fenotipo es complejo as......\n",
      "============================================================================================================================================\n",
      "none......\n",
      "============================================================================================================================================\n",
      "la neumona adquirida en la comunidad incluye un amplio espectro de presentaciones que oscilan desde un cuadro leve a formas ms graves que pueden necesitar ingreso hospitalario e incluso estancia en la uci en personas mayores de 65 aos es una de las p......\n",
      "============================================================================================================================================\n",
      "diverses raisons ont t invoques pour expliquer la chute du nombre des autopsies la modification des lois biothiques franaises de 1994 rvises en 2004 obligeant dsormais les cliniciens rencontrer les familles et obtenir leur tmoignage quand labsence de......\n",
      "============================================================================================================================================\n",
      "au cours des cinquante dernires annes la plupart des virus nouveaux qui ont merg provenaient dafrique subsaharienne fivres hmorragiques africaines sida monkeypox donnant limpression que le continent africain tait le rservoir de virus essentiel de la ......\n",
      "============================================================================================================================================\n",
      " son enfermedades nuevas o descubiertas recientemente y otras viejas que parecan controladas desaparecidas o en fase de desaparicin que vuelven a resurgir dado que han existido en animales o circulando de forma silente entre humanosgeneralmente prese......\n",
      "============================================================================================================================================\n"
     ]
    }
   ],
   "source": [
    "for i in ignore_idxs[:10]:\n",
    "    print (df_covid_small.iloc[i]['filtered_body_text'][:250]+\"......\")\n",
    "    print(\"=\"*140)"
   ]
  },
  {
   "cell_type": "markdown",
   "metadata": {},
   "source": [
    "Also, remove articles whose word length is less than 500. Very likely that they are some comments and not something useful.Get the indexes and have a look at the article of word length less than 500."
   ]
  },
  {
   "cell_type": "code",
   "execution_count": 14,
   "metadata": {},
   "outputs": [
    {
     "name": "stdout",
     "output_type": "stream",
     "text": [
      "the author declares that there is no conflict of interest....\n",
      "============================================================================================================================================\n",
      "after publication of the article it has been brought to our attention that an authors name has been spelt incorrectly the correct spelling should be massimo ciccozzi but it was previously included as massimo cicozzi the original version has now been revised to reflect this....\n",
      "============================================================================================================================================\n",
      "the coding-complete genome sequence of the ga99772019 isolate of the dmv1639 strain has been deposited in genbank under the accession number mk878536 raw data were deposited in the sra under accession number srr9763527 biosample number samn12347422 and bioproject number prjna556282....\n",
      "============================================================================================================================================\n",
      "the authors report no conflict of interest....\n",
      "============================================================================================================================================\n",
      "these korknu-14062014 pedv sequence data have been deposited in genbank under the accession number km403155....\n",
      "============================================================================================================================================\n",
      "the authors declare that they have no known competing financial interests or personal relationships that could have appeared to influence the work reported in this paper....\n",
      "============================================================================================================================================\n",
      "ethical approval for the study was obtained from the institutional review board of seoul national university hospital in seoul irb no c-1512049727....\n",
      "============================================================================================================================================\n",
      "the genome sequence of this rv-c47 isolate has been deposited in genbank under accession number mf806525....\n",
      "============================================================================================================================================\n",
      "liting song conception of manuscript drafting of manuscript critical revision of manuscript and final approval of manuscript the author declares that the research was conducted in the absence of any commercial or financial relationships that could be construed as a potential conflict of interest....\n",
      "============================================================================================================================================\n",
      "the near-complete genome sequence of infectious bronchitis virus isolate vfar-047 has been deposited in genbank under the accession number mh878976 raw data were deposited in the sra under biosample number samn10521748 and sra run number srr8281084 which are part of sra study number srp172861....\n",
      "============================================================================================================================================\n"
     ]
    }
   ],
   "source": [
    "count = 0\n",
    "for i in range(10000):\n",
    "    if len(df_covid_small.iloc[i]['filtered_body_text']) < 500:\n",
    "        if i not in ignore_idxs:\n",
    "            if count < 10:\n",
    "                print(df_covid_small.iloc[i]['filtered_body_text']+\"....\")\n",
    "                print(\"=\"*140)\n",
    "            ignore_idxs.append(i)\n",
    "            count += 1"
   ]
  },
  {
   "cell_type": "markdown",
   "metadata": {},
   "source": [
    "Drop the irrelevant articles from the DataFrame."
   ]
  },
  {
   "cell_type": "code",
   "execution_count": 15,
   "metadata": {},
   "outputs": [],
   "source": [
    "df_covid_small.drop(df_covid_small.index[ignore_idxs], inplace=True)"
   ]
  },
  {
   "cell_type": "markdown",
   "metadata": {},
   "source": [
    "Customize_stop_words taken from notebook: Topic Modeling: Finding Related Articles, by Daniel Wolffram:  \n",
    "https://www.kaggle.com/danielwolffram/topic-modeling-finding-related-articles"
   ]
  },
  {
   "cell_type": "code",
   "execution_count": 16,
   "metadata": {},
   "outputs": [],
   "source": [
    "customize_stop_words = [\n",
    "    'doi', 'preprint', 'copyright', 'peer', 'reviewed', 'org', 'https', 'et', 'al', 'author', 'figure', \n",
    "    'rights', 'reserved', 'permission', 'used', 'using', 'biorxiv', 'medrxiv', 'license', 'fig', 'fig.', 'al.', 'Elsevier', 'PMC', 'CZI',\n",
    "    '-PRON-'\n",
    "]\n",
    "final_stop_words = set(stopwords.words('english')).union(STOP_WORDS).union(set(customize_stop_words))"
   ]
  },
  {
   "cell_type": "markdown",
   "metadata": {},
   "source": [
    "Define function tokenize_text which takes body_text of article and return tokens as string after removing stop words and lemmatizing"
   ]
  },
  {
   "cell_type": "code",
   "execution_count": 17,
   "metadata": {},
   "outputs": [],
   "source": [
    "def tokenize_text(text):\n",
    "    tokens = nltk.word_tokenize(text)\n",
    "    #remove stop words\n",
    "    tokens = list(filter(lambda x: x not in final_stop_words, tokens))\n",
    "    #lemmatize the words so that other forms of same word becomes a single word\n",
    "    tokens = list(map(lambda x: nltk.WordNetLemmatizer().lemmatize(x), tokens))\n",
    "    return ' '.join(list(tokens))"
   ]
  },
  {
   "cell_type": "markdown",
   "metadata": {},
   "source": [
    "Add a new column in dataframe tokenized_text which will store the tokens as string of body_text of article."
   ]
  },
  {
   "cell_type": "code",
   "execution_count": 18,
   "metadata": {},
   "outputs": [],
   "source": [
    "df_covid_small[\"tokenized_text\"] = df_covid_small[\"filtered_body_text\"].apply(tokenize_text)"
   ]
  },
  {
   "cell_type": "markdown",
   "metadata": {},
   "source": [
    "Use K-means clustering to add labels to the dataset.  \n",
    "K-means clustering code from notebook, \"COVID-19 Literature Clustering\" by MaksimEkin, SoloNick    \n",
    "\n",
    "Define function vectorize which vectorizes text using tf-idf vectorizer.  \n",
    "We will be clustering based off the content of the body text. The maximum number of features will be limited. Only the top 2 ** 12 features will be used, eseentially acting as a noise filter. Additionally, more features cause painfully long runtimes.  \n",
    "\n",
    "Apply PCA to reduce the dimensions while still keeping 95% variance. \n",
    "\n",
    "To separate the literature, k-means will be run on the vectorized text. \n",
    "\n",
    "Using elbow method value of best k was 20  \n",
    "Refernce: https://www.kaggle.com/maksimeren/covid-19-literature-clustering"
   ]
  },
  {
   "cell_type": "code",
   "execution_count": 19,
   "metadata": {},
   "outputs": [],
   "source": [
    "def vectorize(text, maxx_features):    \n",
    "    vectorizer = TfidfVectorizer(max_features=maxx_features)\n",
    "    X = vectorizer.fit_transform(text)\n",
    "    return X"
   ]
  },
  {
   "cell_type": "code",
   "execution_count": 20,
   "metadata": {},
   "outputs": [
    {
     "data": {
      "text/plain": [
       "(9780, 4096)"
      ]
     },
     "execution_count": 20,
     "metadata": {},
     "output_type": "execute_result"
    }
   ],
   "source": [
    "text = df_covid_small['tokenized_text'].values\n",
    "X = vectorize(text, 2 ** 12)\n",
    "X.shape"
   ]
  },
  {
   "cell_type": "code",
   "execution_count": 21,
   "metadata": {},
   "outputs": [
    {
     "data": {
      "text/plain": [
       "(9780, 2110)"
      ]
     },
     "execution_count": 21,
     "metadata": {},
     "output_type": "execute_result"
    }
   ],
   "source": [
    "from sklearn.decomposition import PCA\n",
    "\n",
    "pca = PCA(n_components=0.95, random_state=42)\n",
    "X_reduced= pca.fit_transform(X.toarray())\n",
    "X_reduced.shape"
   ]
  },
  {
   "cell_type": "code",
   "execution_count": 23,
   "metadata": {},
   "outputs": [],
   "source": [
    "\n",
    "k = 20\n",
    "kmeans = KMeans(n_clusters=k, random_state=0)\n",
    "y_pred = kmeans.fit_predict(X_reduced)\n",
    "df_covid_small['y'] = y_pred"
   ]
  },
  {
   "cell_type": "markdown",
   "metadata": {},
   "source": [
    "Split dataframe in three parts"
   ]
  },
  {
   "cell_type": "code",
   "execution_count": 24,
   "metadata": {},
   "outputs": [],
   "source": [
    "X_train = df_covid_small.iloc[:5000][\"tokenized_text\"]\n",
    "Y_train = df_covid_small.iloc[:5000]['y']\n",
    "X_val = df_covid_small.iloc[5000:7000][\"tokenized_text\"]\n",
    "Y_val = df_covid_small.iloc[5000:7000]['y']\n",
    "X_test = df_covid_small.iloc[7000:9000][\"tokenized_text\"]\n",
    "Y_test = df_covid_small.iloc[7000:9000]['y']"
   ]
  },
  {
   "cell_type": "markdown",
   "metadata": {},
   "source": [
    "Find average word count in an article."
   ]
  },
  {
   "cell_type": "code",
   "execution_count": 25,
   "metadata": {},
   "outputs": [
    {
     "name": "stdout",
     "output_type": "stream",
     "text": [
      "2232.802351738241\n"
     ]
    }
   ],
   "source": [
    "corpus_word_count, avg_corpus_word_count = 0, 0\n",
    "for i in range(X_reduced.shape[0]):\n",
    "    corpus_word_count += len(df_covid_small.iloc[i]['tokenized_text'].split(\" \"))\n",
    "avg_corpus_word_count = corpus_word_count / X_reduced.shape[0]\n",
    "print (avg_corpus_word_count)"
   ]
  },
  {
   "cell_type": "markdown",
   "metadata": {},
   "source": [
    "Load the pre-trained GloVe (Global Vectors for Word Representation) word vectors. It has 6B tokens, 400K vocab, (50d, 100d, 200d, & 300d vectors). Load the 50d version for now.\n",
    "Jeffrey Pennington, Richard Socher, and Christopher D. Manning. 2014 https://nlp.stanford.edu/projects/glove/  \n",
    "  \n",
    "Define a function read_glove_vecs which takes a file containing pre-trained GloVe word vectors and returns dictionaries:  \n",
    "words_to_index: given a word, get it's index(just an integer)  \n",
    "index_to_words: given index, get corresponding word  \n",
    "word_to_vec_map: given a word, get its word embedding vector  \n",
    "\n",
    "Code from coursera course on sequence models by deeplearning.ai taught by Andrew Ng: https://www.coursera.org/learn/nlp-sequence-models"
   ]
  },
  {
   "cell_type": "code",
   "execution_count": 26,
   "metadata": {},
   "outputs": [],
   "source": [
    "#From coursera course on sequence models\n",
    "def read_glove_vecs(glove_file):\n",
    "    with open(glove_file, 'r') as f:\n",
    "        words = set()\n",
    "        word_to_vec_map = {}\n",
    "        for line in f:\n",
    "            line = line.strip().split()\n",
    "            curr_word = line[0]\n",
    "            words.add(curr_word)\n",
    "            word_to_vec_map[curr_word] = np.array(line[1:], dtype=np.float64)\n",
    "        \n",
    "        i = 1\n",
    "        words_to_index = {}\n",
    "        index_to_words = {}\n",
    "        for w in sorted(words):\n",
    "            words_to_index[w] = i\n",
    "            index_to_words[i] = w\n",
    "            i = i + 1\n",
    "    return words_to_index, index_to_words, word_to_vec_map\n",
    "root_path = '/kaggle/input/glove6b50d'\n",
    "words_to_index, index_to_words, word_to_vec_map = read_glove_vecs(f'{root_path}/glove.6B.50d.txt')"
   ]
  },
  {
   "cell_type": "markdown",
   "metadata": {},
   "source": [
    "Following functions are from my assignment from coursera course on Sequence Models:  \n",
    "convert_to_one_hot: takes categorical variable Y and number of categories and convert it to one hot encoding  \n",
    "  \n",
    "sentences_to_indices: Converts an array of documents (here article/papers) into an array of indices corresponding to words in the documents. max_len is maximum number of words article can have. Average number of words is around 2200, so let's take 1500 words from article.  \n",
    "\n",
    "pretrained_embedding_layer: Creates a Keras Embedding() layer and loads in pre-trained GloVe 50-dimensional vectors. The embedding layer takes as input a list of word indices. sentences_to_indices() creates these word indices. The embedding layer will return the word embeddings for a document.  \n",
    "\n",
    "\n"
   ]
  },
  {
   "cell_type": "code",
   "execution_count": 27,
   "metadata": {},
   "outputs": [],
   "source": [
    "def convert_to_one_hot(Y, C):\n",
    "    Y = np.eye(C)[Y.values.reshape(-1)]\n",
    "    return Y"
   ]
  },
  {
   "cell_type": "code",
   "execution_count": 28,
   "metadata": {},
   "outputs": [],
   "source": [
    "def sentences_to_indices(X, word_to_index, max_len):\n",
    "    m = X.shape[0]                                   \n",
    "    X_indices = np.zeros((m,max_len))\n",
    "    for i in range(m):                          \n",
    "        sentence_words = X.iloc[i].split()\n",
    "        j = 0\n",
    "        for w in sentence_words:\n",
    "            if w in word_to_index:\n",
    "                X_indices[i, j] = word_to_index[w]\n",
    "                j = j + 1\n",
    "            if j == 1500:\n",
    "                break\n",
    "            \n",
    "    return X_indices"
   ]
  },
  {
   "cell_type": "code",
   "execution_count": 29,
   "metadata": {},
   "outputs": [],
   "source": [
    "def pretrained_embedding_layer(word_to_vec_map, word_to_index):\n",
    "    \n",
    "    vocab_len = len(word_to_index) + 1                 \n",
    "    emb_dim = word_to_vec_map[\"cucumber\"].shape[0]  \n",
    "    \n",
    "    emb_matrix = np.zeros((vocab_len,emb_dim))\n",
    "    \n",
    "    for word, idx in word_to_index.items():\n",
    "        emb_matrix[idx, :] = word_to_vec_map[word]\n",
    "\n",
    "    embedding_layer = Embedding(input_dim=vocab_len, output_dim=emb_dim, trainable=False)\n",
    " \n",
    "    embedding_layer.build((None,))\n",
    "    embedding_layer.set_weights([emb_matrix])\n",
    "    \n",
    "    return embedding_layer"
   ]
  },
  {
   "cell_type": "markdown",
   "metadata": {},
   "source": [
    "Build train, test, validation data"
   ]
  },
  {
   "cell_type": "code",
   "execution_count": 243,
   "metadata": {},
   "outputs": [],
   "source": [
    "X_train_indices = sentences_to_indices(X_train, words_to_index, 1500)\n",
    "Y_train_oh = convert_to_one_hot(Y_train, C = 20)\n",
    "X_test_indices = sentences_to_indices(X_test, words_to_index, 1500)\n",
    "Y_test_oh = convert_to_one_hot(Y_test, C = 20)\n",
    "X_val_indices = sentences_to_indices(X_val, words_to_index, 1500)\n",
    "Y_val_oh = convert_to_one_hot(Y_val, C = 20)"
   ]
  },
  {
   "cell_type": "markdown",
   "metadata": {},
   "source": [
    "Build 1D Convolutional Neural Network for classifying documents into clusters with following structure:  \n",
    "Embedding Layer loaded with pre-trained GloVe vectors  \n",
    "Dropout of 20%\n",
    "1D Convolution Layer with best_n_filters, best_filter_size  \n",
    "Global Averaging Layer  \n",
    "Fully Connected Layer with 100 units  \n",
    "Fully Connected Layer with 20 units\n",
    "Softmax Layer"
   ]
  },
  {
   "cell_type": "markdown",
   "metadata": {},
   "source": [
    "Use Validation Set to get best number of filters and filter size.  \n",
    "Output of next cell is hidden for readability."
   ]
  },
  {
   "cell_type": "code",
   "execution_count": null,
   "metadata": {
    "_kg_hide-output": true
   },
   "outputs": [],
   "source": [
    "def cnn(input_shape, word_to_vec_map, word_to_index,n_filters,filter_size):\n",
    "    sentence_indices = Input(shape=input_shape, dtype='int32')\n",
    "    embedding_layer = pretrained_embedding_layer(word_to_vec_map, word_to_index)\n",
    "    embeddings = embedding_layer(sentence_indices)\n",
    "    X = Dropout(rate=0.2)(embeddings)\n",
    "    X = Conv1D(filters=n_filters,kernel_size=filter_size,activation='relu')(X)\n",
    "    X = GlobalAveragePooling1D()(X)\n",
    "    X = Dense(units=100)(X)\n",
    "    X = Dropout(rate=0.4)(X)\n",
    "    X = Activation('relu')(X)\n",
    "    X = Dense(units=20)(X)\n",
    "    X = Activation('softmax')(X)\n",
    "    model = Model(inputs=sentence_indices, outputs=X) \n",
    "    return model\n",
    "\n",
    "n_filters_list, filter_size_list = [64,128,256,512,1024], [3,5,10,15,20]\n",
    "best_acc = 0\n",
    "best_n_filters, best_filter_size = 0, 0\n",
    "for n_filters in n_filters_list:\n",
    "    print(n_filters)\n",
    "    for filter_size in filter_size_list:\n",
    "        model = cnn((1500,), word_to_vec_map, words_to_index, n_filters, filter_size)\n",
    "        model.compile(loss='categorical_crossentropy', optimizer='adam', metrics=['accuracy'])\n",
    "        model.fit(X_train_indices, Y_train_oh, epochs = 30, batch_size = 32, shuffle=True)\n",
    "        loss, acc = model.evaluate(X_val_indices, Y_val_oh)\n",
    "        if acc > best_acc:\n",
    "            best_acc = acc\n",
    "            best_n_filters = n_filters\n",
    "            best_filter_size = filter_size"
   ]
  },
  {
   "cell_type": "code",
   "execution_count": 281,
   "metadata": {},
   "outputs": [
    {
     "name": "stdout",
     "output_type": "stream",
     "text": [
      "512 5\n"
     ]
    }
   ],
   "source": [
    "print(best_n_filters, best_filter_size)"
   ]
  },
  {
   "cell_type": "markdown",
   "metadata": {},
   "source": [
    "Train the model using best filter size and best number of filters."
   ]
  },
  {
   "cell_type": "code",
   "execution_count": 282,
   "metadata": {},
   "outputs": [
    {
     "name": "stdout",
     "output_type": "stream",
     "text": [
      "Model: \"model_86\"\n",
      "_________________________________________________________________\n",
      "Layer (type)                 Output Shape              Param #   \n",
      "=================================================================\n",
      "input_88 (InputLayer)        (None, 1500)              0         \n",
      "_________________________________________________________________\n",
      "embedding_88 (Embedding)     (None, 1500, 50)          20000050  \n",
      "_________________________________________________________________\n",
      "dropout_79 (Dropout)         (None, 1500, 50)          0         \n",
      "_________________________________________________________________\n",
      "conv1d_88 (Conv1D)           (None, 1496, 512)         128512    \n",
      "_________________________________________________________________\n",
      "global_average_pooling1d_83  (None, 512)               0         \n",
      "_________________________________________________________________\n",
      "dense_120 (Dense)            (None, 100)               51300     \n",
      "_________________________________________________________________\n",
      "dropout_80 (Dropout)         (None, 100)               0         \n",
      "_________________________________________________________________\n",
      "activation_120 (Activation)  (None, 100)               0         \n",
      "_________________________________________________________________\n",
      "dense_121 (Dense)            (None, 20)                2020      \n",
      "_________________________________________________________________\n",
      "activation_121 (Activation)  (None, 20)                0         \n",
      "=================================================================\n",
      "Total params: 20,181,882\n",
      "Trainable params: 181,832\n",
      "Non-trainable params: 20,000,050\n",
      "_________________________________________________________________\n"
     ]
    }
   ],
   "source": [
    "model = cnn((1500,), word_to_vec_map, words_to_index, best_n_filters, best_filter_size)\n",
    "model.summary()"
   ]
  },
  {
   "cell_type": "code",
   "execution_count": 283,
   "metadata": {
    "_kg_hide-output": true
   },
   "outputs": [
    {
     "name": "stdout",
     "output_type": "stream",
     "text": [
      "Epoch 1/300\n",
      "5000/5000 [==============================] - 2s 409us/step - loss: 2.1977 - accuracy: 0.3434\n",
      "Epoch 2/300\n",
      "5000/5000 [==============================] - 2s 361us/step - loss: 1.7402 - accuracy: 0.4802\n",
      "Epoch 3/300\n",
      "5000/5000 [==============================] - 2s 381us/step - loss: 1.5863 - accuracy: 0.5190\n",
      "Epoch 4/300\n",
      "5000/5000 [==============================] - 2s 365us/step - loss: 1.4964 - accuracy: 0.5440\n",
      "Epoch 5/300\n",
      "5000/5000 [==============================] - 2s 355us/step - loss: 1.4531 - accuracy: 0.5492\n",
      "Epoch 6/300\n",
      "5000/5000 [==============================] - 2s 355us/step - loss: 1.3865 - accuracy: 0.5644\n",
      "Epoch 7/300\n",
      "5000/5000 [==============================] - 2s 355us/step - loss: 1.3593 - accuracy: 0.5736\n",
      "Epoch 8/300\n",
      "5000/5000 [==============================] - 2s 352us/step - loss: 1.3297 - accuracy: 0.5884\n",
      "Epoch 9/300\n",
      "5000/5000 [==============================] - 2s 358us/step - loss: 1.2852 - accuracy: 0.5918\n",
      "Epoch 10/300\n",
      "5000/5000 [==============================] - 2s 361us/step - loss: 1.2550 - accuracy: 0.5964\n",
      "Epoch 11/300\n",
      "5000/5000 [==============================] - 2s 352us/step - loss: 1.2340 - accuracy: 0.6030\n",
      "Epoch 12/300\n",
      "5000/5000 [==============================] - 2s 354us/step - loss: 1.2055 - accuracy: 0.6110\n",
      "Epoch 13/300\n",
      "5000/5000 [==============================] - 2s 351us/step - loss: 1.1767 - accuracy: 0.6250\n",
      "Epoch 14/300\n",
      "5000/5000 [==============================] - 2s 354us/step - loss: 1.1812 - accuracy: 0.6182\n",
      "Epoch 15/300\n",
      "5000/5000 [==============================] - 2s 357us/step - loss: 1.1549 - accuracy: 0.6274\n",
      "Epoch 16/300\n",
      "5000/5000 [==============================] - 2s 366us/step - loss: 1.1279 - accuracy: 0.6358\n",
      "Epoch 17/300\n",
      "5000/5000 [==============================] - 2s 358us/step - loss: 1.1014 - accuracy: 0.6358\n",
      "Epoch 18/300\n",
      "5000/5000 [==============================] - 2s 350us/step - loss: 1.0921 - accuracy: 0.6494\n",
      "Epoch 19/300\n",
      "5000/5000 [==============================] - 2s 357us/step - loss: 1.0834 - accuracy: 0.6474\n",
      "Epoch 20/300\n",
      "5000/5000 [==============================] - 2s 351us/step - loss: 1.0815 - accuracy: 0.6528\n",
      "Epoch 21/300\n",
      "5000/5000 [==============================] - 2s 360us/step - loss: 1.0535 - accuracy: 0.6596\n",
      "Epoch 22/300\n",
      "5000/5000 [==============================] - 2s 375us/step - loss: 1.0609 - accuracy: 0.6556\n",
      "Epoch 23/300\n",
      "5000/5000 [==============================] - 2s 353us/step - loss: 1.0487 - accuracy: 0.6532\n",
      "Epoch 24/300\n",
      "5000/5000 [==============================] - 2s 351us/step - loss: 1.0267 - accuracy: 0.6688\n",
      "Epoch 25/300\n",
      "5000/5000 [==============================] - 2s 351us/step - loss: 1.0094 - accuracy: 0.6710\n",
      "Epoch 26/300\n",
      "5000/5000 [==============================] - 2s 351us/step - loss: 0.9954 - accuracy: 0.6774\n",
      "Epoch 27/300\n",
      "5000/5000 [==============================] - 2s 356us/step - loss: 0.9808 - accuracy: 0.6814\n",
      "Epoch 28/300\n",
      "5000/5000 [==============================] - 2s 386us/step - loss: 0.9849 - accuracy: 0.6786\n",
      "Epoch 29/300\n",
      "5000/5000 [==============================] - 2s 360us/step - loss: 0.9877 - accuracy: 0.6692\n",
      "Epoch 30/300\n",
      "5000/5000 [==============================] - 2s 400us/step - loss: 0.9564 - accuracy: 0.6800\n",
      "Epoch 31/300\n",
      "5000/5000 [==============================] - 2s 367us/step - loss: 0.9518 - accuracy: 0.6834\n",
      "Epoch 32/300\n",
      "5000/5000 [==============================] - 2s 371us/step - loss: 0.9495 - accuracy: 0.6846\n",
      "Epoch 33/300\n",
      "5000/5000 [==============================] - 2s 371us/step - loss: 0.9523 - accuracy: 0.6844\n",
      "Epoch 34/300\n",
      "5000/5000 [==============================] - 2s 387us/step - loss: 0.9395 - accuracy: 0.6814\n",
      "Epoch 35/300\n",
      "5000/5000 [==============================] - 2s 367us/step - loss: 0.9328 - accuracy: 0.6920\n",
      "Epoch 36/300\n",
      "5000/5000 [==============================] - 2s 361us/step - loss: 0.9039 - accuracy: 0.6984\n",
      "Epoch 37/300\n",
      "5000/5000 [==============================] - 2s 366us/step - loss: 0.9248 - accuracy: 0.6908\n",
      "Epoch 38/300\n",
      "5000/5000 [==============================] - 2s 360us/step - loss: 0.8945 - accuracy: 0.7018\n",
      "Epoch 39/300\n",
      "5000/5000 [==============================] - 2s 362us/step - loss: 0.9023 - accuracy: 0.6976\n",
      "Epoch 40/300\n",
      "5000/5000 [==============================] - 2s 377us/step - loss: 0.9010 - accuracy: 0.6990\n",
      "Epoch 41/300\n",
      "5000/5000 [==============================] - 2s 356us/step - loss: 0.8838 - accuracy: 0.7008\n",
      "Epoch 42/300\n",
      "5000/5000 [==============================] - 2s 358us/step - loss: 0.8689 - accuracy: 0.7110\n",
      "Epoch 43/300\n",
      "5000/5000 [==============================] - 2s 359us/step - loss: 0.8619 - accuracy: 0.7130\n",
      "Epoch 44/300\n",
      "5000/5000 [==============================] - 2s 354us/step - loss: 0.8525 - accuracy: 0.7172\n",
      "Epoch 45/300\n",
      "5000/5000 [==============================] - 2s 354us/step - loss: 0.8655 - accuracy: 0.7098\n",
      "Epoch 46/300\n",
      "5000/5000 [==============================] - 2s 365us/step - loss: 0.8460 - accuracy: 0.7114\n",
      "Epoch 47/300\n",
      "5000/5000 [==============================] - 2s 354us/step - loss: 0.8373 - accuracy: 0.7122\n",
      "Epoch 48/300\n",
      "5000/5000 [==============================] - 2s 356us/step - loss: 0.8494 - accuracy: 0.7072\n",
      "Epoch 49/300\n",
      "5000/5000 [==============================] - 2s 354us/step - loss: 0.8335 - accuracy: 0.7246\n",
      "Epoch 50/300\n",
      "5000/5000 [==============================] - 2s 352us/step - loss: 0.8198 - accuracy: 0.7230\n",
      "Epoch 51/300\n",
      "5000/5000 [==============================] - 2s 353us/step - loss: 0.8298 - accuracy: 0.7106\n",
      "Epoch 52/300\n",
      "5000/5000 [==============================] - 2s 362us/step - loss: 0.8180 - accuracy: 0.7142\n",
      "Epoch 53/300\n",
      "5000/5000 [==============================] - 2s 353us/step - loss: 0.8061 - accuracy: 0.7270\n",
      "Epoch 54/300\n",
      "5000/5000 [==============================] - 2s 355us/step - loss: 0.7981 - accuracy: 0.7278\n",
      "Epoch 55/300\n",
      "5000/5000 [==============================] - 2s 353us/step - loss: 0.8024 - accuracy: 0.7268\n",
      "Epoch 56/300\n",
      "5000/5000 [==============================] - 2s 354us/step - loss: 0.7895 - accuracy: 0.7238\n",
      "Epoch 57/300\n",
      "5000/5000 [==============================] - 2s 352us/step - loss: 0.7884 - accuracy: 0.7340\n",
      "Epoch 58/300\n",
      "5000/5000 [==============================] - 2s 370us/step - loss: 0.7795 - accuracy: 0.7312\n",
      "Epoch 59/300\n",
      "5000/5000 [==============================] - 2s 372us/step - loss: 0.7715 - accuracy: 0.7334\n",
      "Epoch 60/300\n",
      "5000/5000 [==============================] - 2s 356us/step - loss: 0.7633 - accuracy: 0.7382\n",
      "Epoch 61/300\n",
      "5000/5000 [==============================] - 2s 367us/step - loss: 0.7518 - accuracy: 0.7370\n",
      "Epoch 62/300\n",
      "5000/5000 [==============================] - 2s 352us/step - loss: 0.7552 - accuracy: 0.7422\n",
      "Epoch 63/300\n",
      "5000/5000 [==============================] - 2s 386us/step - loss: 0.7525 - accuracy: 0.7344\n",
      "Epoch 64/300\n",
      "5000/5000 [==============================] - 2s 366us/step - loss: 0.7523 - accuracy: 0.7368\n",
      "Epoch 65/300\n",
      "5000/5000 [==============================] - 2s 361us/step - loss: 0.7357 - accuracy: 0.7466\n",
      "Epoch 66/300\n",
      "5000/5000 [==============================] - 2s 353us/step - loss: 0.7307 - accuracy: 0.7426\n",
      "Epoch 67/300\n",
      "5000/5000 [==============================] - 2s 367us/step - loss: 0.7279 - accuracy: 0.7434\n",
      "Epoch 68/300\n",
      "5000/5000 [==============================] - 2s 363us/step - loss: 0.7172 - accuracy: 0.7530\n",
      "Epoch 69/300\n",
      "5000/5000 [==============================] - 2s 361us/step - loss: 0.7245 - accuracy: 0.7548\n",
      "Epoch 70/300\n",
      "5000/5000 [==============================] - 2s 365us/step - loss: 0.7115 - accuracy: 0.7534\n",
      "Epoch 71/300\n",
      "5000/5000 [==============================] - 2s 368us/step - loss: 0.7157 - accuracy: 0.7524\n",
      "Epoch 72/300\n",
      "5000/5000 [==============================] - 2s 356us/step - loss: 0.7041 - accuracy: 0.7496\n",
      "Epoch 73/300\n",
      "5000/5000 [==============================] - 2s 354us/step - loss: 0.7023 - accuracy: 0.7472\n",
      "Epoch 74/300\n",
      "5000/5000 [==============================] - 2s 356us/step - loss: 0.6945 - accuracy: 0.7598\n",
      "Epoch 75/300\n",
      "5000/5000 [==============================] - 2s 354us/step - loss: 0.7049 - accuracy: 0.7544\n",
      "Epoch 76/300\n",
      "5000/5000 [==============================] - 2s 366us/step - loss: 0.6800 - accuracy: 0.7610\n",
      "Epoch 77/300\n",
      "5000/5000 [==============================] - 2s 374us/step - loss: 0.6931 - accuracy: 0.7610\n",
      "Epoch 78/300\n",
      "5000/5000 [==============================] - 2s 351us/step - loss: 0.6765 - accuracy: 0.7670\n",
      "Epoch 79/300\n",
      "5000/5000 [==============================] - 2s 352us/step - loss: 0.6686 - accuracy: 0.7646\n",
      "Epoch 80/300\n",
      "5000/5000 [==============================] - 2s 351us/step - loss: 0.6675 - accuracy: 0.7612\n",
      "Epoch 81/300\n",
      "5000/5000 [==============================] - 2s 353us/step - loss: 0.6700 - accuracy: 0.7666\n",
      "Epoch 82/300\n",
      "5000/5000 [==============================] - 2s 354us/step - loss: 0.6751 - accuracy: 0.7608\n",
      "Epoch 83/300\n",
      "5000/5000 [==============================] - 2s 365us/step - loss: 0.6496 - accuracy: 0.7736\n",
      "Epoch 84/300\n",
      "5000/5000 [==============================] - 2s 353us/step - loss: 0.6372 - accuracy: 0.7780\n",
      "Epoch 85/300\n",
      "5000/5000 [==============================] - 2s 354us/step - loss: 0.6377 - accuracy: 0.7684\n",
      "Epoch 86/300\n",
      "5000/5000 [==============================] - 2s 354us/step - loss: 0.6301 - accuracy: 0.7790\n",
      "Epoch 87/300\n",
      "5000/5000 [==============================] - 2s 356us/step - loss: 0.6322 - accuracy: 0.7842\n",
      "Epoch 88/300\n",
      "5000/5000 [==============================] - 2s 355us/step - loss: 0.6253 - accuracy: 0.7838\n",
      "Epoch 89/300\n",
      "5000/5000 [==============================] - 2s 365us/step - loss: 0.6057 - accuracy: 0.7864\n",
      "Epoch 90/300\n",
      "5000/5000 [==============================] - 2s 353us/step - loss: 0.6280 - accuracy: 0.7834\n",
      "Epoch 91/300\n",
      "5000/5000 [==============================] - 2s 353us/step - loss: 0.6393 - accuracy: 0.7780\n",
      "Epoch 92/300\n",
      "5000/5000 [==============================] - 2s 354us/step - loss: 0.6289 - accuracy: 0.7852\n",
      "Epoch 93/300\n",
      "5000/5000 [==============================] - 2s 360us/step - loss: 0.6105 - accuracy: 0.7838\n",
      "Epoch 94/300\n",
      "5000/5000 [==============================] - 2s 365us/step - loss: 0.6040 - accuracy: 0.7872\n",
      "Epoch 95/300\n",
      "5000/5000 [==============================] - 2s 373us/step - loss: 0.6056 - accuracy: 0.7872\n",
      "Epoch 96/300\n",
      "5000/5000 [==============================] - 2s 378us/step - loss: 0.5995 - accuracy: 0.7872\n",
      "Epoch 97/300\n",
      "5000/5000 [==============================] - 2s 380us/step - loss: 0.5926 - accuracy: 0.7868\n",
      "Epoch 98/300\n",
      "5000/5000 [==============================] - 2s 361us/step - loss: 0.6039 - accuracy: 0.7852\n",
      "Epoch 99/300\n",
      "5000/5000 [==============================] - 2s 357us/step - loss: 0.5803 - accuracy: 0.7924\n",
      "Epoch 100/300\n",
      "5000/5000 [==============================] - 2s 370us/step - loss: 0.5872 - accuracy: 0.7950\n",
      "Epoch 101/300\n",
      "5000/5000 [==============================] - 2s 371us/step - loss: 0.5835 - accuracy: 0.7918\n",
      "Epoch 102/300\n",
      "5000/5000 [==============================] - 2s 362us/step - loss: 0.5788 - accuracy: 0.7950\n",
      "Epoch 103/300\n",
      "5000/5000 [==============================] - 2s 364us/step - loss: 0.5764 - accuracy: 0.7920\n",
      "Epoch 104/300\n",
      "5000/5000 [==============================] - 2s 357us/step - loss: 0.5698 - accuracy: 0.7992\n",
      "Epoch 105/300\n",
      "5000/5000 [==============================] - 2s 354us/step - loss: 0.5685 - accuracy: 0.7984\n",
      "Epoch 106/300\n",
      "5000/5000 [==============================] - 2s 353us/step - loss: 0.5441 - accuracy: 0.8092\n",
      "Epoch 107/300\n",
      "5000/5000 [==============================] - 2s 367us/step - loss: 0.5572 - accuracy: 0.8050\n",
      "Epoch 108/300\n",
      "5000/5000 [==============================] - 2s 352us/step - loss: 0.5605 - accuracy: 0.8042\n",
      "Epoch 109/300\n",
      "5000/5000 [==============================] - 2s 358us/step - loss: 0.5611 - accuracy: 0.8052\n",
      "Epoch 110/300\n",
      "5000/5000 [==============================] - 2s 353us/step - loss: 0.5508 - accuracy: 0.8070\n",
      "Epoch 111/300\n",
      "5000/5000 [==============================] - 2s 354us/step - loss: 0.5351 - accuracy: 0.8090\n",
      "Epoch 112/300\n",
      "5000/5000 [==============================] - 2s 354us/step - loss: 0.5507 - accuracy: 0.7966\n",
      "Epoch 113/300\n",
      "5000/5000 [==============================] - 2s 360us/step - loss: 0.5370 - accuracy: 0.8118\n",
      "Epoch 114/300\n",
      "5000/5000 [==============================] - 2s 363us/step - loss: 0.5124 - accuracy: 0.8132\n",
      "Epoch 115/300\n",
      "5000/5000 [==============================] - 2s 365us/step - loss: 0.5252 - accuracy: 0.8164\n",
      "Epoch 116/300\n",
      "5000/5000 [==============================] - 2s 352us/step - loss: 0.5367 - accuracy: 0.8090\n",
      "Epoch 117/300\n",
      "5000/5000 [==============================] - 2s 353us/step - loss: 0.5179 - accuracy: 0.8154\n",
      "Epoch 118/300\n",
      "5000/5000 [==============================] - 2s 352us/step - loss: 0.5068 - accuracy: 0.8242\n",
      "Epoch 119/300\n",
      "5000/5000 [==============================] - 2s 367us/step - loss: 0.5055 - accuracy: 0.8192\n",
      "Epoch 120/300\n",
      "5000/5000 [==============================] - 2s 367us/step - loss: 0.5001 - accuracy: 0.8156\n",
      "Epoch 121/300\n",
      "5000/5000 [==============================] - 2s 354us/step - loss: 0.5018 - accuracy: 0.8214\n",
      "Epoch 122/300\n",
      "5000/5000 [==============================] - 2s 353us/step - loss: 0.5027 - accuracy: 0.8266\n",
      "Epoch 123/300\n",
      "5000/5000 [==============================] - 2s 354us/step - loss: 0.4867 - accuracy: 0.8250\n",
      "Epoch 124/300\n",
      "5000/5000 [==============================] - 2s 355us/step - loss: 0.4907 - accuracy: 0.8242\n",
      "Epoch 125/300\n",
      "5000/5000 [==============================] - 2s 358us/step - loss: 0.5025 - accuracy: 0.8214\n",
      "Epoch 126/300\n",
      "5000/5000 [==============================] - 2s 362us/step - loss: 0.4798 - accuracy: 0.8294\n",
      "Epoch 127/300\n",
      "5000/5000 [==============================] - 2s 366us/step - loss: 0.4787 - accuracy: 0.8270\n",
      "Epoch 128/300\n",
      "5000/5000 [==============================] - 2s 354us/step - loss: 0.4839 - accuracy: 0.8258\n",
      "Epoch 129/300\n",
      "5000/5000 [==============================] - 2s 361us/step - loss: 0.4967 - accuracy: 0.8250\n",
      "Epoch 130/300\n",
      "5000/5000 [==============================] - 2s 386us/step - loss: 0.4780 - accuracy: 0.8312\n",
      "Epoch 131/300\n",
      "5000/5000 [==============================] - 2s 367us/step - loss: 0.4842 - accuracy: 0.8230\n",
      "Epoch 132/300\n",
      "5000/5000 [==============================] - 2s 370us/step - loss: 0.4668 - accuracy: 0.8324\n",
      "Epoch 133/300\n",
      "5000/5000 [==============================] - 2s 386us/step - loss: 0.4806 - accuracy: 0.8246\n",
      "Epoch 134/300\n",
      "5000/5000 [==============================] - 2s 360us/step - loss: 0.4586 - accuracy: 0.8366\n",
      "Epoch 135/300\n",
      "5000/5000 [==============================] - 2s 371us/step - loss: 0.4444 - accuracy: 0.8432\n",
      "Epoch 136/300\n",
      "5000/5000 [==============================] - 2s 367us/step - loss: 0.4792 - accuracy: 0.8288\n",
      "Epoch 137/300\n",
      "5000/5000 [==============================] - 2s 371us/step - loss: 0.4543 - accuracy: 0.8362\n",
      "Epoch 138/300\n",
      "5000/5000 [==============================] - 2s 360us/step - loss: 0.4614 - accuracy: 0.8406\n",
      "Epoch 139/300\n",
      "5000/5000 [==============================] - 2s 352us/step - loss: 0.4549 - accuracy: 0.8426\n",
      "Epoch 140/300\n",
      "5000/5000 [==============================] - 2s 355us/step - loss: 0.4447 - accuracy: 0.8428\n",
      "Epoch 141/300\n",
      "5000/5000 [==============================] - 2s 357us/step - loss: 0.4363 - accuracy: 0.8400\n",
      "Epoch 142/300\n",
      "5000/5000 [==============================] - 2s 354us/step - loss: 0.4553 - accuracy: 0.8354\n",
      "Epoch 143/300\n",
      "5000/5000 [==============================] - 2s 363us/step - loss: 0.4229 - accuracy: 0.8516\n",
      "Epoch 144/300\n",
      "5000/5000 [==============================] - 2s 358us/step - loss: 0.4377 - accuracy: 0.8438\n",
      "Epoch 145/300\n",
      "5000/5000 [==============================] - 2s 351us/step - loss: 0.4358 - accuracy: 0.8406\n",
      "Epoch 146/300\n",
      "5000/5000 [==============================] - 2s 352us/step - loss: 0.4361 - accuracy: 0.8432\n",
      "Epoch 147/300\n",
      "5000/5000 [==============================] - 2s 353us/step - loss: 0.4300 - accuracy: 0.8446\n",
      "Epoch 148/300\n",
      "5000/5000 [==============================] - 2s 356us/step - loss: 0.4184 - accuracy: 0.8478\n",
      "Epoch 149/300\n",
      "5000/5000 [==============================] - 2s 354us/step - loss: 0.4271 - accuracy: 0.8498\n",
      "Epoch 150/300\n",
      "5000/5000 [==============================] - 2s 364us/step - loss: 0.4220 - accuracy: 0.8446\n",
      "Epoch 151/300\n",
      "5000/5000 [==============================] - 2s 356us/step - loss: 0.4090 - accuracy: 0.8450\n",
      "Epoch 152/300\n",
      "5000/5000 [==============================] - 2s 368us/step - loss: 0.4148 - accuracy: 0.8450\n",
      "Epoch 153/300\n",
      "5000/5000 [==============================] - 2s 353us/step - loss: 0.4180 - accuracy: 0.8484\n",
      "Epoch 154/300\n"
     ]
    },
    {
     "name": "stdout",
     "output_type": "stream",
     "text": [
      "5000/5000 [==============================] - 2s 355us/step - loss: 0.4125 - accuracy: 0.8508\n",
      "Epoch 155/300\n",
      "5000/5000 [==============================] - 2s 354us/step - loss: 0.4060 - accuracy: 0.8474\n",
      "Epoch 156/300\n",
      "5000/5000 [==============================] - 2s 367us/step - loss: 0.4077 - accuracy: 0.8540\n",
      "Epoch 157/300\n",
      "5000/5000 [==============================] - 2s 357us/step - loss: 0.3844 - accuracy: 0.8638\n",
      "Epoch 158/300\n",
      "5000/5000 [==============================] - 2s 352us/step - loss: 0.3937 - accuracy: 0.8580\n",
      "Epoch 159/300\n",
      "5000/5000 [==============================] - 2s 355us/step - loss: 0.3893 - accuracy: 0.8564\n",
      "Epoch 160/300\n",
      "5000/5000 [==============================] - 2s 353us/step - loss: 0.3997 - accuracy: 0.8594\n",
      "Epoch 161/300\n",
      "5000/5000 [==============================] - 2s 371us/step - loss: 0.3746 - accuracy: 0.8740\n",
      "Epoch 162/300\n",
      "5000/5000 [==============================] - 2s 367us/step - loss: 0.4013 - accuracy: 0.8534\n",
      "Epoch 163/300\n",
      "5000/5000 [==============================] - 2s 386us/step - loss: 0.3763 - accuracy: 0.8656\n",
      "Epoch 164/300\n",
      "5000/5000 [==============================] - 2s 359us/step - loss: 0.4027 - accuracy: 0.8516\n",
      "Epoch 165/300\n",
      "5000/5000 [==============================] - 2s 365us/step - loss: 0.3733 - accuracy: 0.8666\n",
      "Epoch 166/300\n",
      "5000/5000 [==============================] - 2s 360us/step - loss: 0.3746 - accuracy: 0.8676\n",
      "Epoch 167/300\n",
      "5000/5000 [==============================] - 2s 358us/step - loss: 0.3678 - accuracy: 0.8698\n",
      "Epoch 168/300\n",
      "5000/5000 [==============================] - 2s 372us/step - loss: 0.3494 - accuracy: 0.8710\n",
      "Epoch 169/300\n",
      "5000/5000 [==============================] - 2s 357us/step - loss: 0.3746 - accuracy: 0.8624\n",
      "Epoch 170/300\n",
      "5000/5000 [==============================] - 2s 362us/step - loss: 0.3767 - accuracy: 0.8666\n",
      "Epoch 171/300\n",
      "5000/5000 [==============================] - 2s 365us/step - loss: 0.3650 - accuracy: 0.8676\n",
      "Epoch 172/300\n",
      "5000/5000 [==============================] - 2s 359us/step - loss: 0.3507 - accuracy: 0.8750\n",
      "Epoch 173/300\n",
      "5000/5000 [==============================] - 2s 356us/step - loss: 0.3504 - accuracy: 0.8712\n",
      "Epoch 174/300\n",
      "5000/5000 [==============================] - 2s 372us/step - loss: 0.3568 - accuracy: 0.8672\n",
      "Epoch 175/300\n",
      "5000/5000 [==============================] - 2s 355us/step - loss: 0.3562 - accuracy: 0.8686\n",
      "Epoch 176/300\n",
      "5000/5000 [==============================] - 2s 359us/step - loss: 0.3488 - accuracy: 0.8760\n",
      "Epoch 177/300\n",
      "5000/5000 [==============================] - 2s 352us/step - loss: 0.3369 - accuracy: 0.8776\n",
      "Epoch 178/300\n",
      "5000/5000 [==============================] - 2s 352us/step - loss: 0.3503 - accuracy: 0.8798\n",
      "Epoch 179/300\n",
      "5000/5000 [==============================] - 2s 352us/step - loss: 0.3475 - accuracy: 0.8722\n",
      "Epoch 180/300\n",
      "5000/5000 [==============================] - 2s 360us/step - loss: 0.3270 - accuracy: 0.8744\n",
      "Epoch 181/300\n",
      "5000/5000 [==============================] - 2s 359us/step - loss: 0.3378 - accuracy: 0.8794\n",
      "Epoch 182/300\n",
      "5000/5000 [==============================] - 2s 353us/step - loss: 0.3210 - accuracy: 0.8862\n",
      "Epoch 183/300\n",
      "5000/5000 [==============================] - 2s 352us/step - loss: 0.3531 - accuracy: 0.8682\n",
      "Epoch 184/300\n",
      "5000/5000 [==============================] - 2s 353us/step - loss: 0.3284 - accuracy: 0.8792\n",
      "Epoch 185/300\n",
      "5000/5000 [==============================] - 2s 353us/step - loss: 0.3404 - accuracy: 0.8762\n",
      "Epoch 186/300\n",
      "5000/5000 [==============================] - 2s 358us/step - loss: 0.3285 - accuracy: 0.8798\n",
      "Epoch 187/300\n",
      "5000/5000 [==============================] - 2s 366us/step - loss: 0.3290 - accuracy: 0.8800\n",
      "Epoch 188/300\n",
      "5000/5000 [==============================] - 2s 353us/step - loss: 0.3288 - accuracy: 0.8874\n",
      "Epoch 189/300\n",
      "5000/5000 [==============================] - 2s 361us/step - loss: 0.3012 - accuracy: 0.8952\n",
      "Epoch 190/300\n",
      "5000/5000 [==============================] - 2s 360us/step - loss: 0.3337 - accuracy: 0.8806\n",
      "Epoch 191/300\n",
      "5000/5000 [==============================] - 2s 351us/step - loss: 0.3085 - accuracy: 0.8846\n",
      "Epoch 192/300\n",
      "5000/5000 [==============================] - 2s 355us/step - loss: 0.3076 - accuracy: 0.8942\n",
      "Epoch 193/300\n",
      "5000/5000 [==============================] - 2s 365us/step - loss: 0.3134 - accuracy: 0.8896\n",
      "Epoch 194/300\n",
      "5000/5000 [==============================] - 2s 367us/step - loss: 0.3330 - accuracy: 0.8790\n",
      "Epoch 195/300\n",
      "5000/5000 [==============================] - 2s 352us/step - loss: 0.3172 - accuracy: 0.8868\n",
      "Epoch 196/300\n",
      "5000/5000 [==============================] - 2s 361us/step - loss: 0.3064 - accuracy: 0.8894\n",
      "Epoch 197/300\n",
      "5000/5000 [==============================] - 2s 388us/step - loss: 0.2922 - accuracy: 0.8940\n",
      "Epoch 198/300\n",
      "5000/5000 [==============================] - 2s 367us/step - loss: 0.3071 - accuracy: 0.8872\n",
      "Epoch 199/300\n",
      "5000/5000 [==============================] - 2s 375us/step - loss: 0.3138 - accuracy: 0.8828\n",
      "Epoch 200/300\n",
      "5000/5000 [==============================] - 2s 357us/step - loss: 0.3054 - accuracy: 0.8926\n",
      "Epoch 201/300\n",
      "5000/5000 [==============================] - 2s 368us/step - loss: 0.3122 - accuracy: 0.8850\n",
      "Epoch 202/300\n",
      "5000/5000 [==============================] - 2s 370us/step - loss: 0.2959 - accuracy: 0.8902\n",
      "Epoch 203/300\n",
      "5000/5000 [==============================] - 2s 368us/step - loss: 0.2950 - accuracy: 0.8962\n",
      "Epoch 204/300\n",
      "5000/5000 [==============================] - 2s 375us/step - loss: 0.2829 - accuracy: 0.9010\n",
      "Epoch 205/300\n",
      "5000/5000 [==============================] - 2s 373us/step - loss: 0.2816 - accuracy: 0.8972\n",
      "Epoch 206/300\n",
      "5000/5000 [==============================] - 2s 358us/step - loss: 0.2887 - accuracy: 0.8958\n",
      "Epoch 207/300\n",
      "5000/5000 [==============================] - 2s 360us/step - loss: 0.2913 - accuracy: 0.8956\n",
      "Epoch 208/300\n",
      "5000/5000 [==============================] - 2s 364us/step - loss: 0.2806 - accuracy: 0.8962\n",
      "Epoch 209/300\n",
      "5000/5000 [==============================] - 2s 362us/step - loss: 0.2899 - accuracy: 0.8964\n",
      "Epoch 210/300\n",
      "5000/5000 [==============================] - 2s 358us/step - loss: 0.2908 - accuracy: 0.8922\n",
      "Epoch 211/300\n",
      "5000/5000 [==============================] - 2s 366us/step - loss: 0.2782 - accuracy: 0.8992\n",
      "Epoch 212/300\n",
      "5000/5000 [==============================] - 2s 351us/step - loss: 0.2738 - accuracy: 0.9024\n",
      "Epoch 213/300\n",
      "5000/5000 [==============================] - 2s 352us/step - loss: 0.2867 - accuracy: 0.8934\n",
      "Epoch 214/300\n",
      "5000/5000 [==============================] - 2s 353us/step - loss: 0.2609 - accuracy: 0.9072\n",
      "Epoch 215/300\n",
      "5000/5000 [==============================] - 2s 352us/step - loss: 0.2509 - accuracy: 0.9096\n",
      "Epoch 216/300\n",
      "5000/5000 [==============================] - 2s 354us/step - loss: 0.2697 - accuracy: 0.9004\n",
      "Epoch 217/300\n",
      "5000/5000 [==============================] - 2s 368us/step - loss: 0.2719 - accuracy: 0.9022\n",
      "Epoch 218/300\n",
      "5000/5000 [==============================] - 2s 354us/step - loss: 0.2674 - accuracy: 0.9006\n",
      "Epoch 219/300\n",
      "5000/5000 [==============================] - 2s 352us/step - loss: 0.2643 - accuracy: 0.9082\n",
      "Epoch 220/300\n",
      "5000/5000 [==============================] - 2s 354us/step - loss: 0.2669 - accuracy: 0.9088\n",
      "Epoch 221/300\n",
      "5000/5000 [==============================] - 2s 356us/step - loss: 0.2805 - accuracy: 0.8968\n",
      "Epoch 222/300\n",
      "5000/5000 [==============================] - 2s 352us/step - loss: 0.2628 - accuracy: 0.9018\n",
      "Epoch 223/300\n",
      "5000/5000 [==============================] - 2s 364us/step - loss: 0.2472 - accuracy: 0.9116\n",
      "Epoch 224/300\n",
      "5000/5000 [==============================] - 2s 354us/step - loss: 0.2482 - accuracy: 0.9082\n",
      "Epoch 225/300\n",
      "5000/5000 [==============================] - 2s 355us/step - loss: 0.2579 - accuracy: 0.9086\n",
      "Epoch 226/300\n",
      "5000/5000 [==============================] - 2s 369us/step - loss: 0.2660 - accuracy: 0.9036\n",
      "Epoch 227/300\n",
      "5000/5000 [==============================] - 2s 370us/step - loss: 0.2464 - accuracy: 0.9116\n",
      "Epoch 228/300\n",
      "5000/5000 [==============================] - 2s 355us/step - loss: 0.2536 - accuracy: 0.9096\n",
      "Epoch 229/300\n",
      "5000/5000 [==============================] - 2s 379us/step - loss: 0.2692 - accuracy: 0.9060\n",
      "Epoch 230/300\n",
      "5000/5000 [==============================] - 2s 385us/step - loss: 0.2527 - accuracy: 0.9114\n",
      "Epoch 231/300\n",
      "5000/5000 [==============================] - 2s 357us/step - loss: 0.2446 - accuracy: 0.9108\n",
      "Epoch 232/300\n",
      "5000/5000 [==============================] - 2s 367us/step - loss: 0.2521 - accuracy: 0.9084\n",
      "Epoch 233/300\n",
      "5000/5000 [==============================] - 2s 358us/step - loss: 0.2412 - accuracy: 0.9134\n",
      "Epoch 234/300\n",
      "5000/5000 [==============================] - 2s 358us/step - loss: 0.2454 - accuracy: 0.9104\n",
      "Epoch 235/300\n",
      "5000/5000 [==============================] - 2s 382us/step - loss: 0.2351 - accuracy: 0.9178\n",
      "Epoch 236/300\n",
      "5000/5000 [==============================] - 2s 363us/step - loss: 0.2480 - accuracy: 0.9078\n",
      "Epoch 237/300\n",
      "5000/5000 [==============================] - 2s 355us/step - loss: 0.2355 - accuracy: 0.9156\n",
      "Epoch 238/300\n",
      "5000/5000 [==============================] - 2s 353us/step - loss: 0.2481 - accuracy: 0.9088\n",
      "Epoch 239/300\n",
      "5000/5000 [==============================] - 2s 352us/step - loss: 0.2447 - accuracy: 0.9110\n",
      "Epoch 240/300\n",
      "5000/5000 [==============================] - 2s 354us/step - loss: 0.2347 - accuracy: 0.9172\n",
      "Epoch 241/300\n",
      "5000/5000 [==============================] - 2s 359us/step - loss: 0.2388 - accuracy: 0.9130\n",
      "Epoch 242/300\n",
      "5000/5000 [==============================] - 2s 365us/step - loss: 0.2466 - accuracy: 0.9070\n",
      "Epoch 243/300\n",
      "5000/5000 [==============================] - 2s 354us/step - loss: 0.2176 - accuracy: 0.9238\n",
      "Epoch 244/300\n",
      "5000/5000 [==============================] - 2s 358us/step - loss: 0.2381 - accuracy: 0.9128\n",
      "Epoch 245/300\n",
      "5000/5000 [==============================] - 2s 360us/step - loss: 0.2263 - accuracy: 0.9210\n",
      "Epoch 246/300\n",
      "5000/5000 [==============================] - 2s 354us/step - loss: 0.2237 - accuracy: 0.9228\n",
      "Epoch 247/300\n",
      "5000/5000 [==============================] - 2s 358us/step - loss: 0.2332 - accuracy: 0.9196\n",
      "Epoch 248/300\n",
      "5000/5000 [==============================] - 2s 364us/step - loss: 0.2095 - accuracy: 0.9290\n",
      "Epoch 249/300\n",
      "5000/5000 [==============================] - 2s 352us/step - loss: 0.2180 - accuracy: 0.9216\n",
      "Epoch 250/300\n",
      "5000/5000 [==============================] - 2s 352us/step - loss: 0.2153 - accuracy: 0.9238\n",
      "Epoch 251/300\n",
      "5000/5000 [==============================] - 2s 352us/step - loss: 0.2151 - accuracy: 0.9232\n",
      "Epoch 252/300\n",
      "5000/5000 [==============================] - 2s 352us/step - loss: 0.2242 - accuracy: 0.9230\n",
      "Epoch 253/300\n",
      "5000/5000 [==============================] - 2s 361us/step - loss: 0.2402 - accuracy: 0.9092\n",
      "Epoch 254/300\n",
      "5000/5000 [==============================] - 2s 358us/step - loss: 0.2226 - accuracy: 0.9194\n",
      "Epoch 255/300\n",
      "5000/5000 [==============================] - 2s 351us/step - loss: 0.2083 - accuracy: 0.9266\n",
      "Epoch 256/300\n",
      "5000/5000 [==============================] - 2s 358us/step - loss: 0.2119 - accuracy: 0.9250\n",
      "Epoch 257/300\n",
      "5000/5000 [==============================] - 2s 352us/step - loss: 0.2150 - accuracy: 0.9268\n",
      "Epoch 258/300\n",
      "5000/5000 [==============================] - 2s 350us/step - loss: 0.2271 - accuracy: 0.9198\n",
      "Epoch 259/300\n",
      "5000/5000 [==============================] - 2s 356us/step - loss: 0.2103 - accuracy: 0.9232\n",
      "Epoch 260/300\n",
      "5000/5000 [==============================] - 2s 376us/step - loss: 0.1959 - accuracy: 0.9318\n",
      "Epoch 261/300\n",
      "5000/5000 [==============================] - 2s 357us/step - loss: 0.1993 - accuracy: 0.9308\n",
      "Epoch 262/300\n",
      "5000/5000 [==============================] - 2s 361us/step - loss: 0.1994 - accuracy: 0.9314\n",
      "Epoch 263/300\n",
      "5000/5000 [==============================] - 2s 391us/step - loss: 0.2110 - accuracy: 0.9290\n",
      "Epoch 264/300\n",
      "5000/5000 [==============================] - 2s 376us/step - loss: 0.2094 - accuracy: 0.9262\n",
      "Epoch 265/300\n",
      "5000/5000 [==============================] - 2s 359us/step - loss: 0.2158 - accuracy: 0.9250\n",
      "Epoch 266/300\n",
      "5000/5000 [==============================] - 2s 384us/step - loss: 0.1952 - accuracy: 0.9322\n",
      "Epoch 267/300\n",
      "5000/5000 [==============================] - 2s 356us/step - loss: 0.1985 - accuracy: 0.9232\n",
      "Epoch 268/300\n",
      "5000/5000 [==============================] - 2s 358us/step - loss: 0.1955 - accuracy: 0.9308\n",
      "Epoch 269/300\n",
      "5000/5000 [==============================] - 2s 358us/step - loss: 0.2124 - accuracy: 0.9250\n",
      "Epoch 270/300\n",
      "5000/5000 [==============================] - 2s 357us/step - loss: 0.2026 - accuracy: 0.9282\n",
      "Epoch 271/300\n",
      "5000/5000 [==============================] - 2s 360us/step - loss: 0.1939 - accuracy: 0.9300\n",
      "Epoch 272/300\n",
      "5000/5000 [==============================] - 2s 362us/step - loss: 0.1883 - accuracy: 0.9312\n",
      "Epoch 273/300\n",
      "5000/5000 [==============================] - 2s 353us/step - loss: 0.2013 - accuracy: 0.9284\n",
      "Epoch 274/300\n",
      "5000/5000 [==============================] - 2s 351us/step - loss: 0.1859 - accuracy: 0.9350\n",
      "Epoch 275/300\n",
      "5000/5000 [==============================] - 2s 354us/step - loss: 0.2021 - accuracy: 0.9306\n",
      "Epoch 276/300\n",
      "5000/5000 [==============================] - 2s 355us/step - loss: 0.2179 - accuracy: 0.9250\n",
      "Epoch 277/300\n",
      "5000/5000 [==============================] - 2s 353us/step - loss: 0.1942 - accuracy: 0.9288\n",
      "Epoch 278/300\n",
      "5000/5000 [==============================] - 2s 364us/step - loss: 0.2043 - accuracy: 0.9276\n",
      "Epoch 279/300\n",
      "5000/5000 [==============================] - 2s 353us/step - loss: 0.1958 - accuracy: 0.9288\n",
      "Epoch 280/300\n",
      "5000/5000 [==============================] - 2s 353us/step - loss: 0.1845 - accuracy: 0.9356\n",
      "Epoch 281/300\n",
      "5000/5000 [==============================] - 2s 354us/step - loss: 0.2112 - accuracy: 0.9226\n",
      "Epoch 282/300\n",
      "5000/5000 [==============================] - 2s 354us/step - loss: 0.1980 - accuracy: 0.9314\n",
      "Epoch 283/300\n",
      "5000/5000 [==============================] - 2s 364us/step - loss: 0.1830 - accuracy: 0.9316\n",
      "Epoch 284/300\n",
      "5000/5000 [==============================] - 2s 364us/step - loss: 0.1841 - accuracy: 0.9340\n",
      "Epoch 285/300\n",
      "5000/5000 [==============================] - 2s 357us/step - loss: 0.1753 - accuracy: 0.9406\n",
      "Epoch 286/300\n",
      "5000/5000 [==============================] - 2s 359us/step - loss: 0.1869 - accuracy: 0.9314\n",
      "Epoch 287/300\n",
      "5000/5000 [==============================] - 2s 353us/step - loss: 0.1701 - accuracy: 0.9396\n",
      "Epoch 288/300\n",
      "5000/5000 [==============================] - 2s 352us/step - loss: 0.1952 - accuracy: 0.9346\n",
      "Epoch 289/300\n",
      "5000/5000 [==============================] - 2s 351us/step - loss: 0.2016 - accuracy: 0.9250\n",
      "Epoch 290/300\n",
      "5000/5000 [==============================] - 2s 357us/step - loss: 0.1780 - accuracy: 0.9372\n",
      "Epoch 291/300\n",
      "5000/5000 [==============================] - 2s 361us/step - loss: 0.1764 - accuracy: 0.9392\n",
      "Epoch 292/300\n",
      "5000/5000 [==============================] - 2s 357us/step - loss: 0.1764 - accuracy: 0.9424\n",
      "Epoch 293/300\n",
      "5000/5000 [==============================] - 2s 352us/step - loss: 0.1797 - accuracy: 0.9356\n",
      "Epoch 294/300\n",
      "5000/5000 [==============================] - 2s 366us/step - loss: 0.1856 - accuracy: 0.9356\n",
      "Epoch 295/300\n",
      "5000/5000 [==============================] - 2s 351us/step - loss: 0.1701 - accuracy: 0.9390\n",
      "Epoch 296/300\n",
      "5000/5000 [==============================] - 2s 386us/step - loss: 0.1618 - accuracy: 0.9406\n",
      "Epoch 297/300\n",
      "5000/5000 [==============================] - 2s 368us/step - loss: 0.1947 - accuracy: 0.9288\n",
      "Epoch 298/300\n",
      "5000/5000 [==============================] - 2s 357us/step - loss: 0.1870 - accuracy: 0.9324\n",
      "Epoch 299/300\n",
      "5000/5000 [==============================] - 2s 375us/step - loss: 0.1738 - accuracy: 0.9376\n",
      "Epoch 300/300\n",
      "5000/5000 [==============================] - 2s 359us/step - loss: 0.1685 - accuracy: 0.9424\n"
     ]
    },
    {
     "data": {
      "text/plain": [
       "<keras.callbacks.callbacks.History at 0x7f49f97bdf28>"
      ]
     },
     "execution_count": 283,
     "metadata": {},
     "output_type": "execute_result"
    }
   ],
   "source": [
    "model.compile(loss='categorical_crossentropy', optimizer='adam', metrics=['accuracy'])\n",
    "model.fit(X_train_indices, Y_train_oh, epochs = 300, batch_size = 32, shuffle=True)"
   ]
  },
  {
   "cell_type": "code",
   "execution_count": 284,
   "metadata": {},
   "outputs": [
    {
     "name": "stdout",
     "output_type": "stream",
     "text": [
      "2000/2000 [==============================] - 0s 200us/step\n",
      "Test accuracy =  0.7394999861717224\n"
     ]
    }
   ],
   "source": [
    "loss, acc = model.evaluate(X_test_indices, Y_test_oh)\n",
    "print(\"Test accuracy = \", acc)"
   ]
  },
  {
   "cell_type": "markdown",
   "metadata": {},
   "source": [
    "Test accuracy of around 74% for 20 class classification is a good baseline model. It can be further improved though."
   ]
  },
  {
   "cell_type": "markdown",
   "metadata": {},
   "source": [
    "Build X matrix containing word indices for each documents."
   ]
  },
  {
   "cell_type": "code",
   "execution_count": 299,
   "metadata": {},
   "outputs": [],
   "source": [
    "X = df_covid_small[\"tokenized_text\"]\n",
    "X = sentences_to_indices(X, words_to_index, 1500)"
   ]
  },
  {
   "cell_type": "markdown",
   "metadata": {},
   "source": [
    "Define function to get output of average pooling layer"
   ]
  },
  {
   "cell_type": "code",
   "execution_count": 329,
   "metadata": {},
   "outputs": [],
   "source": [
    "get_avg_pool_layer_output = K.function([model.layers[0].input], [model.layers[4].output])"
   ]
  },
  {
   "cell_type": "markdown",
   "metadata": {},
   "source": [
    "Create a matrix, doc_embeddings which will store the embedding vector for each document in df_covid_small DataFrame.  \n",
    "Create a column vector, norms_doc_embeddings which will store the norm of embedding vector for each document in df_covid_small DataFrame.  "
   ]
  },
  {
   "cell_type": "code",
   "execution_count": 406,
   "metadata": {},
   "outputs": [],
   "source": [
    "doc_embeddings = np.zeros((X.shape[0],512))\n",
    "norms_doc_embeddings = np.zeros((X.shape[0],1))"
   ]
  },
  {
   "cell_type": "markdown",
   "metadata": {},
   "source": [
    "Build the doc_embeddings matrix row by row by passing each document through CNN and getting the corresponding output of Average Pooling Layer as it's document embedding vector. Get the norm of each document embedding vector and store it in a column vector norm_doc_embeddings."
   ]
  },
  {
   "cell_type": "code",
   "execution_count": 411,
   "metadata": {},
   "outputs": [
    {
     "name": "stdout",
     "output_type": "stream",
     "text": [
      "working on 0th document\n",
      "working on 1000th document\n",
      "working on 2000th document\n",
      "working on 3000th document\n",
      "working on 4000th document\n",
      "working on 5000th document\n",
      "working on 6000th document\n",
      "working on 7000th document\n",
      "working on 8000th document\n",
      "working on 9000th document\n"
     ]
    }
   ],
   "source": [
    "for i in range(X.shape[0]):\n",
    "    if i % 1000 == 0:\n",
    "        print(\"working on \"+str(i)+\"th document\")\n",
    "    doc_embedding_vec = np.array(get_avg_pool_layer_output(X[i].reshape(1,-1))).reshape(1,-1)\n",
    "    norms_doc_embeddings[i,:] = np.sqrt(np.dot(doc_embedding_vec,doc_embedding_vec.T))\n",
    "    doc_embeddings[i,:] = doc_embedding_vec"
   ]
  },
  {
   "cell_type": "markdown",
   "metadata": {},
   "source": [
    "Define a function get_kw_from_question which will return keywords(filtered tokens) from a question."
   ]
  },
  {
   "cell_type": "code",
   "execution_count": 412,
   "metadata": {},
   "outputs": [],
   "source": [
    "def get_kw_from_question(question):\n",
    "    question = question.lower()\n",
    "    #remove hyphen from string.punctuation and remove all other punctuation\n",
    "    question = question.translate(str.maketrans('', '', '!\"#$%&\\'()*+,./:;<=>?@[\\\\]^_`{|}~'))\n",
    "    tokens = nltk.word_tokenize(question)\n",
    "    #remove stop words\n",
    "    tokens = list(filter(lambda x: x not in final_stop_words, tokens))\n",
    "    #lemmatize the words so that other forms of same word becomes a single word\n",
    "    tokens = list(map(lambda x: nltk.WordNetLemmatizer().lemmatize(x), tokens))\n",
    "    #return words which have frequency greater than 1\n",
    "    return ' '.join(list(tokens))"
   ]
  },
  {
   "cell_type": "markdown",
   "metadata": {},
   "source": [
    "Let's ask a question and get it's keywords. Since if length of document is less than 1500, we append 0s. So to avoid too many 0s, I am making the question 10 times its length by appending it 10 times."
   ]
  },
  {
   "cell_type": "code",
   "execution_count": 665,
   "metadata": {},
   "outputs": [
    {
     "data": {
      "text/plain": [
       "'evidence livestock infected field surveillance genetic sequencing receptor binding evidence farmer infected farmer played role origin evidence livestock infected field surveillance genetic sequencing receptor binding evidence farmer infected farmer played role origin evidence livestock infected field surveillance genetic sequencing receptor binding evidence farmer infected farmer played role origin evidence livestock infected field surveillance genetic sequencing receptor binding evidence farmer infected farmer played role origin evidence livestock infected field surveillance genetic sequencing receptor binding evidence farmer infected farmer played role origin evidence livestock infected field surveillance genetic sequencing receptor binding evidence farmer infected farmer played role origin evidence livestock infected field surveillance genetic sequencing receptor binding evidence farmer infected farmer played role origin evidence livestock infected field surveillance genetic sequencing receptor binding evidence farmer infected farmer played role origin evidence livestock infected field surveillance genetic sequencing receptor binding evidence farmer infected farmer played role origin evidence livestock infected field surveillance genetic sequencing receptor binding evidence farmer infected farmer played role origin'"
      ]
     },
     "execution_count": 665,
     "metadata": {},
     "output_type": "execute_result"
    }
   ],
   "source": [
    "question = \"What is the evidence that livestock could be infected (field surveillance, genetic sequencing, receptor binding)? \\\n",
    "Evidence of whether farmers are infected, and whether farmers could have played a role in the origin. \"\n",
    "question = question*10\n",
    "keywords = get_kw_from_question(question)\n",
    "keywords"
   ]
  },
  {
   "cell_type": "markdown",
   "metadata": {},
   "source": [
    "Get the embedding vector for the keywords of the question by passing those to CNN and getting output of average pooling layer. Calculate it's norm for calculating cosine similarity."
   ]
  },
  {
   "cell_type": "code",
   "execution_count": 666,
   "metadata": {},
   "outputs": [],
   "source": [
    "kw_embedding_vec = np.array(get_avg_pool_layer_output(sentences_to_indices(pd.Series(keywords), words_to_index, 1500))).reshape(1,-1)\n",
    "norm_kw_embedding = np.sqrt(np.dot(kw_embedding_vec, kw_embedding_vec.T))"
   ]
  },
  {
   "cell_type": "markdown",
   "metadata": {},
   "source": [
    "# Cosine similarity\n",
    "(taken from coursera course on sequence models by deeplearning.ai taught by Andrew Ng: https://www.coursera.org/learn/nlp-sequence-models)  \n",
    "To measure the similarity between two words, we need a way to measure the degree of similarity between two embedding vectors for the two words. Given two vectors $u$ and $v$, cosine similarity is defined as follows: \n",
    "\n",
    "$$\\text{CosineSimilarity(u, v)} = \\frac {u \\cdot v} {||u||_2 ||v||_2} = cos(\\theta) \\tag{1}$$\n",
    "* $u \\cdot v$ is the dot product (or inner product) of two vectors\n",
    "* $||u||_2$ is the norm (or length) of the vector $u$\n",
    "* $\\theta$ is the angle between $u$ and $v$. \n",
    "* The cosine similarity depends on the angle between $u$ and $v$. \n",
    "    * If $u$ and $v$ are very similar, their cosine similarity will be close to 1.\n",
    "    * If they are dissimilar, the cosine similarity will take a smaller value."
   ]
  },
  {
   "cell_type": "markdown",
   "metadata": {},
   "source": [
    "Get the product of norms for computing cosine similarity. norm_prods vector will contain the product of norms of each document embedding vector and keyword embedding vector."
   ]
  },
  {
   "cell_type": "code",
   "execution_count": 667,
   "metadata": {},
   "outputs": [],
   "source": [
    "norm_prods = norms_doc_embeddings * norm_kw_embedding"
   ]
  },
  {
   "cell_type": "markdown",
   "metadata": {},
   "source": [
    "Compute the matrix vector multiplication of doc_embeddings and kw_embedding_vec. Result will be vector which will act as numerator when computing the cosine similarity."
   ]
  },
  {
   "cell_type": "code",
   "execution_count": 668,
   "metadata": {},
   "outputs": [],
   "source": [
    "dot_prod = np.dot(doc_embeddings, kw_embedding_vec.T)"
   ]
  },
  {
   "cell_type": "markdown",
   "metadata": {},
   "source": [
    "Now, vector dot_prod contains the numerator for cosine similarity between each document embedding vector and keyword embedding vector. To compute the cosine similarity between each document embedding vector and keyword embedding vector, divide the dot_prod vector by norms_prod vector(which contains the product of norms of each document embedding vector and keyword embedding vector)."
   ]
  },
  {
   "cell_type": "code",
   "execution_count": 669,
   "metadata": {},
   "outputs": [],
   "source": [
    "cosine_similarity = dot_prod / norm_prods"
   ]
  },
  {
   "cell_type": "markdown",
   "metadata": {},
   "source": [
    "Visualize the cosine similarities of the first 100 articles with the keywords of the question."
   ]
  },
  {
   "cell_type": "code",
   "execution_count": 670,
   "metadata": {},
   "outputs": [
    {
     "data": {
      "text/plain": [
       "Text(0, 0.5, 'cosine similarity with question keywords')"
      ]
     },
     "execution_count": 670,
     "metadata": {},
     "output_type": "execute_result"
    },
    {
     "data": {
      "image/png": "[encoded data removed]",
      "text/plain": [
       "<Figure size 1440x720 with 1 Axes>"
      ]
     },
     "metadata": {},
     "output_type": "display_data"
    }
   ],
   "source": [
    "fig = plt.figure(figsize=(20,10))\n",
    "plt.plot(cosine_similarity[:100])\n",
    "plt.xlabel('document/article index')\n",
    "plt.ylabel('cosine similarity with question keywords')"
   ]
  },
  {
   "cell_type": "markdown",
   "metadata": {},
   "source": [
    "Make the cosine_similarity array as 1-Dimensional. It will be needed for argpartition later."
   ]
  },
  {
   "cell_type": "code",
   "execution_count": 671,
   "metadata": {},
   "outputs": [],
   "source": [
    "cosine_similarity = cosine_similarity.reshape(-1,)"
   ]
  },
  {
   "cell_type": "markdown",
   "metadata": {},
   "source": [
    "Now, to get the indexes corresponding highest cosine similarity. Say the top 5 articles/documents which have the highest cosine similarity between keywords we want. Since sorting the entire array is not needed so better to use argpartition instead of argsort. Unlike argsort, this function runs in linear time in the worst case.  \n",
    "Taken from: https://stackoverflow.com/questions/6910641/how-do-i-get-indices-of-n-maximum-values-in-a-numpy-array"
   ]
  },
  {
   "cell_type": "code",
   "execution_count": 672,
   "metadata": {},
   "outputs": [],
   "source": [
    "reqd_idxs = np.argpartition(cosine_similarity, -5)[-5:]"
   ]
  },
  {
   "cell_type": "code",
   "execution_count": 673,
   "metadata": {},
   "outputs": [
    {
     "data": {
      "text/plain": [
       "array([0.65206499, 0.65532558, 0.65749678, 0.65664156, 0.66180562])"
      ]
     },
     "execution_count": 673,
     "metadata": {},
     "output_type": "execute_result"
    }
   ],
   "source": [
    "cosine_similarity[reqd_idxs]"
   ]
  },
  {
   "cell_type": "markdown",
   "metadata": {},
   "source": [
    "Returned indices from argpartition are not sorted. Sort them and reverse the array. Now reqd_idxs contains indexes of top 5 articles/documents sorted according to highest cosine similarity with the keyword."
   ]
  },
  {
   "cell_type": "code",
   "execution_count": 674,
   "metadata": {},
   "outputs": [
    {
     "data": {
      "text/plain": [
       "array([7087, 1248, 4639, 9741, 2615])"
      ]
     },
     "execution_count": 674,
     "metadata": {},
     "output_type": "execute_result"
    }
   ],
   "source": [
    "reqd_idxs = reqd_idxs[np.argsort(cosine_similarity[reqd_idxs])][::-1]\n",
    "reqd_idxs"
   ]
  },
  {
   "cell_type": "code",
   "execution_count": 675,
   "metadata": {},
   "outputs": [
    {
     "name": "stdout",
     "output_type": "stream",
     "text": [
      "Articles for your question: \n",
      "Canine infectious respiratory disease: Tackling the unknown unknowns by S.L. Priestnall, K.C. Smith\n",
      "When the then US Secretary of Defence Donald Rumsfeld made his famous and rather unjustly mocked 2002 NATO speech about the ‘known knowns, known unknowns and unknown unknowns’ in matters of national security\n",
      "1 he hit on an important truth about veterinary research, namely, it is only in hindsight that we realise how long we have not known something about animal disease. That truth is illustrated by the article by Dr. Tara Anderson of the University of Florida and her colleagues published in this issue of The Veterinary Journal (Anderson et al., 2012). The study describes how retrospective serological analysis demonstrates that host-adapted H3N8 canine influenza was circulating in greyhounds in North America at least as early as 1999. This is an important observation as previous understanding was that this novel disease first occurred in the USA in 2004, since when it has circulated widely in greyhounds and other dogs and is now considered endemic in several States.\n",
      "Molecular and epidem......\n",
      "\n",
      "Origins of MERS-CoV, and lessons for 2019-nCoV by John Ji\n",
      "In The Lancet Planetary Health, Sherif El-Kafrawy and colleagues did an enzootic genomic study in camels to analyse the genetic diversity, geographical origin, and infection prevalence of Middle East respiratory syndrome coronavirus (MERS-CoV).1 Not long after the Article's publication in December, 2019, the 2019 novel coronavirus (2019-nCoV) was found in China, with patient zero suspected to have originated in Wuhan. Incidence of new cases and corresponding mortalities have been escalating daily.\n",
      "The current 2019-nCoV public health emergency can take lessons from El-Kafrawy and colleagues' timely study. First, coronaviruses originated in animals before transferring to humans. El-Kafrawy and colleagues found that MERS-CoV was present in 22·8% of the camels sampled, indicating a high prevalence and even an occupational hazard for people who work with them. For example, camel shepherds are more likely to be infected. The authors further found that MERS-CoV presence was higher among local......\n",
      "\n",
      "Anaplasma phagocytophilum Infection in North Norway. The First Laboratory Confirmed Case by S Stuen, A Oppegaard, K Bergström, T Moum\n",
      "Tick-borne fever (TBF) caused by the bacterium Anaplasma phagocytophilum (formerly Ehrlichia phagocytophila) and transmitted by the tick Ixodes ricinus is a common disease in domestic ruminants on the west coast of southern Norway [8]. TBF in cattle and sheep is characterized by high fever, reduced milk yield, inclusions in circulating neutrophils, leucopenia, abortions and reduced fertility. In cattle, the incubation period after experimental inoculation is 4–9 days and the fever period may last for 1–13 days [6,2]. A. phagocytophilum infection normally gives mild to moderate clinical signs, but serious complications including deaths have been observed [15,5]. Clinical signs in cattle may include depression, decreased appetite, coughing, nasal discharge, respiratory signs, swelling of the hind limbs and stiff gate [6,2]. However, the most serious problem associated with TBF, especially in sheep, is the following immunosuppresion, which may predispose to secondary infections [16]. The ......\n",
      "\n",
      "A more detailed picture of the epidemiology of Middle East respiratory syndrome coronavirus by Ghazi Kayali, Malik Peiris\n",
      "In the Lancet Infectious Diseases, Marcel Muller and colleagues1 present the first, well designed, credible, population-based seroepidemiological study of Middle East respiratory syndrome coronavirus (MERS-CoV) in Saudi Arabia.\n",
      "Since the initial identification of MERS-CoV in 2012,2 up to Mar 8, 2015, WHO have reported 1082 cases of infection with this virus, 439 of which ended in death.3 Most cases were in countries in the Arabian Peninsula, with sporadic travel-related infections occurring elsewhere.\n",
      "Although clusters of human-to-human transmission of MERS-CoV are well documented, transmission originates from zoonotic events, and therefore identification of the animal sources of MERS-CoV is a priority. Genetically, MERS-CoV is related to bat coronaviruses from China, Saudi Arabia, Europe, and Africa.2, 4, 5, 6 On the basis of the evidence so far, none of the bats from these countries are likely to be the reservoir for the virus.\n",
      "Evidence is accumulating that dromedary camels are a nat......\n",
      "\n",
      "Is Aerosol-Based Transmission of Middle East Respiratory Syndrome Coronavirus Possible? by Ergenekon Karagoz, Mustafa Hatipoğlu, Vedat Turhan\n",
      "\n",
      "To the\n",
      "Editor—We read the article by Memish et al with great interest [1]. The authors concluded that there is no evidence of Middle East respiratory syndrome coronavirus (MERS-CoV) nasal carriage among Hajj pilgrims. In previous studies, it was reported that MERS-CoV infection may be transmitted via respiratory droplets or direct and indirect contact [2, 3]. However, there has been international concern in the medical community about pandemic risk due to aerosol transmission. The use of polymerase chain reaction (PCR) analysis by Memish et al to screen for nasal carriage of MERS-CoV in a large group of Hajj pilgrims has been an important advance in the public health response to MERS-CoV. However, we have a few methodological concerns about their study.\n",
      "As the authors mentioned as a limitation, the use of swab specimens from the upper respiratory tract instead of the lower respiratory tract may affect the results, since the MERS-CoV load in upper respiratory tract specimens is lower t......\n",
      "\n"
     ]
    }
   ],
   "source": [
    "print(\"Articles for your question: \")\n",
    "for idx in reqd_idxs:\n",
    "    print(df_covid_small.iloc[idx]['title']+\" by \"+ df_covid_small.iloc[idx]['authors'])\n",
    "    print(df_covid_small.iloc[idx]['body_text'][:1000]+\"......\")\n",
    "    print()"
   ]
  },
  {
   "cell_type": "markdown",
   "metadata": {},
   "source": [
    "So, now let's make a function for doing all these things i.e. calculating cosine similarity and getting the indexes of top 5 articles which have the highest cosine similarity with the keywords of the question."
   ]
  },
  {
   "cell_type": "code",
   "execution_count": 676,
   "metadata": {},
   "outputs": [],
   "source": [
    "def compute_cosine_get_idxs(keywords, norms_doc_embeddings, doc_embeddings):\n",
    "    kw_embedding_vec = np.array(get_avg_pool_layer_output(sentences_to_indices(pd.Series(keywords), words_to_index, 1500))).reshape(1,-1)\n",
    "    norm_kw_embedding = np.sqrt(np.dot(kw_embedding_vec, kw_embedding_vec.T))\n",
    "    norm_prods = norms_doc_embeddings * norm_kw_embedding\n",
    "    dot_prod = np.dot(doc_embeddings, kw_embedding_vec.T)\n",
    "    cosine_similarity = dot_prod / norm_prods\n",
    "    cosine_similarity = cosine_similarity.reshape(-1,)\n",
    "    reqd_idxs = np.argpartition(cosine_similarity, -5)[-5:]\n",
    "    reqd_idxs = reqd_idxs[np.argsort(cosine_similarity[reqd_idxs])][::-1]\n",
    "    return reqd_idxs  "
   ]
  },
  {
   "cell_type": "code",
   "execution_count": 677,
   "metadata": {},
   "outputs": [
    {
     "name": "stdout",
     "output_type": "stream",
     "text": [
      "Articles for your question: \n",
      "Editorial overview: Preventive and therapeutic vaccines: Vaccination against viral disease — current advances and challenges by Rino Rappuoli, Gerd Sutter\n",
      "Vaccines are probably the most efficacious public health tools of the 20th Century having greatly reduced both morbidity and mortality from viral diseases across the globe. Today, vaccination against viral disease moves to confront the challenges of emerging infections that are caused by pathogens with little known biology and associated with unpredictable impact on our societies. Moreover, the field still needs to address the massive disease burden from chronic infections caused by viruses that already know the tricks to efficiently evade the human immune system. New insights into the immune correlates of protection from viral diseases and into the vaccine prerequisites for the rational induction of safe and broadly protective immune responses offer promising chances for highly innovative vaccine development. Important aims include the availability of vaccines that can be rapidly produced and delivered to provide protection against emerging or re-emerging viruses. The induction of pot......\n",
      "\n",
      "Mental Health Care for Survivors and Healthcare Workers in the Aftermath of an Outbreak by Damir Huremović, Jacqueline Levin\n",
      "Providing psychiatric care to survivors and healthcare workers in the aftermath of a pandemic outbreak is a complicated, but crucial, imperative in the service of reducing the burden of human suffering. Challenges will abound on multiple levels, but there is no substitute for preparedness. Knowledge of assessment, differential diagnosis, medical complications, and treatment will aid the psychiatric care provider in developing a treatment approach for these patients who are most vulnerable during their greatest time of need.......\n",
      "\n",
      "Binding of SARS-CoV-2 and angiotensin-converting enzyme 2: clinical implications by Eleanor Murray, Maciej Tomaszewski, Tomasz Guzik\n",
      "In relation to the above evidence, the American College of Physicians, Canadian Cardiovascular Society, European Society of Cardiology Council on Hypertension, European Society of Hypertension, Hypertension Canada, International Society of Hypertension and The Renal Association (UK) have all supported continued ACE inhibitor/ARB use, unless there is an alternative clinical reason to suspend them in the face of COVID-19. The morbidity and mortality risk of stopping such drugs is significant, particularly given the myocardial damage that may occur in COVID-19.\n",
      "\n",
      "Conflict of interest: none declared.......\n",
      "\n",
      "Correction: Middle East Respiratory Syndrome Coronavirus Intra-Host Populations Are Characterized by Numerous High Frequency Variants by Monica Borucki, Victoria Lao, Mona Hwang, Shea Gardner, Danielle Adney, Vincent Munster, Richard Bowen, Jonathan Allen\n",
      "In Table 1, the residue for 27162 should be 107, not 109. Please see the corrected Table 1 here.\n",
      "There is an incorrect reference to Table 1 in the second sentence of the first paragraph the Results section, “ORF1ab.” The correct sentence is: The Seed stock had iSNVs present at nts 307–313, part of the nsp1 ORF (residues 9–11). All iSNVs were detected at 4% indicating there is a second genotype present at 4%.\n",
      "The incorrect value reported in Table 1 also appears in the first sentence of the Results section, “ORF5.” The correct sentence is An iSNV resulting in a stop codon at residue 107 was detected in 12% of reads at nt 27162 for camel C2D5, the only sample for which there was adequate coverage at this site (>100x, S2 Table).......\n",
      "\n",
      "Nitazoxanide May Modify the Course of Progressive Multifocal Leukoencephalopathy by Timo Hautala, Ludmila Perelygina, Tytti Vuorinen, Nina Hautala, Päivi Hägg, Michaela Bode, Harri Rusanen, Marjo Renko, Virpi Glumoff, Nicholas Schwab, Tilman Schneider-Hohendorf, Jean-Luc Murk, Kathleen Sullivan, Mikko Seppänen\n",
      "The JCV VP1 peptide pool assay (PepTivator®, Miltenyi Biotec (Bergisch Gladbach, Germany)) was performed according to the manufacturer’s instructions. In brief, thawed peripheral blood mononuclear cells were either rested (negative control), stimulated with 10 μl of PepTivator® stock solution (VP1), or stimulated with PMA and ionomycin (PMA), each for six hours with addition of Brefeldin A after two hours. Harvested cells were then stained with fluorochrome-conjugated antibodies against CD3, CD4, CD8, CD56, fixated and permeabilized and intracellularly stained with anti IFNγ or TNFα (Biolegend, San Diego, USA) as previously described [5]. VP1 stimulation was calculated by subtracting the negative control values from the VP1-stimulated values.......\n",
      "\n"
     ]
    }
   ],
   "source": [
    "question = \"What are the sustainable risk reduction strategies? \"\n",
    "question = question*10\n",
    "keywords = get_kw_from_question(question)\n",
    "reqd_idxs = compute_cosine_get_idxs(keywords, norms_doc_embeddings, doc_embeddings)\n",
    "print(\"Articles for your question: \")\n",
    "for idx in reqd_idxs:\n",
    "    print(df_covid_small.iloc[idx]['title']+\" by \"+ df_covid_small.iloc[idx]['authors'])\n",
    "    print(df_covid_small.iloc[idx]['body_text'][:1000]+\"......\")\n",
    "    print()"
   ]
  },
  {
   "cell_type": "code",
   "execution_count": 678,
   "metadata": {},
   "outputs": [
    {
     "name": "stdout",
     "output_type": "stream",
     "text": [
      "Articles for your question: \n",
      "Sequencing the whole genome of infected human cells obtained from diseased patients – a proposed strategy for understanding and overcoming AIDS or other deadest virus-infected diseases by Da-Yong Lu, Jian Ding\n",
      "To the etiology of virus-infected diseases, the farthest and worst outcomes will be in the changes of cellular genome. If these deadest virus or their influences really enter or devour into human genomes of infected cells in nature, we will not surprise why routine vaccines and exogenous chemical drugs could not eradicate the diseases after so many laboratory endeavors and high expenses of money. Therefore, we propose that final solution and eradication of these deadest diseases will only be based on thorough understanding the courses and ranges of virus infections. Since human genome project (HGP) has been just finished and has great potential in medicine [5], is it better to sequence the whole genome of infected human cells obtained from diseased patients? This strategy, though cumbersome and lack of experimental data to support, but it can be really reliable at present situations. It is a bold hypothesis and risky attempt, for we may find nothing but cost high. But the advantages fo......\n",
      "\n",
      "Pros and cons of the application of evolutionary theories to the evolution of SARS-CoV-2 by Yue Li, Xinai Yang, Na Wang, Haiyan Wang, Bin Yin, Xiaoping Yang, Wenqing Jiang\n",
      "We have stated that SARS-CoV-2 is an RNA virus. The classic theories, principles and formula of evolutionary biology are based on the central dogma, which assumes the DNA-to-RNA-to-protein chain. The basic notion is that the mutations on DNA could be inherited rather than the modifications on RNA. For example, despite the numerous types of RNA modifications in higher eukaryotes, these organisms do not suffer from extraordinarily high mutation rates because the modified RNAs could not be transmitted to the next generation. However, for RNA viruses, their RNA is actually their genetic information. Whether the evolutionary principles could be applied to RNA viruses should be seriously debated. The host cells have multiple RNA modification systems/enzymes. The changes in viral RNA (by host cells) would permanently change its genetic information and be transmitted to the next ‘generation’, which is similar to genetic mutations in higher organisms. Technically, one could not distinguish gene......\n",
      "\n",
      "Identification and genomic characterization of a novel CRESS DNA virus from a calf with severe hemorrhagic enteritis in China by Zijing Guo, Qifu He, Cheng Tang, Bin Zhang, Hua Yue\n",
      "The raw sequence reads from the viral metagenomic libraries have been deposited into as BioProject, Biosample and SRA at NCBI, the accession number were PRJNA389792, SAMN07208491 and SRP108885, respectively. The complete genome sequence of Bo-Circo-like virus CH has been deposited in GenBank under accession no. MH316857; the 4 partial Rep sequences of Bo-Circo-like virus have been deposited in GenBank under accession nos. MH316858-MF973561.\n",
      "This work was funded by Sichuan Province Applied Foundation Project (grant number 2017JY0066), the Innovation team for animal epidemic diseases prevention and control on Qinghai-Tibet Plateau, State Ethnic Affairs Commission (grant number 13TD0057) and the Innovative Research Project of Graduate Students in Southwest University for Nationalities (grant number CX2017SZ057).\n",
      "The authors declare that they have no conflicts of interest.\n",
      "The study does not contain any studies with human participants or animals performed by any of the authors, and all exp......\n",
      "\n",
      "mRNA Cap-1 Methyltransferase in the SARS Genome by Marcin von Grotthuss, Lucjan Wyrwicz, Leszek Rychlewski\n",
      "The latest outbreak of the severe acute respiratory syndrome (SARS) epidemic has led to thousands of potentially lethally infected patients and hundreds of deaths. These numbers are likely to rise, and the spreading disease is already causing major medical and economical concerns. Meanwhile, the SARS coronavirus identified as the pathogen responsible for the disaster has been isolated, and its genome sequenced Marra et al. 2003, Rota et al. 2003.\n",
      "We have applied the 3D jury meta predictor (Ginalski et al., 2003) to annotate the structure and function of proteins encoded by the viral positive-strand ssRNA. Novel fold recognition methods utilize the global network of independent structure prediction servers. Detection of patterns of structural similarity between diverse models is used to consistently select the correct fold from a set of borderline predictions. Such methods made a dramatic impact on the last critical assessment of protein structure prediction (CASP-5 experiment) conducte......\n",
      "\n",
      "Influenza C Virus in Cattle with Respiratory Disease, United States, 2016–2018 by Hewei Zhang, Elizabeth Porter, Molly Lohman, Nanyan Lu, Lalitha Peddireddi, Gregg Hanzlicek, Douglas Marthaler, Xuming Liu, Jianfa Bai\n",
      "Bovine respiratory disease complex (BRDC) is one of the most common causes of death in livestock in US feedlots and feedlots worldwide (10). During October 2016–January 2018, we collected 1,525 samples (mainly nasal swab and lung tissue specimens) from cattle in the Midwest of the United States and submitted them to Kansas State Veterinary Diagnostic Laboratory (Manhattan, Kansas, USA) for BRDC diagnostic testing. We screened samples for ICV by real-time reverse transcription PCR, as well as for 10 other BRDC-associated pathogens (Mannheimia haemolytica, Pasteurella multocida, Histophilus somni, Bibersteinia trehalosi, Mycoplasma bovis, bovine viral diarrhea virus, bovine respiratory syncytial virus, bovine respiratory coronavirus, bovine herpesvirus 1, and influenza D virus; Technical Appendix). We sequenced a 590-bp fragment of the matrix gene from 12 ICV-positive samples (GenBank accession nos. MH421865–73; Technical Appendix Table) to confirm the PCR results and perform a phylogene......\n",
      "\n"
     ]
    }
   ],
   "source": [
    "question = \"What do we know about virus genetics, origin, and evolution? What do we know about Real-time tracking of whole genomes \"\n",
    "question = question*10\n",
    "keywords = get_kw_from_question(question)\n",
    "reqd_idxs = compute_cosine_get_idxs(keywords, norms_doc_embeddings, doc_embeddings)\n",
    "print(\"Articles for your question: \")\n",
    "for idx in reqd_idxs:\n",
    "    print(df_covid_small.iloc[idx]['title']+\" by \"+ df_covid_small.iloc[idx]['authors'])\n",
    "    print(df_covid_small.iloc[idx]['body_text'][:1000]+\"......\")\n",
    "    print()"
   ]
  },
  {
   "cell_type": "code",
   "execution_count": 679,
   "metadata": {},
   "outputs": [
    {
     "name": "stdout",
     "output_type": "stream",
     "text": [
      "Articles for your question: \n",
      "The interface of animal and human vaccines by Connie Schmaljohn, Christian Mandl\n",
      "Viral zoonoses are an important cause of human morbidity and mortality. As more information has accumulated, it has become obvious that animal health and human health cannot be separated. Animals not only function to maintain and amplify pathogenic viruses in nature, but cross-species transmission can occur for members of numerous viral families and such events have in the past, and likely will continue in the future, to give rise to new veterinary or human disease agents. Vaccination of wildlife or domesticated animals can be effective for preventing some viral diseases of humans, but not all. Vector or host control measures are often also required, and for certain viruses, it is simply not feasible to vaccinate the wide variety of hosts that harbor them in nature. Likewise, eradication of zoonotic viruses through vaccination, while a worthy goal, will be possible for only a few viruses and will depend on an ability to completely control the disease through mass vaccinations. The poss......\n",
      "\n",
      "Letter to the Editor: Wastewater-Based Epidemiology Can Overcome\n",
      "Representativeness and Stigma Issues Related to COVID-19 by Michio Murakami, Akihiko Hata, Ryo Honda, Toru Watanabe\n",
      "We read with great interest the Viewpoint by Mao et al., “Can a Paper-Based\n",
      "Device Trace COVID-19 Sources with Wastewater-Based Epidemiology?”1 We agree regarding the benefits of a wastewater-based\n",
      "epidemiology (WBE) approach in predicting the spread of the COVID-19 infection by\n",
      "analyzing the presence of the virus in wastewater. Concentrations of the norovirus\n",
      "in wastewater samples collected every week accurately reflect the infection in the\n",
      "watershed, suggesting that this approach can serve as a warning of a public\n",
      "outbreak.2 We suggest additional advantages to this\n",
      "approach and call for a wastewater collection campaign involving international\n",
      "cooperation between environmental researchers, wastewater workers, and public\n",
      "health specialists, aimed at preventing the spread of COVID-19.\n",
      "The WBE approach to testing for COVID-19 has potential advantages over testing the\n",
      "public. First, virus concentrations in wastewater represent the overall status of\n",
      "the watershed, while the number of COVID......\n",
      "\n",
      "Editorial overview: Preventive and therapeutic vaccines: Vaccination against viral disease — current advances and challenges by Rino Rappuoli, Gerd Sutter\n",
      "Vaccines are probably the most efficacious public health tools of the 20th Century having greatly reduced both morbidity and mortality from viral diseases across the globe. Today, vaccination against viral disease moves to confront the challenges of emerging infections that are caused by pathogens with little known biology and associated with unpredictable impact on our societies. Moreover, the field still needs to address the massive disease burden from chronic infections caused by viruses that already know the tricks to efficiently evade the human immune system. New insights into the immune correlates of protection from viral diseases and into the vaccine prerequisites for the rational induction of safe and broadly protective immune responses offer promising chances for highly innovative vaccine development. Important aims include the availability of vaccines that can be rapidly produced and delivered to provide protection against emerging or re-emerging viruses. The induction of pot......\n",
      "\n",
      "The imperative to develop a human vaccine for the Hendra virus in Australia by Bilal Zahoor, Lucy Mudie\n",
      "The emergence of bat-related zoonotic infections continues to be fueled by the human impact on the environment through the deforestation of habitats of the fruit bats (6). The rapid pace at which HeV mutates, its virulence, as well as the cumulative human-environmental insults do not afford us time should an outbreak, when it occurs, becomes unmanageable. This can result in preventable loss of life, as was observed in the recent Ebola epidemic (7, 11). The current equine HeV vaccine is testament to our ability to rapidly develop and produce a vaccine that addressed an immediate zoonotic epidemic threat with some success. Unfortunately, given the recent spate of HeV-related equine deaths across Australia, the equine vaccine/quarantine policy currently in place (to contain and prevent HeV infection) is succumbing to the natural evolution of HeV and is becoming less effective. It would be more prudent to develop a human HeV vaccine in developing a primary preventative strategy against HeV......\n",
      "\n",
      "Full spectrum of COVID-19 severity still being depicted – Authors' reply by Xiaoying Gu, Bin Cao, Jianwei Wang\n",
      "Zhou Xu and colleagues point out that mortality, which should be referred correctly and more clearly as case fatality ratio, among the first 41 cases with laboratory-confirmed 2019 novel coronavirus disease (COVID-19; previously known as 2019-nCoV) was misleading in our Article.1\n",
      "\n",
      "We definitely agree that the case fatality ratio among the first 41 cases cannot represent the case fatality ratio of the full disease spectrum during the outbreak of COVID-19. From the perspective of case detection, the reasons for the inconsistency between the case fatality ratio reported in our Article1 and data that have become available since publication of our Article1 were clearly clarified in advance in the comment by Chen Wang and colleagues.2 Patients with the most severe symptoms were paid attention to during the early stages of the outbreak because of limited resources to detect severe acute respiratory syndrome corona virus 2 (SARS-CoV-2) infection. From the perspective of treatment, even the mos......\n",
      "\n"
     ]
    }
   ],
   "source": [
    "question = \"What about Animal host and any evidence of continued spill over to humans, Socioeconomic and behavioral risk factors for this spill over? \"\n",
    "question = question*10\n",
    "keywords = get_kw_from_question(question)\n",
    "reqd_idxs = compute_cosine_get_idxs(keywords, norms_doc_embeddings, doc_embeddings)\n",
    "print(\"Articles for your question: \")\n",
    "for idx in reqd_idxs:\n",
    "    print(df_covid_small.iloc[idx]['title']+\" by \"+ df_covid_small.iloc[idx]['authors'])\n",
    "    print(df_covid_small.iloc[idx]['body_text'][:1000]+\"......\")\n",
    "    print()"
   ]
  }
 ],
 "metadata": {
  "kernelspec": {
   "display_name": "Python 3",
   "language": "python",
   "name": "python3"
  },
  "language_info": {
   "codemirror_mode": {
    "name": "ipython",
    "version": 3
   },
   "file_extension": ".py",
   "mimetype": "text/x-python",
   "name": "python",
   "nbconvert_exporter": "python",
   "pygments_lexer": "ipython3",
   "version": "3.7.4"
  }
 },
 "nbformat": 4,
 "nbformat_minor": 4
}
