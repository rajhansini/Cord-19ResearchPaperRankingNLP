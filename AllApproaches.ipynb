{
 "cells": [
  {
   "cell_type": "markdown",
   "metadata": {},
   "source": [
    "# COVID-19 Literature search using pre-trained GloVe word vectors  \n",
    "**Steps:**  \n",
    "**1) Load data into DataFrame.  \n",
    "2) Work on a slice of DataFrame for the experiment.  \n",
    "3) Clean the body text.  \n",
    "4) Filter articles which are in English and remove those which are likely noise.  \n",
    "5) Load the pre-trained GloVe vectors.  \n",
    "6) Tokenize the body text to get tokens and their frequency.  \n",
    "7) Get document embedding for each document by averaging over word embeddings for all the filtered words in the article and store those in a matrix.  \n",
    "8) Get the norm of each document embedding and store that in a vector.  \n",
    "9) Get the keywords from the question after tokenizing the question.  \n",
    "10) Get the keywords embedding by averaging over word embeddings for all keywords and store that in a vector.  \n",
    "11) Get the norm of keywords embedding.  \n",
    "12) Compute the cosine similarity using matrix vector multiplication and norms of document embeddings and keyword embeddings.  \n",
    "13) Get the top 5 articles that have the highest cosine similarity with the keywords of the question.**  "
   ]
  },
  {
   "cell_type": "markdown",
   "metadata": {},
   "source": [
    "Preprocessing and loading the data taken from notebook: COVID EDA: Initial Exploration Tool, by Ivan Ega Pratama\n",
    "https://www.kaggle.com/ivanegapratama/covid-eda-initial-exploration-tool"
   ]
  },
  {
   "cell_type": "markdown",
   "metadata": {},
   "source": [
    "Import Modules"
   ]
  },
  {
   "cell_type": "code",
   "execution_count": 1,
   "metadata": {
    "_cell_guid": "79c7e3d0-c299-4dcb-8224-4455121ee9b0",
    "_uuid": "d629ff2d2480ee46fbb7e2d37f6b5fab8052498a"
   },
   "outputs": [
    {
     "name": "stdout",
     "output_type": "stream",
     "text": [
      "Collecting langdetect\n",
      "  Downloading langdetect-1.0.8.tar.gz (981 kB)\n",
      "\u001b[K     |████████████████████████████████| 981 kB 4.6 MB/s eta 0:00:01\n",
      "\u001b[?25hRequirement already satisfied: six in /opt/conda/lib/python3.7/site-packages (from langdetect) (1.14.0)\n",
      "Building wheels for collected packages: langdetect\n",
      "  Building wheel for langdetect (setup.py) ... \u001b[?25ldone\n",
      "\u001b[?25h  Created wheel for langdetect: filename=langdetect-1.0.8-py3-none-any.whl size=993191 sha256=35636333ad85fc14c7cc75c032d86131c7dc59dedce3e769ea02547fe67a27e2\n",
      "  Stored in directory: /root/.cache/pip/wheels/59/f6/9d/85068904dba861c0b9af74e286265a08da438748ee5ae56067\n",
      "Successfully built langdetect\n",
      "Installing collected packages: langdetect\n",
      "Successfully installed langdetect-1.0.8\n",
      "\u001b[33mWARNING: You are using pip version 20.1; however, version 20.1.1 is available.\n",
      "You should consider upgrading via the '/opt/conda/bin/python3.7 -m pip install --upgrade pip' command.\u001b[0m\n"
     ]
    }
   ],
   "source": [
    "import numpy as np \n",
    "import pandas as pd\n",
    "import glob\n",
    "import json\n",
    "import re\n",
    "import string\n",
    "\n",
    "import nltk\n",
    "from nltk.stem import WordNetLemmatizer\n",
    "from nltk.corpus import stopwords\n",
    "\n",
    "from spacy.lang.en.stop_words import STOP_WORDS\n",
    "\n",
    "import matplotlib.pyplot as plt\n",
    "plt.style.use('ggplot')\n",
    "\n",
    "from collections import Counter\n",
    "\n",
    "from tqdm import tqdm\n",
    "!pip install langdetect\n",
    "from langdetect import detect"
   ]
  },
  {
   "cell_type": "markdown",
   "metadata": {},
   "source": [
    "# Loading Data"
   ]
  },
  {
   "cell_type": "markdown",
   "metadata": {},
   "source": [
    "Loading all json files"
   ]
  },
  {
   "cell_type": "code",
   "execution_count": 2,
   "metadata": {},
   "outputs": [
    {
     "name": "stdout",
     "output_type": "stream",
     "text": [
      "Total number of papers : 109431\n"
     ]
    }
   ],
   "source": [
    "root_path = '/kaggle/input/CORD-19-research-challenge/'\n",
    "all_json = glob.glob(f'{root_path}document_parses/**/*.json', recursive=True)\n",
    "print('Total number of papers : {}'.format(len(all_json)))"
   ]
  },
  {
   "cell_type": "markdown",
   "metadata": {},
   "source": [
    "Helper class for reading json file\n",
    "* Input : Path to json file\n",
    "* Use : Reads and stores title, body_text, authors, etc about paper"
   ]
  },
  {
   "cell_type": "code",
   "execution_count": 3,
   "metadata": {},
   "outputs": [],
   "source": [
    "class FileReader:\n",
    "    def __init__(self, file_path):\n",
    "        with open(file_path) as file:\n",
    "            content = json.load(file)\n",
    "            self.paper_id = content['paper_id']\n",
    "            self.abstract = []\n",
    "            self.body_text = []\n",
    "            self.title = content['metadata']['title']\n",
    "            self.authors = ''\n",
    "            for author in content['metadata']['authors']:\n",
    "                #concatenate first name and last name\n",
    "                self.authors += author['first'] + ' ' + author['last'] + \", \"\n",
    "            #removing last comma and a space from string authors\n",
    "            self.authors = self.authors[:-2]\n",
    "            # Abstract\n",
    "            try:\n",
    "                for entry in content['abstract']:\n",
    "                    self.abstract.append(entry['text'])\n",
    "            except:\n",
    "                self.abstract = []\n",
    "            # Body text\n",
    "            for entry in content['body_text']:\n",
    "                self.body_text.append(entry['text'])\n",
    "            #converting list to string\n",
    "            self.abstract = '\\n'.join(self.abstract)\n",
    "            self.body_text = '\\n'.join(self.body_text)\n",
    "    def __repr__(self):\n",
    "        return f'{self.paper_id}: {self.abstract[:200]}... {self.body_text[:200]}...'\n",
    "\n",
    "    \n",
    "# first_row = FileReader(all_json[0])\n",
    "# print(first_row)"
   ]
  },
  {
   "cell_type": "markdown",
   "metadata": {},
   "source": [
    "Function to read all json files one by one and store in pandas dataframe"
   ]
  },
  {
   "cell_type": "code",
   "execution_count": 4,
   "metadata": {},
   "outputs": [],
   "source": [
    "def read_dataset(all_json):\n",
    "    dict_ = {'paper_id': [],  'title': [], 'authors': [], 'abstract': [], 'body_text': []}\n",
    "    for idx, entry in enumerate(tqdm(all_json)):\n",
    "#         if idx % (len(all_json) // 10) == 0:\n",
    "#             print(f'Processing index: {idx} of {len(all_json)}')\n",
    "        content = FileReader(entry)\n",
    "        dict_['paper_id'].append(content.paper_id)\n",
    "        dict_['title'].append(content.title)\n",
    "        dict_['authors'].append(content.authors)\n",
    "        dict_['abstract'].append(content.abstract)\n",
    "        dict_['body_text'].append(content.body_text)\n",
    "    df_dataset = pd.DataFrame(dict_, columns=['paper_id', 'title', 'authors', 'abstract', 'body_text'])\n",
    "    return df_dataset"
   ]
  },
  {
   "cell_type": "markdown",
   "metadata": {},
   "source": [
    "Read all files"
   ]
  },
  {
   "cell_type": "code",
   "execution_count": 5,
   "metadata": {},
   "outputs": [
    {
     "name": "stderr",
     "output_type": "stream",
     "text": [
      "100%|██████████| 15000/15000 [00:57<00:00, 259.26it/s]\n"
     ]
    },
    {
     "data": {
      "text/html": [
       "<div>\n",
       "<style scoped>\n",
       "    .dataframe tbody tr th:only-of-type {\n",
       "        vertical-align: middle;\n",
       "    }\n",
       "\n",
       "    .dataframe tbody tr th {\n",
       "        vertical-align: top;\n",
       "    }\n",
       "\n",
       "    .dataframe thead th {\n",
       "        text-align: right;\n",
       "    }\n",
       "</style>\n",
       "<table border=\"1\" class=\"dataframe\">\n",
       "  <thead>\n",
       "    <tr style=\"text-align: right;\">\n",
       "      <th></th>\n",
       "      <th>paper_id</th>\n",
       "      <th>title</th>\n",
       "      <th>authors</th>\n",
       "      <th>abstract</th>\n",
       "      <th>body_text</th>\n",
       "    </tr>\n",
       "  </thead>\n",
       "  <tbody>\n",
       "    <tr>\n",
       "      <th>0</th>\n",
       "      <td>a08629ffb6fc1b030dfbaa4f1a3e233e1e9b76d9</td>\n",
       "      <td>Membrane Biology Preferred Apical Distribution...</td>\n",
       "      <td>Michael Lisanti, Andr6 Le Bivic, Alan Saltielt...</td>\n",
       "      <td>We use a sensitive biotin polarity assay to su...</td>\n",
       "      <td>The conventional mechanism by which glycoprore...</td>\n",
       "    </tr>\n",
       "    <tr>\n",
       "      <th>1</th>\n",
       "      <td>f2638c7eb97ffdb517aa05fc26353f1af3cd8305</td>\n",
       "      <td>Facing COVID-19 in the ICU: vascular dysfuncti...</td>\n",
       "      <td>Daniel Leisman, Clifford Deutschman, Matthieu ...</td>\n",
       "      <td></td>\n",
       "      <td>Published data [1, 2] , anecdotal observations...</td>\n",
       "    </tr>\n",
       "    <tr>\n",
       "      <th>2</th>\n",
       "      <td>71ff6abe3023a4c48fd6e6c54265bce395b88397</td>\n",
       "      <td>Rhinovirus-associated pulmonary exacerbations ...</td>\n",
       "      <td>Mathias Cousin, Nicolas Molinari, Vincent Foul...</td>\n",
       "      <td></td>\n",
       "      <td>Despite conventional management with antibioti...</td>\n",
       "    </tr>\n",
       "    <tr>\n",
       "      <th>3</th>\n",
       "      <td>e668cd173db14ab973db135bc4fdb6f954e1515c</td>\n",
       "      <td>Disparities in the Population at Risk of Sever...</td>\n",
       "      <td>Matthew Raifman, Julia Scd, Julia Raifman</td>\n",
       "      <td></td>\n",
       "      <td>Identifying those at heightened risk of severe...</td>\n",
       "    </tr>\n",
       "    <tr>\n",
       "      <th>4</th>\n",
       "      <td>eb1cc7c78d58eee6f6f81092426a9a5c9aab696c</td>\n",
       "      <td></td>\n",
       "      <td></td>\n",
       "      <td></td>\n",
       "      <td>evolved to respiratory and renal failure (with...</td>\n",
       "    </tr>\n",
       "  </tbody>\n",
       "</table>\n",
       "</div>"
      ],
      "text/plain": [
       "                                   paper_id  \\\n",
       "0  a08629ffb6fc1b030dfbaa4f1a3e233e1e9b76d9   \n",
       "1  f2638c7eb97ffdb517aa05fc26353f1af3cd8305   \n",
       "2  71ff6abe3023a4c48fd6e6c54265bce395b88397   \n",
       "3  e668cd173db14ab973db135bc4fdb6f954e1515c   \n",
       "4  eb1cc7c78d58eee6f6f81092426a9a5c9aab696c   \n",
       "\n",
       "                                               title  \\\n",
       "0  Membrane Biology Preferred Apical Distribution...   \n",
       "1  Facing COVID-19 in the ICU: vascular dysfuncti...   \n",
       "2  Rhinovirus-associated pulmonary exacerbations ...   \n",
       "3  Disparities in the Population at Risk of Sever...   \n",
       "4                                                      \n",
       "\n",
       "                                             authors  \\\n",
       "0  Michael Lisanti, Andr6 Le Bivic, Alan Saltielt...   \n",
       "1  Daniel Leisman, Clifford Deutschman, Matthieu ...   \n",
       "2  Mathias Cousin, Nicolas Molinari, Vincent Foul...   \n",
       "3          Matthew Raifman, Julia Scd, Julia Raifman   \n",
       "4                                                      \n",
       "\n",
       "                                            abstract  \\\n",
       "0  We use a sensitive biotin polarity assay to su...   \n",
       "1                                                      \n",
       "2                                                      \n",
       "3                                                      \n",
       "4                                                      \n",
       "\n",
       "                                           body_text  \n",
       "0  The conventional mechanism by which glycoprore...  \n",
       "1  Published data [1, 2] , anecdotal observations...  \n",
       "2  Despite conventional management with antibioti...  \n",
       "3  Identifying those at heightened risk of severe...  \n",
       "4  evolved to respiratory and renal failure (with...  "
      ]
     },
     "execution_count": 5,
     "metadata": {},
     "output_type": "execute_result"
    }
   ],
   "source": [
    "df_covid = read_dataset(all_json[:15000])\n",
    "df_covid.head()"
   ]
  },
  {
   "cell_type": "markdown",
   "metadata": {},
   "source": [
    "# Preprocess Data"
   ]
  },
  {
   "cell_type": "markdown",
   "metadata": {},
   "source": [
    "Function to clean dataset\n",
    "* Input : Dataframe\n",
    "* Output : Dataframe with no duplicates and null values"
   ]
  },
  {
   "cell_type": "code",
   "execution_count": 6,
   "metadata": {},
   "outputs": [],
   "source": [
    "def dataset_cleanup(df_dataset):\n",
    "    print(\"Cleaning Dataset\")\n",
    "    try:\n",
    "        df_dataset.drop_duplicates(['abstract', 'filtered_body_text'], inplace=True)\n",
    "    except:\n",
    "        df_dataset.drop_duplicates(['abstract', 'body_text'], inplace=True)\n",
    "    df_dataset.dropna(inplace=True)\n",
    "    return df_dataset"
   ]
  },
  {
   "cell_type": "markdown",
   "metadata": {},
   "source": [
    "Function to filter body text\n",
    "* Input : Dataframe\n",
    "* Output : Dataframe with only lower cased plain text as 'filtered_body_text'\n",
    "\n",
    "\n",
    "1. removes content in [] and ()\n",
    "2. removes \\n and \\t\n",
    "3. removes extra spaces\n",
    "4. keeps only alphanumeric characters\n",
    "5. makes all lower case"
   ]
  },
  {
   "cell_type": "code",
   "execution_count": 7,
   "metadata": {},
   "outputs": [],
   "source": [
    "def text_filtering(df_dataset):\n",
    "    df_dataset['filtered_body_text'] = df_dataset['body_text'].copy()# change this back to body-text\n",
    "    #remove square bracket contents\n",
    "    df_dataset['filtered_body_text'] = df_dataset['filtered_body_text'].apply(lambda x: re.sub('\\[.*?\\]','',x))\n",
    "    print('square bracket contents removal done')\n",
    "    #remove parenthesis contents\n",
    "    df_dataset['filtered_body_text'] = df_dataset['filtered_body_text'].apply(lambda x: re.sub('\\(.*?\\)','',x))\n",
    "    print('parenthesis contents removal done')\n",
    "    #remove punctuation except hyphen\n",
    "    df_dataset['filtered_body_text'] = df_dataset['filtered_body_text'].apply(lambda x: re.sub('[^a-zA-z0-9\\s-]','',x))\n",
    "    print('punctuation removal done')\n",
    "    #remove \\n \\t\n",
    "    df_dataset['filtered_body_text'] = df_dataset['filtered_body_text'].apply(lambda x: re.sub('\\n|\\t',' ',x))\n",
    "    print('\\\\n \\\\t removal done')\n",
    "    #remove extra space\n",
    "    df_dataset['filtered_body_text'] = df_dataset['filtered_body_text'].apply(lambda x: re.sub(' +',' ',x))\n",
    "    print('extra space removal done')\n",
    "#     remove non alpha numeric\n",
    "#     df_dataset['filtered_body_text'] = df_dataset['filtered_body_text'].apply(lambda x: \"\".join(filter(str.isalnum, x)))\n",
    "#     print('non alpha numeric removal done')\n",
    "    # make everything lower case\n",
    "    df_dataset['filtered_body_text'] = df_dataset['filtered_body_text'].apply(lambda x: x.lower())\n",
    "    print('everything made lowercase')\n",
    "    return df_dataset"
   ]
  },
  {
   "cell_type": "markdown",
   "metadata": {},
   "source": [
    "Function to filter only english papers\n",
    "* Input : Dataframe\n",
    "* Output : Dataframe with only english papers\n",
    "\n",
    "\n",
    "Checks if word 'the' is present in the paper\n",
    "* If No : the peper is mostly not from english"
   ]
  },
  {
   "cell_type": "code",
   "execution_count": 8,
   "metadata": {},
   "outputs": [],
   "source": [
    "def filter_english(df_dataset, show_ignored=False):\n",
    "    print(\"Filtering English Documents\")\n",
    "    ignore_idxs = []\n",
    "    for i in tqdm(range(df_dataset.shape[0])):\n",
    "        try:\n",
    "            if not detect(df_dataset.iloc[i]['filtered_body_text'][:]) == \"en\":\n",
    "                ignore_idxs.append(i)\n",
    "        except:\n",
    "            ignore_idxs.append(i)\n",
    "\n",
    "#     for i in range(df_dataset.shape[0]):\n",
    "#         if ' the ' not in df_dataset.iloc[i]['filtered_body_text']:\n",
    "#             ignore_idxs.append(i)\n",
    "    \n",
    "    if show_ignored:\n",
    "        for i in ignore_idxs[:10]:\n",
    "            print (df_dataset.iloc[i]['filtered_body_text'][:250]+\"......\")\n",
    "            print(\"=\"*140)\n",
    "            \n",
    "    df_dataset.drop(df_dataset.index[ignore_idxs], inplace=True)\n",
    "    return df_dataset"
   ]
  },
  {
   "cell_type": "markdown",
   "metadata": {},
   "source": [
    "Function to remove small papers\n",
    "* Input : Dataframe\n",
    "* Output : Dataframe with only papers with more than 500 letters in them.\n",
    "\n",
    "\n",
    "If paper has less than 500 letters then it is mostly comments or random text."
   ]
  },
  {
   "cell_type": "code",
   "execution_count": 9,
   "metadata": {},
   "outputs": [],
   "source": [
    "def remove_small_papers(df_dataset, show_ignored=False):\n",
    "    ignore_idxs = []\n",
    "    for i in tqdm(range(df_dataset.shape[0])):\n",
    "        if len(df_covid_small.iloc[i]['filtered_body_text']) < 500:\n",
    "                ignore_idxs.append(i)\n",
    "    if show_ignored:\n",
    "        for i in ignore_idxs[:10]:\n",
    "            print (df_dataset.iloc[i]['filtered_body_text'][:250]+\"......\")\n",
    "            print(\"=\"*140)\n",
    "    df_dataset.drop(df_dataset.index[ignore_idxs], inplace=True)\n",
    "    return df_dataset"
   ]
  },
  {
   "cell_type": "code",
   "execution_count": 10,
   "metadata": {},
   "outputs": [
    {
     "name": "stdout",
     "output_type": "stream",
     "text": [
      "Cleaning Dataset\n",
      "<class 'pandas.core.frame.DataFrame'>\n",
      "Int64Index: 14924 entries, 0 to 14999\n",
      "Data columns (total 5 columns):\n",
      " #   Column     Non-Null Count  Dtype \n",
      "---  ------     --------------  ----- \n",
      " 0   paper_id   14924 non-null  object\n",
      " 1   title      14924 non-null  object\n",
      " 2   authors    14924 non-null  object\n",
      " 3   abstract   14924 non-null  object\n",
      " 4   body_text  14924 non-null  object\n",
      "dtypes: object(5)\n",
      "memory usage: 699.6+ KB\n"
     ]
    }
   ],
   "source": [
    "df_covid = dataset_cleanup(df_covid)\n",
    "df_covid.info()"
   ]
  },
  {
   "cell_type": "code",
   "execution_count": 11,
   "metadata": {},
   "outputs": [],
   "source": [
    "df_covid_small = df_covid.head(10000).copy()\n",
    "# df_covid_small = df_covid.copy()"
   ]
  },
  {
   "cell_type": "code",
   "execution_count": 12,
   "metadata": {},
   "outputs": [
    {
     "name": "stdout",
     "output_type": "stream",
     "text": [
      "square bracket contents removal done\n",
      "parenthesis contents removal done\n",
      "punctuation removal done\n",
      "\\n \\t removal done\n",
      "extra space removal done\n",
      "everything made lowercase\n",
      "Cleaning Dataset\n"
     ]
    },
    {
     "name": "stderr",
     "output_type": "stream",
     "text": [
      "100%|██████████| 9999/9999 [00:01<00:00, 7484.44it/s]\n",
      "  0%|          | 0/9930 [00:00<?, ?it/s]"
     ]
    },
    {
     "name": "stdout",
     "output_type": "stream",
     "text": [
      "Filtering English Documents\n"
     ]
    },
    {
     "name": "stderr",
     "output_type": "stream",
     "text": [
      "100%|██████████| 9930/9930 [11:32<00:00, 14.35it/s]\n"
     ]
    },
    {
     "name": "stdout",
     "output_type": "stream",
     "text": [
      "Cleaning Dataset\n"
     ]
    }
   ],
   "source": [
    "df_covid_small = text_filtering(df_covid_small)\n",
    "df_covid_small = dataset_cleanup(df_covid_small)\n",
    "df_covid_small = remove_small_papers(df_covid_small)\n",
    "df_covid_small = filter_english(df_covid_small)\n",
    "df_covid_small = dataset_cleanup(df_covid_small)"
   ]
  },
  {
   "cell_type": "code",
   "execution_count": 13,
   "metadata": {},
   "outputs": [
    {
     "name": "stdout",
     "output_type": "stream",
     "text": [
      "<class 'pandas.core.frame.DataFrame'>\n",
      "Int64Index: 9551 entries, 0 to 10030\n",
      "Data columns (total 6 columns):\n",
      " #   Column              Non-Null Count  Dtype \n",
      "---  ------              --------------  ----- \n",
      " 0   paper_id            9551 non-null   object\n",
      " 1   title               9551 non-null   object\n",
      " 2   authors             9551 non-null   object\n",
      " 3   abstract            9551 non-null   object\n",
      " 4   body_text           9551 non-null   object\n",
      " 5   filtered_body_text  9551 non-null   object\n",
      "dtypes: object(6)\n",
      "memory usage: 522.3+ KB\n",
      "                                       paper_id  \\\n",
      "0      a08629ffb6fc1b030dfbaa4f1a3e233e1e9b76d9   \n",
      "1      f2638c7eb97ffdb517aa05fc26353f1af3cd8305   \n",
      "2      71ff6abe3023a4c48fd6e6c54265bce395b88397   \n",
      "3      e668cd173db14ab973db135bc4fdb6f954e1515c   \n",
      "4      eb1cc7c78d58eee6f6f81092426a9a5c9aab696c   \n",
      "...                                         ...   \n",
      "10026  4de66808e17dc7e6b9b5830eb1c6391af86aa4c3   \n",
      "10027  31444d7f1ab91c135915a78182b26f5df3ca1048   \n",
      "10028  a5e267badc4cd6f39d69d57cd96c41f4681151bd   \n",
      "10029  121f06c44cde088607a6f4d16098eb6101513c01   \n",
      "10030  048c7bb1e8a9079d4002bc1b8c2e9d8993abd130   \n",
      "\n",
      "                                                   title  \\\n",
      "0      Membrane Biology Preferred Apical Distribution...   \n",
      "1      Facing COVID-19 in the ICU: vascular dysfuncti...   \n",
      "2      Rhinovirus-associated pulmonary exacerbations ...   \n",
      "3      Disparities in the Population at Risk of Sever...   \n",
      "4                                                          \n",
      "...                                                  ...   \n",
      "10026  Increased survival of cirrhotic patients with ...   \n",
      "10027  An Overview of Enzymatic Reagents for the Remo...   \n",
      "10028  Persistence of encysted Toxoplasma gondii in t...   \n",
      "10029  Pulsed electromagnetic fields stimulation prev...   \n",
      "10030  Update: Severe Respiratory Illness Associated ...   \n",
      "\n",
      "                                                 authors  \\\n",
      "0      Michael Lisanti, Andr6 Le Bivic, Alan Saltielt...   \n",
      "1      Daniel Leisman, Clifford Deutschman, Matthieu ...   \n",
      "2      Mathias Cousin, Nicolas Molinari, Vincent Foul...   \n",
      "3              Matthew Raifman, Julia Scd, Julia Raifman   \n",
      "4                                                          \n",
      "...                                                  ...   \n",
      "10026  Bertrand Sauneuf, Benoit Champigneulle, Alexis...   \n",
      "10027                                        David Waugh   \n",
      "10028                   G Desmonts, J Remington, J Dubey   \n",
      "10029  Shuai Ding, Hao Peng, Hong-Song Fang, Jian-Lin...   \n",
      "10030                                                      \n",
      "\n",
      "                                                abstract  \\\n",
      "0      We use a sensitive biotin polarity assay to su...   \n",
      "1                                                          \n",
      "2                                                          \n",
      "3                                                          \n",
      "4                                                          \n",
      "...                                                  ...   \n",
      "10026  Introduction: The overall outcome of septic sh...   \n",
      "10027  Although they are often exploited to facilitat...   \n",
      "10028  Equine toxoplasmosis: A survey for antibodies ...   \n",
      "10029  Background: Pulsed electromagnetic fields (PEM...   \n",
      "10030                                                      \n",
      "\n",
      "                                               body_text  \\\n",
      "0      The conventional mechanism by which glycoprore...   \n",
      "1      Published data [1, 2] , anecdotal observations...   \n",
      "2      Despite conventional management with antibioti...   \n",
      "3      Identifying those at heightened risk of severe...   \n",
      "4      evolved to respiratory and renal failure (with...   \n",
      "...                                                  ...   \n",
      "10026  The overall incidence of severe sepsis and sep...   \n",
      "10027  Affinity tags have become essential tools for ...   \n",
      "10028  and the agglutination reaction is magnified be...   \n",
      "10029  Osteonecrosis of the femoral head is the end p...   \n",
      "10030  On June 7, 2013, this report was posted as an ...   \n",
      "\n",
      "                                      filtered_body_text  \n",
      "0      the conventional mechanism by which glycoprore...  \n",
      "1      published data anecdotal observations and disc...  \n",
      "2      despite conventional management with antibioti...  \n",
      "3      identifying those at heightened risk of severe...  \n",
      "4      evolved to respiratory and renal failure and w...  \n",
      "...                                                  ...  \n",
      "10026  the overall incidence of severe sepsis and sep...  \n",
      "10027  affinity tags have become essential tools for ...  \n",
      "10028  and the agglutination reaction is magnified be...  \n",
      "10029  osteonecrosis of the femoral head is the end p...  \n",
      "10030  on june 7 2013 this report was posted as an mm...  \n",
      "\n",
      "[9551 rows x 6 columns]\n"
     ]
    }
   ],
   "source": [
    "df_covid_small.info()\n",
    "print(df_covid_small)"
   ]
  },
  {
   "cell_type": "markdown",
   "metadata": {},
   "source": [
    "# Apply Glove Vectors"
   ]
  },
  {
   "cell_type": "markdown",
   "metadata": {},
   "source": [
    "Customize_stop_words taken from notebook: Topic Modeling: Finding Related Articles, by Daniel Wolffram https://www.kaggle.com/ivanegapratama/covid-eda-initial-exploration-tool"
   ]
  },
  {
   "cell_type": "code",
   "execution_count": 14,
   "metadata": {},
   "outputs": [],
   "source": [
    "customize_stop_words = [\n",
    "    'doi', 'preprint', 'copyright', 'peer', 'reviewed', 'org', 'https', 'et', 'al', 'author', 'figure', \n",
    "    'rights', 'reserved', 'permission', 'used', 'using', 'biorxiv', 'medrxiv', 'license', 'fig', 'fig.', 'al.', 'Elsevier', 'PMC', 'CZI',\n",
    "    '-PRON-'\n",
    "]\n",
    "final_stop_words = set(stopwords.words('english')).union(STOP_WORDS).union(set(customize_stop_words))"
   ]
  },
  {
   "cell_type": "code",
   "execution_count": 15,
   "metadata": {},
   "outputs": [],
   "source": [
    "#From coursera course on sequence models\n",
    "def read_glove_vecs(glove_file):\n",
    "    with open(glove_file, 'r') as f:\n",
    "        words = set()\n",
    "        word_to_vec_map = {}\n",
    "        for line in f:\n",
    "            line = line.strip().split()\n",
    "            curr_word = line[0]\n",
    "            words.add(curr_word)\n",
    "            word_to_vec_map[curr_word] = np.array(line[1:], dtype=np.float64)\n",
    "    return word_to_vec_map\n",
    "\n",
    "root_path = '/kaggle/input/glove6b100d'\n",
    "word_to_vec_map = read_glove_vecs(f'{root_path}/glove.6B.100d.txt')"
   ]
  },
  {
   "cell_type": "markdown",
   "metadata": {},
   "source": [
    "Function words_freq_atleast_2 which will take a body text and returns a list containing only those words and their frequency which have frequency greater than one.\n",
    "* Input : Filtered body text\n",
    "* Output : List of words with frequency atleast 2\n"
   ]
  },
  {
   "cell_type": "code",
   "execution_count": 19,
   "metadata": {},
   "outputs": [
    {
     "data": {
      "text/plain": [
       "[('angii', 17),\n",
       " ('covid-19', 15),\n",
       " ('endothelial', 13),\n",
       " ('patient', 11),\n",
       " ('vascular', 9)]"
      ]
     },
     "execution_count": 19,
     "metadata": {},
     "output_type": "execute_result"
    }
   ],
   "source": [
    "def words_freq_atleast_2(filtered_body_text):\n",
    "    #tokenize the text\n",
    "    tokens = nltk.word_tokenize(filtered_body_text)\n",
    "    #print(tokens)\n",
    "    #remove stop words\n",
    "    tokens = list(filter(lambda x: x not in final_stop_words, tokens))\n",
    "    #lemmatize the words so that other forms of same word becomes a single word\n",
    "    tokens = list(map(lambda x: nltk.WordNetLemmatizer().lemmatize(x), tokens))\n",
    "    #return words which have frequency greater than 1\n",
    "    #print(tokens[:5])\n",
    "    return list(filter(lambda x: x[1] != 1, Counter(tokens).most_common()))\n",
    "\n",
    "words_freq_atleast_2(df_covid_small.iloc[1]['filtered_body_text'])[:5]"
   ]
  },
  {
   "cell_type": "markdown",
   "metadata": {},
   "source": [
    "Function doc_to_vec to get vectors of the documents\n",
    "* Input : document text\n",
    "* Output : vector of length 100\n",
    "\n",
    "Get the embeddings for each word returned by the function words_freq_atleast_2, add them and then compute average to get the embeddings for the document."
   ]
  },
  {
   "cell_type": "code",
   "execution_count": 20,
   "metadata": {},
   "outputs": [],
   "source": [
    "def doc_to_vec(doc_text):\n",
    "    words_freq = words_freq_atleast_2(doc_text)\n",
    "    doc_embedding_vec = np.zeros(word_to_vec_map[\"a\"].shape)\n",
    "    num_words = 0\n",
    "    for word_freq in words_freq:\n",
    "        word = word_freq[0]\n",
    "        freq = word_freq[1]\n",
    "        try:\n",
    "            #adding word embeddings for each word in the document\n",
    "            doc_embedding_vec += (word_to_vec_map[word] * freq)\n",
    "            num_words += freq\n",
    "        except:\n",
    "            continue\n",
    "    if num_words != 0:\n",
    "        # doing average\n",
    "        doc_embedding_vec /= num_words\n",
    "    else:\n",
    "        doc_embedding_vec = np.zeros(word_to_vec_map[\"a\"].shape)\n",
    "    \n",
    "#     print(np.isnan(doc_embedding_vec).any())\n",
    "    return [doc_embedding_vec, not (np.isnan(doc_embedding_vec).any())]"
   ]
  },
  {
   "cell_type": "markdown",
   "metadata": {},
   "source": [
    "Function dataset_to_vectors to convert whole dataset into multiple vectors\n",
    "* Input : dataframe\n",
    "* Output : array of vectors one for each document"
   ]
  },
  {
   "cell_type": "code",
   "execution_count": 21,
   "metadata": {},
   "outputs": [],
   "source": [
    "def dataset_to_vectors(ds):\n",
    "    doc_embeddings = np.zeros((len(ds),100))\n",
    "    for i in tqdm(range(len(ds))):\n",
    "#         if i % 1000 == 0:\n",
    "#             print(\"working on \"+str(i)+\"th document of \"+str(len(ds))+\" documents...\")\n",
    "        doc_embedding_vec, hit = doc_to_vec(ds.iloc[i]['filtered_body_text'])\n",
    "        if not hit:\n",
    "            print(\"No word in document {} as vector in glove\".format(i))\n",
    "        doc_embeddings[i,:] = doc_embedding_vec\n",
    "    return doc_embeddings"
   ]
  },
  {
   "cell_type": "code",
   "execution_count": 22,
   "metadata": {},
   "outputs": [
    {
     "name": "stderr",
     "output_type": "stream",
     "text": [
      "100%|██████████| 9551/9551 [10:34<00:00, 15.06it/s]  \n"
     ]
    }
   ],
   "source": [
    "doc_embeddings = dataset_to_vectors(df_covid_small)"
   ]
  },
  {
   "cell_type": "code",
   "execution_count": 23,
   "metadata": {},
   "outputs": [
    {
     "name": "stdout",
     "output_type": "stream",
     "text": [
      "(9551, 100)\n"
     ]
    }
   ],
   "source": [
    "print(doc_embeddings.shape)"
   ]
  },
  {
   "cell_type": "markdown",
   "metadata": {},
   "source": [
    "Define a function get_kw_embedding_vec which takes as input keywords from the question and returns keyword embedding vectors."
   ]
  },
  {
   "cell_type": "code",
   "execution_count": 16,
   "metadata": {},
   "outputs": [],
   "source": [
    "def get_kw_embedding_vec(key_words):\n",
    "    #key_words=['virus', 'genetics', 'origin', 'evolution', 'real-time', 'tracking', 'whole', 'genomes']\n",
    "    kw_embedding_vec = np.zeros(word_to_vec_map[\"a\"].shape)\n",
    "    for kw in key_words:\n",
    "        try:\n",
    "            kw_embedding_vec += word_to_vec_map[kw]\n",
    "        except:\n",
    "            continue\n",
    "    kw_embedding_vec /= len(key_words)\n",
    "    return kw_embedding_vec"
   ]
  },
  {
   "cell_type": "markdown",
   "metadata": {},
   "source": [
    "Define a function get_kw_from_question which will return keywords(filtered tokens) from a question."
   ]
  },
  {
   "cell_type": "code",
   "execution_count": 17,
   "metadata": {},
   "outputs": [],
   "source": [
    "def get_kw_from_question(question):\n",
    "    question = question.lower()\n",
    "    #remove hyphen from string.punctuation and remove all other punctuation\n",
    "    question = question.translate(str.maketrans('', '', '!\"#$%&\\'()*+,./:;<=>?@[\\\\]^_`{|}~'))\n",
    "    tokens = nltk.word_tokenize(question)\n",
    "    #remove stop words\n",
    "    tokens = list(filter(lambda x: x not in final_stop_words, tokens))\n",
    "    #lemmatize the words so that other forms of same word becomes a single word\n",
    "    tokens = list(map(lambda x: nltk.WordNetLemmatizer().lemmatize(x), tokens))\n",
    "    #return words which have frequency greater than 1\n",
    "    return list(set(tokens))"
   ]
  },
  {
   "cell_type": "code",
   "execution_count": 18,
   "metadata": {},
   "outputs": [
    {
     "data": {
      "text/plain": [
       "['genetics',\n",
       " 'evolution',\n",
       " 'genome',\n",
       " 'origin',\n",
       " 'virus',\n",
       " 'tracking',\n",
       " 'know',\n",
       " 'real-time']"
      ]
     },
     "execution_count": 18,
     "metadata": {},
     "output_type": "execute_result"
    }
   ],
   "source": [
    "question = \"What do we know about virus genetics, origin, and evolution? What do we know about Real-time tracking of whole genomes\"\n",
    "keywords = get_kw_from_question(question)\n",
    "keywords"
   ]
  },
  {
   "cell_type": "code",
   "execution_count": 24,
   "metadata": {},
   "outputs": [],
   "source": [
    "kw_embedding_vec = get_kw_embedding_vec(keywords)\n",
    "norm_kw_embedding = np.sqrt(np.dot(kw_embedding_vec, kw_embedding_vec))"
   ]
  },
  {
   "cell_type": "markdown",
   "metadata": {},
   "source": [
    "# Cosine similarity\n",
    "(taken from coursera course on sequence models by deeplearning.ai taught by Andrew Ng: https://www.coursera.org/learn/nlp-sequence-models)  \n",
    "To measure the similarity between two words, we need a way to measure the degree of similarity between two embedding vectors for the two words. Given two vectors $u$ and $v$, cosine similarity is defined as follows: \n",
    "\n",
    "$$\\text{CosineSimilarity(u, v)} = \\frac {u \\cdot v} {||u||_2 ||v||_2} = cos(\\theta) \\tag{1}$$\n",
    "* $u \\cdot v$ is the dot product (or inner product) of two vectors\n",
    "* $||u||_2$ is the norm (or length) of the vector $u$\n",
    "* $\\theta$ is the angle between $u$ and $v$. \n",
    "* The cosine similarity depends on the angle between $u$ and $v$. \n",
    "    * If $u$ and $v$ are very similar, their cosine similarity will be close to 1.\n",
    "    * If they are dissimilar, the cosine similarity will take a smaller value."
   ]
  },
  {
   "cell_type": "code",
   "execution_count": 25,
   "metadata": {},
   "outputs": [],
   "source": [
    "def get_cosine_sim(doc_vec, query_vec):\n",
    "    norm_doc_vec = np.linalg.norm(doc_vec, axis=1)\n",
    "    norm_query_vec = np.linalg.norm(query_vec)\n",
    "    query_vec = query_vec.reshape(query_vec.shape[0], 1)\n",
    "    dot_prod = np.dot(doc_vec, query_vec)\n",
    "    prod_norm = norm_doc_vec * norm_query_vec\n",
    "    prod_norm = prod_norm.reshape(prod_norm.shape[0], 1)\n",
    "    cosine_sim = dot_prod / prod_norm\n",
    "    return cosine_sim"
   ]
  },
  {
   "cell_type": "code",
   "execution_count": 26,
   "metadata": {},
   "outputs": [],
   "source": [
    "def compute_cosine_get_idxs(doc_embeddings, query_embeddings):\n",
    "    cosine_similarity = get_cosine_sim(doc_embeddings, query_embeddings)\n",
    "    cosine_similarity = cosine_similarity.reshape(-1,)\n",
    "    reqd_idxs = np.argpartition(cosine_similarity, -5)[-5:]\n",
    "    reqd_idxs = reqd_idxs[np.argsort(cosine_similarity[reqd_idxs])][::-1]\n",
    "    return reqd_idxs"
   ]
  },
  {
   "cell_type": "code",
   "execution_count": 27,
   "metadata": {},
   "outputs": [],
   "source": [
    "cosine_similarity = get_cosine_sim(doc_embeddings, kw_embedding_vec)"
   ]
  },
  {
   "cell_type": "code",
   "execution_count": 28,
   "metadata": {},
   "outputs": [
    {
     "data": {
      "text/plain": [
       "Text(0, 0.5, 'cosine similarity with question keywords')"
      ]
     },
     "execution_count": 28,
     "metadata": {},
     "output_type": "execute_result"
    },
    {
     "data": {
      "image/png": "[encoded data removed]",
      "text/plain": [
       "<Figure size 1440x720 with 1 Axes>"
      ]
     },
     "metadata": {},
     "output_type": "display_data"
    }
   ],
   "source": [
    "fig = plt.figure(figsize=(20,10))\n",
    "plt.plot(cosine_similarity[:100])\n",
    "plt.xlabel('document/article index')\n",
    "plt.ylabel('cosine similarity with question keywords')"
   ]
  },
  {
   "cell_type": "code",
   "execution_count": 29,
   "metadata": {},
   "outputs": [],
   "source": [
    "cosine_similarity = cosine_similarity.reshape(-1,)"
   ]
  },
  {
   "cell_type": "code",
   "execution_count": 30,
   "metadata": {},
   "outputs": [
    {
     "data": {
      "text/plain": [
       "array([ 156, 5369, 7551, 7205,   77])"
      ]
     },
     "execution_count": 30,
     "metadata": {},
     "output_type": "execute_result"
    }
   ],
   "source": [
    "reqd_idxs = np.argpartition(cosine_similarity, -5)[-5:]\n",
    "reqd_idxs = reqd_idxs[np.argsort(cosine_similarity[reqd_idxs])][::-1]\n",
    "reqd_idxs"
   ]
  },
  {
   "cell_type": "code",
   "execution_count": 31,
   "metadata": {},
   "outputs": [
    {
     "data": {
      "text/plain": [
       "'en'"
      ]
     },
     "execution_count": 31,
     "metadata": {},
     "output_type": "execute_result"
    }
   ],
   "source": [
    "detect(df_covid_small.iloc[6141]['filtered_body_text'][:])"
   ]
  },
  {
   "cell_type": "code",
   "execution_count": 32,
   "metadata": {},
   "outputs": [
    {
     "data": {
      "text/plain": [
       "array([0.89196312, 0.89177695, 0.88193827, 0.88160344, 0.8792951 ])"
      ]
     },
     "execution_count": 32,
     "metadata": {},
     "output_type": "execute_result"
    }
   ],
   "source": [
    "cosine_similarity[reqd_idxs]"
   ]
  },
  {
   "cell_type": "code",
   "execution_count": 33,
   "metadata": {},
   "outputs": [
    {
     "name": "stdout",
     "output_type": "stream",
     "text": [
      "Articles for your question: \n",
      "Quasispecies and the implications for virus persistence and escape by Esteban Domingo\n",
      "quasispecies defines a genetic organisation of simple replicons at the population level first proposed by eigen schuster and their colleagues it means that mutant genomes are generated at such high rates that each individual genomic molecule differs on average in one or a few nucleotides from the other molecules and each genomic sequence may deviate from the average or consensus sequence for example in the proposal of the quasispecies model for phage qi it was found that the most abundant genome amounted to 10 -20 of the population this experimental finding agreed with theoretical predictions of eigen and colleagues given the complexity of the qi genome and the mutation rate during its replication since this first proposal that bacteriophage qi replicating in escherichia coli displayed features of a quasispecies a steadily increasing number of rna viruses have been shown to share such a population structure this paper updates some observations on quasispecies and highlights a few criti......\n",
      "============================================================================================================================================\n",
      "Functional genomics as a tool in virus research by Ruchi Ratra, Sunil Lal\n",
      "the genomics era has revolutionized the biological sciences and has heralded the emergence of new omics methodologies such as transcriptomics proteomics metabolomics phosphoproteomics interactomicssystem biology and so on for years the scientists have followed the reductionist approach where a single gene and its functions and activities are studied in isolation although this branch of experimental biology is indispensable biological processes are now being looked at as a whole functional genomics has been defi ned by hieter and boguski as the development and application of global experimental approaches to assess gene function by making use of the information and reagents provided by genome sequencing and mapping functional genomics makes use of the vast wealth of data generated by the various genome projects to describe the gene functions and its interactions functional genomics describes a biological process by taking into account the mutations and r ratra s k lal virology group int......\n",
      "============================================================================================================================================\n",
      "Full genome sequence of guinea fowl coronavirus associated with fulminating disease by Mariette Ducatez, Etienne Liais, Guillaume Croville, Jean-Luc Guérin\n",
      "coronaviruses are enveloped viruses with positivesense non-segmented rna genomes of 25-32 kb covs infect a wide range of hosts causing various degrees of morbidity and mortality group i covs contain viruses that infect not only humans but also cats and dogs or pigs similarly group ii covs may infect humans -related covs or the recently emerged mers-cov horses or cattle in contrast group iii covs primarily infect birds chickens peafowl and partridges harbour infectious bronchitis virus while turkeys have turkey cov and guinea fowl may be infected with guinea fowl cov gammacoronavirus strains have however been isolated from a whale and a wild felid group iv covs have been detected in birds or pigs interestingly covs of the groups i ii and iv have been detected in chiroptera thought to be the reservoir of covs in the present study we focused on a new member of the group iii covs gfcov and aimed at sequencing its full genome to better understand its molecular relationship with gammacoronav......\n",
      "============================================================================================================================================\n",
      " by \n",
      "the mastomys natalensis rat are increased in west africa during the dry seasons when the rats are more likely to be inside individuals houses fluctuations in climate resulting in increasing crop yields and the associated rat population followed by a severe drought can lead to increased cases of lassa fever furthermore climactic changes are altering vector-borne infectious disease risks due to expanded vector ranges for example there is an increased risk of lyme disease in canada due to tick range expansion and climate change is expanding the mosquito range and the associated infectious disease risk of aedes albopictus in the united states rna viruses represent a significant source of viral outbreaks due partly to the higher mutation rate and error prone nature of rna replication itself newly introduced mutations into a viral genome can confer new pathogenic characteristics such as enabling transmission to new species or increased virulence for instance mutations within the severe acute......\n",
      "============================================================================================================================================\n",
      "Comparative analyses of SAR-CoV2 genomes from different geographical locations and other coronavirus family genomes reveals unique features potentially consequential to host-virus interaction and pathogenesis by Rahila Sardar, Deepshikha Satish, Shweta Birla, Dinesh Gupta, Group Leader\n",
      "the first case of covid-19 patient was reported in december 2019 at wuhan and then it has spread worldwide to become a pandemic with maximum death cases in italy though initiallythe maximum mortality was reported from china according to a who report as on 18 th march 2020 there were confirmed 209 839 covid-19 cases and 8778 cases of deaths that includes cases which were locally transmitted or imported there are published reports which suggests that sars-cov2 shares highest similarity with bat sars-cov scientists across the globe are trying to elucidate the genome characteristics using phylogenetic structural and mutational analysis recent paper identified specific mutations in receptor binding domain domain of spike protein which is most variable part in coronavirus genome there are more than 400 sars-cov2 assembled genomes available at ncbi database sequence analysis of the genomes can give us plethora of information which can of use for drug development and vaccine development resear......\n",
      "============================================================================================================================================\n"
     ]
    }
   ],
   "source": [
    "print(\"Articles for your question: \")\n",
    "for idx in reqd_idxs:\n",
    "    print(df_covid_small.iloc[idx]['title']+\" by \"+ df_covid_small.iloc[idx]['authors'])\n",
    "    print(df_covid_small.iloc[idx]['filtered_body_text'][:1000]+\"......\")\n",
    "    print(\"=\"*140)"
   ]
  },
  {
   "cell_type": "markdown",
   "metadata": {},
   "source": [
    "# Pros and Cons of the approach:    \n",
    "**Pros**:  \n",
    "Once the matrix and vector product is constructed, getting cosine similarity between keywords of the question and articles in the corpus is very fast. By just one matrix vector multiplication, we can get cosine similarities between all the articles and keywords of the question. Since sorting the entire vector consisting of cosine similarities is not needed, so use numpy.argpartition which runs in linear time. So, overall this method to get relevant articles according to the question is fast.\n",
    "  \n",
    "**Cons**:  \n",
    "This matrix vector multiplication will become computationally expensive when the size of the matrix grows i.e. if the number of articles in the corpus is very high then matrix vector multiplication will be slow. To solve this we can split the document embedding matrix into multiple document embedding matrices of smaller size and can then compute the matrix vector products simultaneously in parallel. "
   ]
  },
  {
   "cell_type": "markdown",
   "metadata": {},
   "source": [
    "# Rahul"
   ]
  },
  {
   "cell_type": "markdown",
   "metadata": {},
   "source": [
    "<h1>Text Summarization<h1>"
   ]
  },
  {
   "cell_type": "code",
   "execution_count": 34,
   "metadata": {},
   "outputs": [],
   "source": [
    "import heapq"
   ]
  },
  {
   "cell_type": "code",
   "execution_count": 35,
   "metadata": {},
   "outputs": [],
   "source": [
    "#function to calculate weighted frequency of all words extracted\n",
    "def weighted_freq(formatted_article_text,stopwords):\n",
    "    word_frequencies = {}\n",
    "    for word in nltk.word_tokenize(formatted_article_text):\n",
    "        if word not in stopwords:\n",
    "            if word not in word_frequencies.keys():\n",
    "                word_frequencies[word] = 1\n",
    "            else:\n",
    "                word_frequencies[word] += 1\n",
    "    maximum_frequncy = max(word_frequencies.values())\n",
    "\n",
    "    for word in word_frequencies.keys():\n",
    "        word_frequencies[word] = (word_frequencies[word]/maximum_frequncy)\n",
    "    return word_frequencies"
   ]
  },
  {
   "cell_type": "code",
   "execution_count": 36,
   "metadata": {},
   "outputs": [],
   "source": [
    "#function to rank sentences using weighted frequencies\n",
    "def rank_sentences(sentence_list, word_frequencies):\n",
    "    sentence_scores = {}\n",
    "    for sent in sentence_list:\n",
    "        for word in nltk.word_tokenize(sent.lower()):\n",
    "            if word in word_frequencies.keys():\n",
    "                if len(sent.split(' ')) < 30:\n",
    "                    if sent not in sentence_scores.keys():\n",
    "                        sentence_scores[sent] = word_frequencies[word]\n",
    "                    else:\n",
    "                        sentence_scores[sent] += word_frequencies[word]\n",
    "    return sentence_scores"
   ]
  },
  {
   "cell_type": "code",
   "execution_count": 37,
   "metadata": {},
   "outputs": [],
   "source": [
    "def print_summary(sentences):\n",
    "    summary = ' '.join(sentences)\n",
    "    print(summary+'\\n')"
   ]
  },
  {
   "cell_type": "code",
   "execution_count": 38,
   "metadata": {},
   "outputs": [],
   "source": [
    "def generate_summary(doc_indx):\n",
    "    for idx in doc_indx:\n",
    "        print(\"Summary for article: \"+ df_covid_small.iloc[idx]['title'])\n",
    "        #tokenize sentences\n",
    "        sentence_list = nltk.sent_tokenize(df_covid_small.iloc[idx]['body_text'])\n",
    "        stopwords = nltk.corpus.stopwords.words('english')\n",
    "        #get preprocessed articles\n",
    "        formatted_article_text = df_covid_small.iloc[idx]['filtered_body_text']\n",
    "        #calculate weighted frequencies\n",
    "        word_frequencies = weighted_freq(formatted_article_text,stopwords)\n",
    "        #rank sentences\n",
    "        sentence_scores = rank_sentences(sentence_list, word_frequencies)\n",
    "        #generate summary\n",
    "        summary_sentences = heapq.nlargest(8, sentence_scores, key=sentence_scores.get)\n",
    "        #print summary\n",
    "        print_summary(summary_sentences)"
   ]
  },
  {
   "cell_type": "markdown",
   "metadata": {},
   "source": [
    "Summary for \"What do we know about virus genetics, origin, and evolution? What do we know about Real-time tracking of whole genomes?\""
   ]
  },
  {
   "cell_type": "code",
   "execution_count": 39,
   "metadata": {},
   "outputs": [
    {
     "name": "stdout",
     "output_type": "stream",
     "text": [
      "Summary for article: Quasispecies and the implications for virus persistence and escape\n",
      "Research to better understand quasispecies composition and dynamics is urgently needed, since quasispecies are an important step in the natural history of RNA viruses. Quasispecies structure is an important problem for viral disease control and should not be minimised on account of the indeterminations found when trying to define compositions of mutant spectra. The links between the original theoretical quasispecies concept and viral quasispecies have been discussed in several recent papers Eigen, 1996; . Biological implications of quasispecies extend from viral pathogenesis to the emergence of new viral pathogens (Morse, 1993) . In the extended definition, useful to virology, quasispecies are dynamic distributions of non-identical but closely-related mutant and recombinant viral genomes. One of the most obvious consequences of quasispecies structure is the genetic and antigenic diversification of RNA viruses in nature. This applies to the enzymes that replicate or retrotranscribe viral genomes as well as to those that amplify their genomes in vitro often with comparable numbers of replication rounds. Part of the problem lies in the quasispecies nature of the RNA viral agents.\n",
      "\n",
      "Summary for article: Functional genomics as a tool in virus research\n",
      "DNA microarrays, proteomics and bioinformatic analysis are routinely used to analyze changes in host and viral gene and protein expression that occur in a virus infected cell [25] . Functional genomics approach has been routinely applied to study viral replication, gene expression, evolution, and diagnostics and so on. To further characterize this new virus, approximately 1 kb of the unknown virus genome was cloned by physically recovering viral sequences hybridized to individual array elements. This functional genomics approach revealed nearly 100 genes whose absence inhibited or stimulated BMV RNA replication and/or gene expression by 3 -to >25-fold. Whole Functional genomics approach has also been used to study the cellular innate immune response to virus. Functional Genomics on potato virus A was used to map sites essential for virus propagation [45] . Thus functional genomics approach has been successfully used to study HBV and HCV virus biology and pathogenesis. David Wang's group has previously described a prototype DNA microarray designed for highly parallel viral detection with the potential to detect novel members of known viral families [54] .\n",
      "\n",
      "Summary for article: Full genome sequence of guinea fowl coronavirus associated with fulminating disease\n",
      "The entire genome had a GC content of 38.3 %, identical to the turkey coronavirus (TCoV) MG10 genome [12] . Phylogenetic analysis on the full genome of GfCoV/FR/ 2011 showed it clearly clustered with North American TCoV strains (Fig. Similarly, group II CoVs (betacoronaviruses) may infect humans (examples: HCoV-OC43, HCoV-HKU1, severe acute respiratory syndrome (SARS)-related CoVs or the recently emerged MERS-CoV), horses (with ECoV), or cattle (with BCoV). The present study showed that GfCoV/FR/2011 harbours a genome organization very similar to that of TCoV strains. To determine the full genome of gammaCoV/guinea fowl/ France/s/2011 (GfCoV/FR/2011), we first analysed the data generated on a MiSeq Illumina platform as previously described [5] . Interestingly CoVs of the groups I, II, and IV have been detected in Chiroptera (bats), thought to be the reservoir of CoVs [3, 4] . Sizes of other proteins varied, but within the range observed previously between different TCoV strains. Further studies are warranted to understand the impact of avian CoVs protein sizes in the biology of the viruses.\n",
      "\n",
      "Summary for article: \n",
      "While detection of viruses in wildlife does not predict transmission, identifying mutations or gene acquisitions through surveillance and continued discovery will provide valuable insight in the future. The chapter is divided up into two main sections: viral genomics and host genomics, and include examples of their applications in pathogen detection, population susceptibility, diagnostics, and outbreak response. Applying genomics and the host transcriptome to generalize the response to a viral or bacterial pathogen would allow for more appropriate antibiotic use without requiring direct pathogen detection. In addition to pathogen discovery, metagenomic sequencing is increasingly used to monitor viral genomic changes as an outbreak is occurring [43] [44] [45] [46] . Sequencing human samples from outbreaks has resulted in the discovery of several viruses; however, 70% of emerging human pathogens result from wildlife [36] . The primers and probe are exact matches to the Lassa virus Josiah sequence; however, contain mismatches within other Lassa virus isolates, including ones found in Sierra Leone. Newly introduced mutations into a viral genome can confer new pathogenic characteristics such as enabling transmission to new species or increased virulence. To further complicate the scenario, a new human viral infection may not present with obvious signs of an infection.\n",
      "\n",
      "Summary for article: Comparative analyses of SAR-CoV2 genomes from different geographical locations and other coronavirus family genomes reveals unique features potentially consequential to host-virus interaction and pathogenesis\n",
      "SARS-CoV2 genomes from India, Italy, USA, Nepal along with SARS-CoV and MERS were used as query genomes to compare with Wuhan SARS-CoV2 genome. Assembled SARS-CoV2 genomes sequences in FASTA format from India, USA, China, Italy and Nepal used for coronavirus typing tool analysis. Intriguingly, our analysis (S. Figure 2 ) revealed that there is only a single host miRNA \n",
      "We have used bioinformatics tools to investigate SARS-CoV2 sequences from different geographical locations. We observed that out of all the miRNAs, hsa-miR-27b is the only unique Based on our analysis, we speculate an important regulatory role of miR-27b in SARS-CoV2 infection. We followed the parameters used in various anti-viral miRNA databases to predict host anti-viral miRNAs against SARS-CoV2. To predict host miRNAs targeting the virus, we collected a list of experimentally verified antiviral miRNAs with their targets from VIRmiRNA database (11) . The findings in the study have revealed unique features of the SARS-CoV2 genomes, which may be explored further. Going well with the expectations from a rapidly transmitting pandemic virus, in our analysis, we observed various mutations located in the regions associated with immune response (Table S2) .\n",
      "\n"
     ]
    }
   ],
   "source": [
    "generate_summary(reqd_idxs)"
   ]
  },
  {
   "cell_type": "markdown",
   "metadata": {},
   "source": [
    "# **K Nearest Neighbours Approach**"
   ]
  },
  {
   "cell_type": "code",
   "execution_count": 40,
   "metadata": {},
   "outputs": [],
   "source": [
    "class KNN_finder:\n",
    "    def __init__(self, doc_embeddings, k=5):\n",
    "        self.doc_embeddings = doc_embeddings\n",
    "        self.k = k\n",
    "        \n",
    "    def update_k(self, k):\n",
    "        self.k = k\n",
    "    \n",
    "    def get_euc_dist(self, query_vec):\n",
    "        vec_diff = self.doc_embeddings - query_vec\n",
    "        vec_dist = np.linalg.norm(vec_diff, axis=1)\n",
    "        return vec_dist\n",
    "    \n",
    "    def get_k_nearest(self, query_vec):\n",
    "        vec_dist = self.get_euc_dist(query_vec)\n",
    "        reqd_idxs = np.argpartition(vec_dist, 5)[:5]\n",
    "        reqd_idxs = reqd_idxs[np.argsort(vec_dist[reqd_idxs])]\n",
    "        return reqd_idxs"
   ]
  },
  {
   "cell_type": "code",
   "execution_count": null,
   "metadata": {},
   "outputs": [],
   "source": [
    "# doc_embeddings = dataset_to_vectors(df_covid_small)"
   ]
  },
  {
   "cell_type": "code",
   "execution_count": 41,
   "metadata": {},
   "outputs": [],
   "source": [
    "knn = KNN_finder(doc_embeddings)\n",
    "question = \"What do we know about virus genetics, origin, and evolution? What do we know about Real-time tracking of whole genomes\"\n",
    "keywords = get_kw_from_question(question)\n",
    "kw_embedding_vec = get_kw_embedding_vec(keywords)\n",
    "best_5_indx = knn.get_k_nearest(kw_embedding_vec)"
   ]
  },
  {
   "cell_type": "code",
   "execution_count": 42,
   "metadata": {},
   "outputs": [
    {
     "data": {
      "text/plain": [
       "array([5369,  156, 7205, 7551,   77])"
      ]
     },
     "execution_count": 42,
     "metadata": {},
     "output_type": "execute_result"
    }
   ],
   "source": [
    "best_5_indx"
   ]
  },
  {
   "cell_type": "code",
   "execution_count": 43,
   "metadata": {},
   "outputs": [
    {
     "name": "stdout",
     "output_type": "stream",
     "text": [
      "Functional genomics as a tool in virus research by Ruchi Ratra, Sunil Lal\n",
      "The genomics era has revolutionized the biological sciences and has heralded the emergence of new 'omics' methodologies such as transcriptomics (study of the gene expression and expression levels of mRNAs at a given time and condition), proteomics (study of the entire protein content of a cell/tissue under various conditions, their structure and functions), metabolomics (study of the metabolite profi le of different cellular processes), phosphoproteomics (a branch of proteomics that characterizes proteins that are phosphorylated), interactomics/system biology (a science that unifi es transcriptomics, proteomics and metabolomics to look at the organism as a whole) and so on. For years the scientists have followed the reductionist approach, where a single gene and its functions and activities are studied in isolation. Although this branch of experimental biology is indispensable, biological processes are now being looked at as a whole.\n",
      "Functional Genomics has been defi ned by Hieter and ......\n",
      "============================================================================================================================================\n",
      "Quasispecies and the implications for virus persistence and escape by Esteban Domingo\n",
      "Quasispecies defines a genetic organisation of simple replicons at the population level, first proposed by Eigen, Schuster and their colleagues (Eigen, 1971; Eigen and Schuster, 1979) . It means that mutant genomes are generated at such high rates that each individual genomic molecule differs on average in one or a few nucleotides from the other molecules, and each genomic sequence may deviate from the average or consensus sequence. For example, in the proposal of the quasispecies model for phage Qi it was found that the most abundant genome amounted to 10 -20% of the population. This experimental finding agreed with theoretical predictions of Eigen and colleagues, given the complexity of the Qi genome and the mutation rate during its replication (Domingo et al., 1978) .\n",
      "Since this first proposal that bacteriophage Qi, replicating in Escherichia coli, displayed features of a quasispecies, a steadily increasing number of RNA viruses have been shown to share such a population structure (......\n",
      "============================================================================================================================================\n",
      " by \n",
      "the Mastomys natalensis rat, are increased in West Africa during the dry seasons when the rats are more likely to be inside individuals' houses [21] .\n",
      "Fluctuations in climate resulting in increasing crop yields, and the associated rat population, followed by a severe drought can lead to increased cases of Lassa fever. Furthermore, climactic changes are altering vector-borne infectious disease risks due to expanded vector ranges. For example, there is an increased risk of Lyme disease in Canada due to tick range expansion [22] , and climate change is expanding the mosquito range, and the associated infectious disease risk, of Aedes albopictus in the United States [23] .\n",
      "RNA viruses represent a significant source of viral outbreaks due partly to the higher mutation rate and error prone nature of RNA replication itself [24] . Newly introduced mutations into a viral genome can confer new pathogenic characteristics such as enabling transmission to new species or increased virulence. For ins......\n",
      "============================================================================================================================================\n",
      "Full genome sequence of guinea fowl coronavirus associated with fulminating disease by Mariette Ducatez, Etienne Liais, Guillaume Croville, Jean-Luc Guérin\n",
      "Coronaviruses (CoVs) are enveloped viruses with positivesense, non-segmented RNA genomes of 25-32 kb. CoVs infect a wide range of hosts causing various degrees of morbidity and mortality. Group I CoVs (alphacoronaviruses) contain viruses that infect not only humans (HCoV-229E and HCoV-NL63) but also cats and dogs (with feline CoV and canine CoV, respectively), or pigs (with the porcine transmissible gastroenteritis virus, TGEV for example). Similarly, group II CoVs (betacoronaviruses) may infect humans (examples: HCoV-OC43, HCoV-HKU1, severe acute respiratory syndrome (SARS)-related CoVs or the recently emerged MERS-CoV), horses (with ECoV), or cattle (with BCoV). In contrast, group III CoVs (gammacoronaviruses) primarily infect birds: chickens, peafowl, and partridges harbour infectious bronchitis virus (IBV) while turkeys have turkey CoV (TCoV) and guinea fowl may be infected with guinea fowl CoV (GfCoV). Gammacoronavirus strains have however been isolated from a whale and a wild fel......\n",
      "============================================================================================================================================\n",
      "Comparative analyses of SAR-CoV2 genomes from different geographical locations and other coronavirus family genomes reveals unique features potentially consequential to host-virus interaction and pathogenesis by Rahila Sardar, Deepshikha Satish, Shweta Birla, Dinesh Gupta, Group Leader\n",
      "The first case of COVID-19 patient was reported in December 2019 at Wuhan (China) and then it has spread worldwide to become a pandemic, with maximum death cases in Italy, though initiallythe maximum mortality was reported from China (1). According to a WHO report, as on 18 th March 2020 there were confirmed 209, 839 COVID-19 cases and 8778 cases of deaths, that includes cases which were locally transmitted or imported (2) . There are published reports which suggests that SARS-CoV2 shares highest similarity with bat SARS-CoV. Scientists across the globe are trying to elucidate the genome characteristics using phylogenetic, structural and mutational analysis. Recent paper identified specific mutations in receptor binding domain (RBD) domain of spike protein which is most variable part in coronavirus genome (3) .\n",
      "There are more than 400 SARS-CoV2 assembled genomes available at NCBI database.\n",
      "Sequence analysis of the genomes can give us plethora of information which can of use for drug de......\n",
      "============================================================================================================================================\n"
     ]
    }
   ],
   "source": [
    "for idx in best_5_indx:\n",
    "    print(df_covid_small.iloc[idx]['title']+\" by \"+ df_covid_small.iloc[idx]['authors'])\n",
    "    print(df_covid_small.iloc[idx]['body_text'][:1000]+\"......\")\n",
    "    print(\"=\"*140)"
   ]
  },
  {
   "cell_type": "markdown",
   "metadata": {},
   "source": [
    "Summary KNN"
   ]
  },
  {
   "cell_type": "code",
   "execution_count": 44,
   "metadata": {},
   "outputs": [
    {
     "name": "stdout",
     "output_type": "stream",
     "text": [
      "Summary for article: Functional genomics as a tool in virus research\n",
      "DNA microarrays, proteomics and bioinformatic analysis are routinely used to analyze changes in host and viral gene and protein expression that occur in a virus infected cell [25] . Functional genomics approach has been routinely applied to study viral replication, gene expression, evolution, and diagnostics and so on. To further characterize this new virus, approximately 1 kb of the unknown virus genome was cloned by physically recovering viral sequences hybridized to individual array elements. This functional genomics approach revealed nearly 100 genes whose absence inhibited or stimulated BMV RNA replication and/or gene expression by 3 -to >25-fold. Whole Functional genomics approach has also been used to study the cellular innate immune response to virus. Functional Genomics on potato virus A was used to map sites essential for virus propagation [45] . Thus functional genomics approach has been successfully used to study HBV and HCV virus biology and pathogenesis. David Wang's group has previously described a prototype DNA microarray designed for highly parallel viral detection with the potential to detect novel members of known viral families [54] .\n",
      "\n",
      "Summary for article: Quasispecies and the implications for virus persistence and escape\n",
      "Research to better understand quasispecies composition and dynamics is urgently needed, since quasispecies are an important step in the natural history of RNA viruses. Quasispecies structure is an important problem for viral disease control and should not be minimised on account of the indeterminations found when trying to define compositions of mutant spectra. The links between the original theoretical quasispecies concept and viral quasispecies have been discussed in several recent papers Eigen, 1996; . Biological implications of quasispecies extend from viral pathogenesis to the emergence of new viral pathogens (Morse, 1993) . In the extended definition, useful to virology, quasispecies are dynamic distributions of non-identical but closely-related mutant and recombinant viral genomes. One of the most obvious consequences of quasispecies structure is the genetic and antigenic diversification of RNA viruses in nature. This applies to the enzymes that replicate or retrotranscribe viral genomes as well as to those that amplify their genomes in vitro often with comparable numbers of replication rounds. Part of the problem lies in the quasispecies nature of the RNA viral agents.\n",
      "\n",
      "Summary for article: \n",
      "While detection of viruses in wildlife does not predict transmission, identifying mutations or gene acquisitions through surveillance and continued discovery will provide valuable insight in the future. The chapter is divided up into two main sections: viral genomics and host genomics, and include examples of their applications in pathogen detection, population susceptibility, diagnostics, and outbreak response. Applying genomics and the host transcriptome to generalize the response to a viral or bacterial pathogen would allow for more appropriate antibiotic use without requiring direct pathogen detection. In addition to pathogen discovery, metagenomic sequencing is increasingly used to monitor viral genomic changes as an outbreak is occurring [43] [44] [45] [46] . Sequencing human samples from outbreaks has resulted in the discovery of several viruses; however, 70% of emerging human pathogens result from wildlife [36] . The primers and probe are exact matches to the Lassa virus Josiah sequence; however, contain mismatches within other Lassa virus isolates, including ones found in Sierra Leone. Newly introduced mutations into a viral genome can confer new pathogenic characteristics such as enabling transmission to new species or increased virulence. To further complicate the scenario, a new human viral infection may not present with obvious signs of an infection.\n",
      "\n",
      "Summary for article: Full genome sequence of guinea fowl coronavirus associated with fulminating disease\n",
      "The entire genome had a GC content of 38.3 %, identical to the turkey coronavirus (TCoV) MG10 genome [12] . Phylogenetic analysis on the full genome of GfCoV/FR/ 2011 showed it clearly clustered with North American TCoV strains (Fig. Similarly, group II CoVs (betacoronaviruses) may infect humans (examples: HCoV-OC43, HCoV-HKU1, severe acute respiratory syndrome (SARS)-related CoVs or the recently emerged MERS-CoV), horses (with ECoV), or cattle (with BCoV). The present study showed that GfCoV/FR/2011 harbours a genome organization very similar to that of TCoV strains. To determine the full genome of gammaCoV/guinea fowl/ France/s/2011 (GfCoV/FR/2011), we first analysed the data generated on a MiSeq Illumina platform as previously described [5] . Interestingly CoVs of the groups I, II, and IV have been detected in Chiroptera (bats), thought to be the reservoir of CoVs [3, 4] . Sizes of other proteins varied, but within the range observed previously between different TCoV strains. Further studies are warranted to understand the impact of avian CoVs protein sizes in the biology of the viruses.\n",
      "\n",
      "Summary for article: Comparative analyses of SAR-CoV2 genomes from different geographical locations and other coronavirus family genomes reveals unique features potentially consequential to host-virus interaction and pathogenesis\n",
      "SARS-CoV2 genomes from India, Italy, USA, Nepal along with SARS-CoV and MERS were used as query genomes to compare with Wuhan SARS-CoV2 genome. Assembled SARS-CoV2 genomes sequences in FASTA format from India, USA, China, Italy and Nepal used for coronavirus typing tool analysis. Intriguingly, our analysis (S. Figure 2 ) revealed that there is only a single host miRNA \n",
      "We have used bioinformatics tools to investigate SARS-CoV2 sequences from different geographical locations. We observed that out of all the miRNAs, hsa-miR-27b is the only unique Based on our analysis, we speculate an important regulatory role of miR-27b in SARS-CoV2 infection. We followed the parameters used in various anti-viral miRNA databases to predict host anti-viral miRNAs against SARS-CoV2. To predict host miRNAs targeting the virus, we collected a list of experimentally verified antiviral miRNAs with their targets from VIRmiRNA database (11) . The findings in the study have revealed unique features of the SARS-CoV2 genomes, which may be explored further. Going well with the expectations from a rapidly transmitting pandemic virus, in our analysis, we observed various mutations located in the regions associated with immune response (Table S2) .\n",
      "\n"
     ]
    }
   ],
   "source": [
    "generate_summary(best_5_indx)"
   ]
  },
  {
   "cell_type": "markdown",
   "metadata": {},
   "source": [
    "# Raj Hansini"
   ]
  },
  {
   "cell_type": "markdown",
   "metadata": {},
   "source": [
    "# **TF-IDF IMPLEMENTATION**"
   ]
  },
  {
   "cell_type": "code",
   "execution_count": 45,
   "metadata": {
    "_kg_hide-output": true
   },
   "outputs": [],
   "source": [
    "final_data=df_covid_small.copy(500)\n",
    "final_data\n",
    "# calculating the df\n",
    "#creating a set\n",
    "DF = {}\n",
    "#for i in range(len(final_data.iloc[0]['filtered_body_text'])):\n",
    "tokens =nltk.word_tokenize(final_data.iloc[0]['filtered_body_text'])\n",
    "tokens[0]\n",
    "for i in range(len(tokens)):\n",
    "    temp=tokens[i]\n",
    "    try:\n",
    "        DF[temp].add(i)\n",
    "    except:\n",
    "        DF[temp] = {i}\n",
    "#DF"
   ]
  },
  {
   "cell_type": "code",
   "execution_count": 46,
   "metadata": {
    "_kg_hide-output": true
   },
   "outputs": [],
   "source": [
    "#for i in DF:\n",
    "#    DF[i]=len(DF[i])\n",
    "tokens = nltk.word_tokenize(final_data.iloc[0]['filtered_body_text'])\n",
    "tokens\n",
    "for i in DF:\n",
    "    DF[i]=len(DF[i])\n",
    "#DF\n"
   ]
  },
  {
   "cell_type": "code",
   "execution_count": 47,
   "metadata": {
    "_kg_hide-output": true
   },
   "outputs": [
    {
     "data": {
      "text/plain": [
       "1166"
      ]
     },
     "execution_count": 47,
     "metadata": {},
     "output_type": "execute_result"
    }
   ],
   "source": [
    "total_vocab=[x for x in DF]\n",
    "len(total_vocab)"
   ]
  },
  {
   "cell_type": "code",
   "execution_count": 48,
   "metadata": {
    "_kg_hide-output": true
   },
   "outputs": [],
   "source": [
    "words_freq = words_freq_atleast_2(df_covid_small.iloc[0]['filtered_body_text'])"
   ]
  },
  {
   "cell_type": "code",
   "execution_count": 49,
   "metadata": {},
   "outputs": [],
   "source": [
    "from nltk import sent_tokenize, word_tokenize\n",
    "from sklearn.feature_extraction.text import TfidfVectorizer\n",
    "from sklearn.metrics.pairwise import linear_kernel\n",
    "\n",
    "# computes tf idf similarity between query and documents in dataset with n being max number of retrieved documents\n",
    "def compute_tf_idf_similarity(query, docs, n,index_store):\n",
    "    tfidf_vectorizer = TfidfVectorizer()\n",
    "    tfidf = tfidf_vectorizer.fit_transform(docs)\n",
    "    query = tfidf_vectorizer.transform([query])\n",
    "    \n",
    "    cosine_similarities = linear_kernel(query, tfidf).flatten()\n",
    "#     related_docs_indices = cosine_similarities.argsort()[:-5:-1]\n",
    "    related_docs_indices = (-cosine_similarities).argsort()[:n]\n",
    "    \n",
    "    res = []\n",
    "    for i in range(0, len(related_docs_indices)):\n",
    "        res.append(docs[related_docs_indices[i]])\n",
    "        index_store.append(related_docs_indices[i])\n",
    "        \n",
    "    '''res_df = pd.DataFrame(res, columns=['text'])\n",
    "    titles = []\n",
    "    authors = []\n",
    "    for j in range(0, len(res_df)):\n",
    "        for i in range(0, len(relevant_corpus)):\n",
    "            if(relevant_corpus['text'][i] == res_df['text'][j]):\n",
    "                titles.append(relevant_corpus['title'][i])\n",
    "                authors.append(relevant_corpus['authors'][i])\n",
    "                \n",
    "    res_df['title'] = titles\n",
    "    res_df['authors'] = authors\n",
    "    res_df = res_df[[\"title\",\"authors\", \"text\"]]'''\n",
    "    return res"
   ]
  },
  {
   "cell_type": "code",
   "execution_count": 50,
   "metadata": {},
   "outputs": [
    {
     "name": "stdout",
     "output_type": "stream",
     "text": [
      "Summary for article: Managing Global Risks: Vietnamese Poultry Farmers and Avian Flu\n",
      "Farmers have taken H5N1 into account as a poultry disease, but H5N1 is simply one of a number of problems that farmers have to deal with. Interviewed farmers consider that breeding farms are less exposed to diseases affecting poultry in general because they are more isolated and better ventilated, unlike village farms. According to the local veterinarian, all the farmers in the parish were affected to different extents by avian fl u or the resulting consequences. Some farmers believe it is more judicious to rear red chickens rather than white chickens and Peking ducks rather than Muscovy ducks because they are less vulnerable. With this rapid refocusing on the part of the farmers, avian fl u became a relatively classic problem in large part handled as a question of routine. Furthermore, farmers consider Peking ducks to be less sensitive to disease and cold weather than Muscovy ducks (and therefore more suitable for winter rearing). Farmers buy chicks and ducklings (parental breed) from the state farms in Dai Xuyen (ducks) and Thuy Phuong (chickens) or from local private hatcheries. In the past, farmers developed strategies, which they once again called on in the context of the avian fl u outbreaks.\n",
      "\n",
      "Summary for article: OCCUPATIONAL HEALTH (M FRIESEN AND K APPLEBAUM SECTION EDITORS) Recent Research on Occupational Animal Exposures and Health Risks: A Narrative Review\n",
      "Consideration of pesticide exposures in animal workers, and multiple exposures between crop and animal farmers, also reflects the emerging interest in complex mixtures analyses in occupational exposure assessment. Studies of pesticide and chemical exposures among animal workers highlighted pesticides usage in livestock production may increase the risk of Parkinson's disease (PD) among farmers. We identified eight original research papers and one review study focused on topics related to respiratory disease, exposure to allergens and dust, and airborne bacteria among animal workers. In the USA, food animal workers have elevated workplace mortality and injury rates compared with workers in other industries, highlighting the occupational risks involved in the profession [5] . In this manuscript, we review occupational health studies published in the last 18 months in the peer-reviewed literature focused on the health and safety of animal workers. Gene expression studies could elucidate pathways of respiratory irritation among highly exposed workers, with relevance for both the food animal workforce and also the general population. These trends have fundamentally altered occupational exposures for the food animal workforce, by increasing and intensifying specific occupational exposures that impart health risks [11] . Occupational exposure to animals is associated with a myriad of health and safety risks, including zoonotic infections, occupational injury, respiratory disease, and cancer [1] [2] [3] [4] .\n",
      "\n",
      "Summary for article: Tropical Medicine and Infectious Disease Potential Intermediate Hosts for Coronavirus Transmission: No Evidence of Clade 2c Coronaviruses in Domestic Livestock from Ghana\n",
      "The proximity between livestock and bats is likely to present opportunities for contact that may lead to bat viruses potentially being introduced into livestock. Screening of livestock sera for immunoglobulin G (IgG) antibodies against MERS-CoV and the clade 2c coronavirus discovered in Nycteris sp. Taken together, the results from the present study representing sub-Saharan Africa and the previous ones suggest that these livestock species do not readily serve as hosts for MERS-CoV. Eleven farms (35.5%) did not keep their livestock in animal houses most of the time and were allowed to roam freely (Table 2, Figure 3A ). All sera tested from the five species were negative for IgG antibodies against both MERS-CoV and the Nycteris sp. Following the emergence of MERS-CoV and the subsequent outbreak in 2012 [6] , several studies found that dromedary camels were the likely source of this infection [10, 29] . No viral RNA of any clade 2c coronavirus was detected after PCR testing and Sanger sequencing of all bands of approximate expected sizes. Viral RNA extraction from rectal swabs was performed using a slightly modified version of the Qiagen Viral RNA Mini Kit protocol (Qiagen GmbH, Hilden, Germany).\n",
      "\n",
      "Summary for article: Commentary Understanding and Managing Zoonotic Risk in the New Livestock Industries\n",
      "The second step entails the production of plausible risk scenarios that explore the ways in which risk environments may influence pathogen emergence, evolution, and transmission to human population. Finally, a third level of analysis is required to estimate the health and economic burden for given risk scenarios and identify policy options for risk management. This requires an inter sectoral and inter disciplinary approach and a stepwise process leading from improved knowledge and specification of risk drivers to policy options for risk management. In the context of agricultural development, the economic conditions in which the intensification of livestock production is taking place can also be an important element in increasing risk. Pathogens may enter through ventilation units, feed and water systems, or livestock and leave through ventilation, animal products, and production waste (Leibler et al. Given this complexity, understanding the conditions that create zoonotic risk requires a research approach that links both animal and public health sectors and natural and social sciences. 2004 ) and thus reduced risk of new pathogen emergence, it can facilitate disease transmission due to homo geneity in genetic susceptibility. A conceptual framework that can guide interdisciplinary research on zoonotic risk in the new livestock industries.\n",
      "\n",
      "Summary for article: Interventional Association for Suici de Surveillance of Disease: Overview\n",
      "Public health surveillance has been extended not only to areas of communicable diseases but also surveillance of noncommunicable diseases. As growing importance of worldwide surveillance on emerging and re-emerging diseases, surveillance networks have been developed by WHO and various organizations, research centers, and NGOs. Although these look like anecdotal episodes or events during surveillance, they often considerably influence the success or failure of control measures, which require high-quality surveillance data. The Agency for Cooperation in International Health (ACIH), a Japanese nongovernmental organization, has developed a voluntary sentinel surveillance system for selected target diseases, covering South America, Africa, and Asia. In the 1960s, Karel Raska, Communicable Disease Division at the World Health Organization (WHO) headquarters, further expanded the system's definition, including epidemiological research in surveillance activities. During the 2-year certification period, every surveillance method was employed to search for hidden foci in the previously smallpox-endemic countries and their adjacent countries, with special house-to-house visit surveillance. International surveillance on epidemic diseases or diseases of international importance has been carried out by different organizations under WHO's Global Outbreak Alert and Response Network (GOARN) (Figure 13 ). In 2006, the World Health Assembly (WHA) further amended the International Health Regulations (IHR) to strengthen surveillance on the possible avian influenza pandemic.\n",
      "\n"
     ]
    }
   ],
   "source": [
    "# path to corpus of data\n",
    "#CORONAVIRUS_LIBRARY_PATH = '../input/CORD-19-research-challenge'\n",
    "# path from which created csv is read\n",
    "#RELEVANT_PAPERS_PATH = '../input/covid19csv/relevant_papers.csv'\n",
    "#relevant_corpus = pd.read_csv(RELEVANT_PAPERS_PATH).loc[:]\n",
    "pd.set_option('max_colwidth', 500)\n",
    "#df = pd.DataFrame(relevant_corpus)\n",
    "#docs = df['text'].tolist()\n",
    "docs = final_data['filtered_body_text'].tolist()\n",
    "query = \"What is the evidence that livestock could be infected (field surveillance, genetic sequencing, receptor binding)? \\\n",
    "Evidence of whether farmers are infected, and whether farmers could have played a role in the origin.\"\n",
    "index_store = []\n",
    "results = compute_tf_idf_similarity(query, docs,5, index_store)\n",
    "#summaries = summarize_results(results)\n",
    "#display_output(query, results,summaries)\n",
    "results\n",
    "#text sumaarization below.\n",
    "generate_summary(index_store)# this  will print the answer tot he question"
   ]
  },
  {
   "cell_type": "markdown",
   "metadata": {},
   "source": [
    "# Kalyani"
   ]
  },
  {
   "cell_type": "markdown",
   "metadata": {},
   "source": [
    "# Topic Modelling\n",
    "### Latent Dirichlet Allocation"
   ]
  },
  {
   "cell_type": "code",
   "execution_count": 51,
   "metadata": {},
   "outputs": [],
   "source": [
    "def get_tokens(filtered_body_text):\n",
    "    #tokenize the text\n",
    "    tokens = nltk.word_tokenize(filtered_body_text)\n",
    "    #print(tokens)\n",
    "    #remove stop words\n",
    "    tokens = list(filter(lambda x: x not in final_stop_words, tokens))\n",
    "    #lemmatize the words so that other forms of same word becomes a single word\n",
    "    tokens = list(map(lambda x: nltk.WordNetLemmatizer().lemmatize(x), tokens))\n",
    "    #return words which have frequency greater than 1\n",
    "    #print(tokens[:5])\n",
    "    one_occur = np.array(list(filter(lambda x: x[1] < 5, Counter(tokens).most_common())))[:,0].flatten()\n",
    "    tokens = list(filter(lambda x: x not in one_occur, tokens))\n",
    "    #print(tokens)\n",
    "    return tokens"
   ]
  },
  {
   "cell_type": "code",
   "execution_count": 52,
   "metadata": {},
   "outputs": [],
   "source": [
    "import gensim\n"
   ]
  },
  {
   "cell_type": "code",
   "execution_count": 53,
   "metadata": {},
   "outputs": [],
   "source": [
    "final_df = df_covid_small.head(500).copy()"
   ]
  },
  {
   "cell_type": "code",
   "execution_count": 54,
   "metadata": {},
   "outputs": [],
   "source": [
    "def array_of_tokens(df):\n",
    "    processed_docs = []\n",
    "    l = len(df)\n",
    "    for i in range(l):\n",
    "        if i % 100 == 0:\n",
    "            print(\"Processing\",i,\"th of \",l)\n",
    "        x = get_tokens(df.iloc[i]['filtered_body_text'])\n",
    "        processed_docs.append(x)\n",
    "    return processed_docs"
   ]
  },
  {
   "cell_type": "code",
   "execution_count": 55,
   "metadata": {},
   "outputs": [],
   "source": [
    "def get_dictionary(docs):\n",
    "    dictionary = gensim.corpora.Dictionary(docs)\n",
    "    dictionary.filter_extremes(no_below=40, no_above=0.5, keep_n=10000)\n",
    "    return dictionary\n",
    "def get_corpus(dictionary):\n",
    "    bow_corpus = [dictionary.doc2bow(doc) for doc in processed_docs]\n",
    "    return bow_corpus"
   ]
  },
  {
   "cell_type": "code",
   "execution_count": 56,
   "metadata": {},
   "outputs": [],
   "source": [
    "def apply_lda(bow_corpus, num_topics, id2word, passes, workers):#, chunksize):\n",
    "    lda_model = gensim.models.LdaMulticore(bow_corpus, num_topics=num_topics, id2word=id2word, passes=passes, workers=workers)#, chunksize = chunksize)\n",
    "    return lda_model\n",
    "def print_topics(lda_model):\n",
    "    for idx, topic in lda_model.print_topics(-1):\n",
    "        print('Topic: {} \\nWords: {}'.format(idx, topic))"
   ]
  },
  {
   "cell_type": "code",
   "execution_count": 57,
   "metadata": {},
   "outputs": [],
   "source": [
    "def get_score_from_keyword(lda_model,keywords):\n",
    "    scores = []\n",
    "    bow_vector = dictionary.doc2bow(keywords)\n",
    "    for index, score in sorted(lda_model[bow_vector], key=lambda tup: -1*tup[1]):\n",
    "        print(\"Score: {}\\t Topic: {}\".format(score, lda_model.print_topic(index, 5)))\n",
    "        scores.append((score,index))\n",
    "    return scores"
   ]
  },
  {
   "cell_type": "code",
   "execution_count": 58,
   "metadata": {},
   "outputs": [],
   "source": [
    "def get_document_topics(lda_model,bow_corpus):\n",
    "    return [lda_model.get_document_topics(item) for item in bow_corpus]"
   ]
  },
  {
   "cell_type": "code",
   "execution_count": 59,
   "metadata": {},
   "outputs": [],
   "source": [
    "def index_of_topic_highest_score(scores):\n",
    "    return scores[0][1]\n",
    "\n",
    "def get_10_similar_docs(get_document_topics,doc_index):\n",
    "    similar_docs = []\n",
    "    for i,doc in enumerate(get_document_topics):\n",
    "        for tup in doc:\n",
    "            if tup[0] == doc_index:\n",
    "                similar_docs.append((tup[1],i))\n",
    "    similar_docs.sort(reverse = True)\n",
    "    return similar_docs[:10]\n",
    "\n",
    "def display_10_docs(similar_docs):\n",
    "    for doc in similar_docs:\n",
    "        print(df_covid_small.iloc[doc[1]]['title'])\n",
    "        print(df_covid_small.iloc[doc[1]]['body_text'][:1000])\n",
    "        print(\"===============================================================================================================\")"
   ]
  },
  {
   "cell_type": "code",
   "execution_count": 60,
   "metadata": {},
   "outputs": [
    {
     "name": "stdout",
     "output_type": "stream",
     "text": [
      "Processing 0 th of  500\n",
      "Processing 100 th of  500\n",
      "Processing 200 th of  500\n",
      "Processing 300 th of  500\n",
      "Processing 400 th of  500\n"
     ]
    }
   ],
   "source": [
    "#driver\n",
    "processed_docs = array_of_tokens(final_df)\n",
    "\n",
    "# model = apply_lda(corpus,10,dictionary,2,5,100)\n",
    "# print_topics(model)\n",
    "# scores = get_score_from_keyword(model,keywords)\n",
    "# print(scores)\n"
   ]
  },
  {
   "cell_type": "code",
   "execution_count": 61,
   "metadata": {},
   "outputs": [],
   "source": [
    "dictionary = get_dictionary(processed_docs)\n",
    "corpus = get_corpus(dictionary)"
   ]
  },
  {
   "cell_type": "code",
   "execution_count": 62,
   "metadata": {},
   "outputs": [
    {
     "name": "stdout",
     "output_type": "stream",
     "text": [
      "Topic: 0 \n",
      "Words: 0.047*\"virus\" + 0.044*\"cell\" + 0.043*\"protein\" + 0.020*\"human\" + 0.019*\"gene\" + 0.013*\"strain\" + 0.013*\"viral\" + 0.012*\"disease\" + 0.012*\"result\" + 0.012*\"effect\"\n",
      "Topic: 1 \n",
      "Words: 0.078*\"cell\" + 0.031*\"patient\" + 0.020*\"mouse\" + 0.017*\"result\" + 0.015*\"protein\" + 0.014*\"response\" + 0.014*\"clinical\" + 0.014*\"1\" + 0.013*\"treatment\" + 0.013*\"day\"\n",
      "Topic: 2 \n",
      "Words: 0.072*\"health\" + 0.020*\"system\" + 0.018*\"public\" + 0.017*\"disease\" + 0.017*\"risk\" + 0.017*\"state\" + 0.016*\"result\" + 0.015*\"country\" + 0.015*\"individual\" + 0.015*\"level\"\n",
      "Topic: 3 \n",
      "Words: 0.022*\"cell\" + 0.021*\"data\" + 0.019*\"group\" + 0.017*\"model\" + 0.017*\"disease\" + 0.016*\"virus\" + 0.016*\"day\" + 0.015*\"2\" + 0.015*\"analysis\" + 0.014*\"influenza\"\n",
      "Topic: 4 \n",
      "Words: 0.104*\"patient\" + 0.028*\"case\" + 0.022*\"covid-19\" + 0.018*\"disease\" + 0.018*\"drug\" + 0.018*\"clinical\" + 0.018*\"treatment\" + 0.017*\"2\" + 0.017*\"hospital\" + 0.016*\"1\"\n",
      "Topic: 5 \n",
      "Words: 0.061*\"virus\" + 0.030*\"cell\" + 0.028*\"protein\" + 0.018*\"1\" + 0.017*\"mouse\" + 0.017*\"2\" + 0.016*\"sequence\" + 0.015*\"result\" + 0.013*\"sample\" + 0.013*\"patient\"\n",
      "Topic: 6 \n",
      "Words: 0.060*\"cell\" + 0.051*\"protein\" + 0.027*\"virus\" + 0.021*\"rna\" + 0.020*\"expression\" + 0.020*\"gene\" + 0.017*\"viral\" + 0.014*\"number\" + 0.013*\"result\" + 0.013*\"sequence\"\n",
      "Topic: 7 \n",
      "Words: 0.033*\"disease\" + 0.026*\"2\" + 0.022*\"time\" + 0.020*\"vaccine\" + 0.017*\"result\" + 0.017*\"1\" + 0.017*\"data\" + 0.015*\"system\" + 0.014*\"case\" + 0.013*\"child\"\n",
      "Topic: 8 \n",
      "Words: 0.062*\"cell\" + 0.024*\"activity\" + 0.023*\"disease\" + 0.021*\"human\" + 0.017*\"result\" + 0.015*\"effect\" + 0.014*\"protein\" + 0.014*\"expression\" + 0.013*\"concentration\" + 0.012*\"level\"\n",
      "Topic: 9 \n",
      "Words: 0.031*\"case\" + 0.028*\"work\" + 0.021*\"outbreak\" + 0.018*\"patient\" + 0.017*\"virus\" + 0.016*\"child\" + 0.016*\"1\" + 0.015*\"transmission\" + 0.014*\"respiratory\" + 0.014*\"sequence\"\n",
      "Score: 0.5499444603919983\t Topic: 0.061*\"virus\" + 0.030*\"cell\" + 0.028*\"protein\" + 0.018*\"1\" + 0.017*\"mouse\"\n",
      "Score: 0.050019167363643646\t Topic: 0.047*\"virus\" + 0.044*\"cell\" + 0.043*\"protein\" + 0.020*\"human\" + 0.019*\"gene\"\n",
      "Score: 0.05001014471054077\t Topic: 0.060*\"cell\" + 0.051*\"protein\" + 0.027*\"virus\" + 0.021*\"rna\" + 0.020*\"expression\"\n",
      "Score: 0.050006527453660965\t Topic: 0.031*\"case\" + 0.028*\"work\" + 0.021*\"outbreak\" + 0.018*\"patient\" + 0.017*\"virus\"\n",
      "Score: 0.050006162375211716\t Topic: 0.022*\"cell\" + 0.021*\"data\" + 0.019*\"group\" + 0.017*\"model\" + 0.017*\"disease\"\n",
      "Score: 0.05000441521406174\t Topic: 0.062*\"cell\" + 0.024*\"activity\" + 0.023*\"disease\" + 0.021*\"human\" + 0.017*\"result\"\n",
      "Score: 0.05000334605574608\t Topic: 0.078*\"cell\" + 0.031*\"patient\" + 0.020*\"mouse\" + 0.017*\"result\" + 0.015*\"protein\"\n",
      "Score: 0.05000258609652519\t Topic: 0.104*\"patient\" + 0.028*\"case\" + 0.022*\"covid-19\" + 0.018*\"disease\" + 0.018*\"drug\"\n",
      "Score: 0.05000174790620804\t Topic: 0.033*\"disease\" + 0.026*\"2\" + 0.022*\"time\" + 0.020*\"vaccine\" + 0.017*\"result\"\n",
      "Score: 0.050001442432403564\t Topic: 0.072*\"health\" + 0.020*\"system\" + 0.018*\"public\" + 0.017*\"disease\" + 0.017*\"risk\"\n",
      "[(0.54994446, 5), (0.050019167, 0), (0.050010145, 6), (0.050006527, 9), (0.050006162, 3), (0.050004415, 8), (0.050003346, 1), (0.050002586, 4), (0.050001748, 7), (0.050001442, 2)]\n"
     ]
    }
   ],
   "source": [
    "model = apply_lda(corpus,10,dictionary,2,10)\n",
    "print_topics(model)\n",
    "question = \"What do we know about corona virus genetics, origin, and evolution? What do we know about Real-time tracking of whole genomes\"\n",
    "keywords = get_kw_from_question(question)\n",
    "scores = get_score_from_keyword(model,keywords)\n",
    "print(scores)"
   ]
  },
  {
   "cell_type": "code",
   "execution_count": 63,
   "metadata": {},
   "outputs": [
    {
     "name": "stdout",
     "output_type": "stream",
     "text": [
      "[(0.9980214, 246), (0.9968296, 149), (0.9946735, 236), (0.9916648, 198), (0.9907197, 127), (0.99032086, 157), (0.99010766, 488), (0.98702455, 172), (0.9808469, 370), (0.96976686, 181)]\n",
      "Virus survey in populations of two subspecies of bent-winged bats (Miniopterus orianae bassanii and oceanensis) in south-eastern Australia reveals a high prevalence of diverse herpesviruses\n",
      "Historically, infectious diseases were believed to be of minimal significance in species population declines. An International Union for Conservation of Nature (IUCN) report listed 833 species extinctions over the past 500 years and attributed only 3.7% of these to infectious disease [1] . This low percentage of extinctions caused by infectious disease may be partly due to the past use of less sophisticated diagnostic techniques to detect infectious agents, as it is now becoming apparent that the effects of urbanization, human population growth, altered land use, deforestation, reduced biodiversity and global trade are leading to an increase in infectious disease incidence and impact [2] . These same factors are also increasing the frequency of disease transmission between humans, domestic animals and wildlife [2, 3] resulting in a dramatic rise in both emerging infectious diseases and zoonoses [4] .\n",
      "Bats, often seen as carriers of many infectious disease agents [5] , have also been im\n",
      "===============================================================================================================\n",
      "Retrospective use of next-generation sequencing reveals the presence of Enteroviruses in acute influenza-like illness respiratory samples collected in South/South-East Asia during 2010-2013\n",
      "Asia is an epicenter for the emergence of diverse respiratory pathogens representing major global public health threats [1] [2] [3] . Accurate molecular identification of respiratory pathogens is a vital decisionmaking tool for public health officials and health care providers. Unfortunately, traditional laboratory techniques do not allow a broad detection of viral pathogens during routine surveillance [4] .\n",
      "Next-generation sequencing (NGS) is a powerful tool to detect emerging or re-emerging pathogens, and to obtain information about frequency of intra-host genetic variation and virological responses to treatments [5] [6] [7] . NGS has been utilized to study commonly circulating respiratory viruses and novel viruses found in vectors, animals, and humans [8] [9] [10] . In addition, whole genome NGS (WG-NGS) has been utilized to identify viruses in diagnostic clinical virology [11] [12] [13] and occasionally applied in parallel with standard diagnostic assays [12, 14] .\n",
      "During 2010-2013\n",
      "===============================================================================================================\n",
      "Effect of Olfactory Bulb Ablation on Spread of a Neurotropic Coronavirus into the Mouse Brain\n",
      "M ouse hepatitis virus (MHV),' a member of the coronavirus family, causes several diseases in small rodents, including hepatitis, gastroenteritis, and encephalomyelitis (1) . Strain JHM (MHVJHM) is a prototypic neurotropic strain and causes acute encephalitis as well as acute and chronic demyelinating disease in rats and mice (2-7) .\n",
      "Suckling mice inoculated with MHVJHM invariably develop a fatal encephalitis. This disease can be prevented if mice are protected with an infusion of mAb or if they are nursed by immunized dams. Similarly, mice inoculated with an attenuated strain of virus do not develop the acute encephalitis (8) (9) (10) (11) (12) (13) (14) .\n",
      "Suckling C57BL/6 mice inoculated intranasally with MHV JHM and nursed by immunized dams do not develop acute encephalitis, but a substantial fraction (40-90%) develop hindlimb paralysis with demyelination present on histological examination (12) . Previous studies have delineated the spread of virus after intranasal inoculation . Vi\n",
      "===============================================================================================================\n",
      "Detection of six common human paramyxoviruses in patients with acute febrile respiratory symptoms using a novel multiplex real-time RT-PCR assay\n",
      "Acute respiratory infections (ARIs) are common respiratory diseases that continue to pose a threat to public health.\n",
      "According to a report published by the World Health Organization, lower respiratory infections killed 3 million people and are the most deadly communicable disease, causing 3 million deaths worldwide in 2016 (http://www.who.int/mediacentre/factsheets/ fs310/en/index.html). More than 200 viruses are major etiological agents of ARIs. Respiratory syncytial virus (RSV), human metapneumoviruses (hMPVs), and human parainfluenza viruses (HPIVs) that are classified into the subfamilies Pneumovirinae and Paramyxovirinae and the Paramyxoviridae has a nonsegmented, single-stranded, negative-sense RNA genome, 1 which was the common causative agents of ARIs in humans in all age groups. [2] [3] [4] [5] These viruses can cause acute respiratory diseases such as croup, bronchiolitis, and pneumonia in children, the elderly, and immunodeficiency patients. RSV has two subtypes, subtype A a\n",
      "===============================================================================================================\n",
      "Use of the Human Coronavirus 2012 (MERS) GeneSig kit\n",
      "The Middle East Respiratory Syndrome (MERS) is a novel Coronavirus first discovered in September 2012 in a cell-culture from a patient after his death from pneumonia in June 2012 in Saudi Arabia (Assiri et al., 2013) . Mortality due to MERS-CoV infection is common especially among immunocompromised patients (Al-Abdallat et al., 2014) .\n",
      "Coronaviruses are the largest positive single-stranded RNA viruses with a genome that can reach up to 32 kb long. The genome entails a 5′-terminal cap structure and is polyadenylated at its 3′ end, and is occupied by two large overlapping open reading frames, ORFs 1a and 1b (Subissi et al., 2014) . MERS-CoV is part of the C lineage of the Betacoronavirus genus and it is related to the HKU4 and HKU5 coronavirus detected in bats (Omrani et al., 2013) .\n",
      "MERS-CoV and highly homologous MERS-like CoV were isolated in dromedary camels and African Neoromicia capensis bats, respectively. Although MERS-CoV is known to have zoonotic origins the pathway of transmiss\n",
      "===============================================================================================================\n",
      "Veterinary Science Molecular characterization and genogrouping of VP1 of aquatic birnavirus GC1 isolated from rockfish Sebastes schlegeli in Korea\n",
      "Members of the family Birnaviridae have 2-segmented genomes -A and B. This family comprises 3 main genera, including the genus Aquabirnavirus, Avibirnavirus, and Entomobirnavirus [4, 19] . The type species of the genus Aquabirnavirus is the infectious pancreatic necrosis virus (IPNV); the genus comprises marine aquatic birnaviruses (MABV) of fish and shellfish [3] . Other members of the family Birnaviridae include infectious bursal disease virus (IBDV) belongs to the genus Avibirnavirus, and Drosophila X virus (DVX) that belongs to the genus Entomobirnavirus. Aquatic birnaviruses are the largest and most diverse group of viruses within the family Birnaviridae. The first reported MABV was isolated from the yellowtail Seriola quinqueradiata in Japan [22] , other MABVs have been subsequently isolated from various marine fishes in Korea and Japan, and their characteristics have been investigated [7, 8, 14, 18, 23, 24] . The genome segment B of birnaviruses encodes the VP1 protein, which is\n",
      "===============================================================================================================\n",
      "An Improved Method for Titration of Mouse Hepatitis Virus Type 3 in a Mouse Cell Culture Brief Report\n",
      "Plaque assay of mouse hepatitis virus type 3 (MttV3), a member of the genus coronavirus (7) , was carried out in mouse embryo cells (3) as well as mierofocus assay in mouse macrophages (5) . However these methods were either not so sensitive as the LD50 assay in mice or else not convenient for routine use. In this paper we describe an improved method for the titration of MHV3 in the same continuous eelI-line that makes the growth of MHV2 possible (4) .\n",
      "The cell-line SR-CDF1-DBT (DBT), originating from a mouse brain tumor, was kindly supplied by Dr. Hirano (Institute of Medical Sciences, University of Tokyo, Japan). DBT cells were grown in Eagle's minimum essential medium (MEM) supplemented with 10 per cent calf serum (CS) and 10 per cent tryptose phosphate broth (TPB).\n",
      "When DBT-monolayers were infected with MHV3 (American Type Collection Strain previously submitted to three cycles of plaque purification in our laboratory), the formation of s}mcytia became visible at 6 hours postinfeeti\n",
      "===============================================================================================================\n",
      "Detection of diverse viruses in alimentary specimens of bats in Macau\n",
      "Bats are natural reservoirs of many viruses; some severely affect other mammals and humans (O'Shea et al., 2014) . These diseases include those caused by the Ebola virus, Nipah virus, lyssaviruses, Japanese encephalitis virus, coronaviruses and Hendra virus (Calisher et al., 2006; Liu et al., 2013; Dietrich et al., 2015; Zheng et al., 2016) .\n",
      "Bats carry many pathogens but seldom display pathogenic symptoms, which is of great interest to scientists who study bat viruses and virus-host interactions. Considering the diversity of the bat population, it is expected that there are more bat viruses waiting to be discovered (Shi, 2013) .\n",
      "Because Macau is a globalization metropolis, it is necessary to develop surveillance against zoonotic viruses for the early warning of potential emerging infectious diseases. There was evidence that epidemic diseases broke out in Macau. First example, there was an epidemic fever caused by dengue and dengue-like viruses in 1874 (Buchillet, 2012) , and in 1932, \n",
      "===============================================================================================================\n",
      "\n",
      "To the Editor: In 2005, a parvovirus, subsequently named human bocavirus (HBoV), was discovered in respiratory samples taken from infants and children hospitalized at Karolinksa University Hospital, Sweden, with lower respiratory tract infection (1) . HBoV has since been identifi ed in infants and children with respiratory illness in >17 countries, at frequencies ranging from 1.5% to >18.0%.\n",
      "In the past decade New Zealand has experienced increasing bronchiolitis hospitalization rates, currently >70 admissions per 1,000 infants. To determine the contribution of HBoV to New Zealand's bronchiolitis disease prevalence, we tested samples collected from infants hospitalized with community-acquired bronchiolitis (2) during 3 consecutive winter epidemics (June to October, 2003; July to October, 2004; and June to October, 2005) in Wellington, NZ, for HBoV by PCR. The Central Regional Ethics Committee approved the study. Written, informed consent was obtained from the parent or guardian.\n",
      "Demogra\n",
      "===============================================================================================================\n",
      "The S1 glycoprotein but not the N or M proteins of avian infectious bronchitis virus induces protection in vaccinated chickens\n",
      "Infectious bronchitis viruses (IBVs) are members of the Coronaviridae family, enveloped viruses that contain single-stranded RNA of positive polarity. IBVs induce highly contagious respiratory infections or interstitial nephritis [19] in chickens of all ages and the disease is of considerable economic importance. The disease syndrome induced by IBVs is controlled by vaccination with live attenuated vaccines, however \"vaccine breaks\" due to variant strains have often been reported. Variant strains may arise fiom vaccine viruses by mutation and/or recombination [22, 35] . The scope therefore exists for introduction of a subunit vaccine to replace live vaccination [29] . The antigen which induces protective immunity in IBV-infection has not been identified thus far.\n",
      "IBV contains four structural proteins. The S1 and $2 glycoproteins with Mr of 92 K and 84 K, respectively form the peplomer (S), the club-shaped oligomer that protrudes from the viral envelope. In the peplomer S, the $2 glycop\n",
      "===============================================================================================================\n"
     ]
    }
   ],
   "source": [
    "doc_topics = get_document_topics(model,corpus)\n",
    "relevant_docs = get_10_similar_docs(doc_topics,index_of_topic_highest_score(scores))\n",
    "print(relevant_docs)\n",
    "display_10_docs(relevant_docs)"
   ]
  },
  {
   "cell_type": "code",
   "execution_count": 64,
   "metadata": {},
   "outputs": [
    {
     "name": "stdout",
     "output_type": "stream",
     "text": [
      "Summary for article: Virus survey in populations of two subspecies of bent-winged bats (Miniopterus orianae bassanii and oceanensis) in south-eastern Australia reveals a high prevalence of diverse herpesviruses\n",
      "While Victorian southern bent-winged bats did have a higher prevalence of infection than eastern bent-winged bats, the opposite was true for the South Australian bats. The eastern bent-winged bats from Christmas Hills contained the largest number of different herpesviruses (four), while the southern bent-winged bats from Allansford only contained one herpesvirus. All the dead bats tested negative for herpesvirus, except for two southern bent-winged bats from Naracoorte, one from a liver sample and another from a lung sample. Five of the bent-winged bat viruses detected in this study were betaherpesviruses, while one virus, found only in juvenile Naracoorte bats, was a gammaherpesvirus, (N7050-like). This was observed in bats from Naracoorte (southern bent-winged bat), but not those from Lakes Entrance (eastern bent-winged bat). Prevalence of herpesvirus DNA in oropharyngeal swabs, including proportion of sequence-confirmed positive swabs (confirmed), collected from populations of southern and eastern bent-winged bats from south-eastern Australia. This virus had an amino acid sequence identity of 92% to a virus found in Chinese bent-winged bats (Bat Gammaherpesvirus ALH21060.1) [13] . Ideally, ill or recently dead bats would be surveyed as they may contain infectious agents not found in healthy bats, as demonstrated by the European filovirus outbreak [8].\n",
      "\n",
      "Summary for article: Retrospective use of next-generation sequencing reveals the presence of Enteroviruses in acute influenza-like illness respiratory samples collected in South/South-East Asia during 2010-2013\n",
      "We sought to determine if we could identify a pathogen in CPE positive samples despite the samples testing negative using antibody panels for common respiratory samples. Of these, CVs were the most common respiratory viruses found, present in 31.0% (31/100) of all positive samples, followed by E, found in 22% samples. In addition, standard molecular procedures were conducted in selected samples and results validated the presence of the identified pathogens in both clinical specimens and CPE culture. Without taking into consideration samples where HSV-1 was detected, approximately 67.8% of the samples in the pooled remained of unknown etiology after WG-NGS and bioinformatics data analysis (Fig. Pools from Cambodia 2013, Philippines 2012 and Philippines 2013 yield sequence reads identified host background and not viral pathogens by BLASTn in NCBI nt database. Seeking for Viral Pathogen Identification of Contigs: BLASTn against NCBI nt database of the Pools Table 2 Confirmation of individuals samples by PCR, RT-PCR or rRT-PCR. When broken down into individual samples, we were able to confirm the presence of other respiratory viruses in 100 of the 310 (32.3%) individual samples. The low sequence reads in several samples were likely generated from combination of cross talk among neighboring sequenced samples, contamination of barcodes and carries over from the previous runs.\n",
      "\n",
      "Summary for article: Effect of Olfactory Bulb Ablation on Spread of a Neurotropic Coronavirus into the Mouse Brain\n",
      "(B) After unilateral destruction of the olfactory bulb, virus crosses from the control (intact) olfactory tract to the olfactory striae on the operated side via the anterior commissure. (A) MHVJHM enters the CNS via the olfactory bulb and spreads via the olfactory tract to the olfactory striae. Removal of the olfactory bulb is readily accomplished in 4-wk-old mice, and this operation was performed in order to interrupt spread of MHVJHM via the olfactory pathway. This spread of virus on the operated side most likely occurred via olfactory fibers known to cross to the opposite side of the brain via the anterior commissure. Surgical bulbectomy should prevent viral entry via the olfactory nerve, but should not prevent spread via the bloodstream or via cerebrospinal fluid . The olfactory pathway is amenable to surgical intervention at the level of the nasal epithelium, the olfactory nerve, or the olfactory bulb. After 10-d-old C57BL/6 mice were inoculated intranasally with MHVJHM, viral RNA was detected in the olfactory and trigeminal nerves and their intermediate connections (15). Virus enters the brains of both susceptible and maternal antibody-protected mice via the olfactory and trigeminal nerves .\n",
      "\n",
      "Summary for article: Detection of six common human paramyxoviruses in patients with acute febrile respiratory symptoms using a novel multiplex real-time RT-PCR assay\n",
      "We conclude that our multiplex real-time RT-PCR assay showed better performance (higher sensitivity) than the commercial 2Smart kit for detection of human paramyxoviruses in the clinical setting. In conclusion, first, we developed a novel multiplex real-time RT-PCR assay for the rapid detection of six common human paramyxoviruses, which were dominant in patients with AFRS in Qinghai. Finally, we compare the performance of our real-time RT-PCR assay with a commercial 2Smart kit for detection of human paramyxoviruses in the clinical setting ( Table 4 ). Here, we developed a one-step two-tube triplex real-time RT-PCR assay and assessed its sensitivity and specificity for hMPV, RSV-A, RSV-B, HPIV-1, HPIV-2, and HPIV-3. All target viruses were detected and total 55 were detected as positive (11.7%) for human paramyxoviruses from 42 clinical specimens among 471 clinical specimens. Unlike monoplex real-time PCR, multiplex real-time PCR allows multiple pathogens to be detected simultaneously in a single reaction, thus having the advantage of time savings and costeffective. 12, 13 Compared with traditional virus culture and immunofluorescence detection methods, real-time PCR has the advantages of high sensitivity, short turnaround time, and simultaneous detection of multiple pathogens. 7, 14 At present, several monoplex or multiplex real-time RT-PCR methods for hMPV, RSV, and HPIVs detection have been established.\n",
      "\n",
      "Summary for article: Use of the Human Coronavirus 2012 (MERS) GeneSig kit\n",
      "1 represents a graph of the amplification of the MERS-CoV RNA and the endogenous ACTB in the MERS-CoV positive sample. Rapid detection and implementation of proper infection control measures are two essential steps to limit and control MERS-CoV transmission in healthcare settings. 2 represents the detection of the internal RNA extraction control (IEC) in the fluorescence channel VIC, for the same positive sample. Out of the 46 tested samples, 45 were negative for MERS-CoV and one sample was found MERS-CoV positive. RNA was extracted from 46 respiratory specimens using the QIAamp viral RNA mini kit (QIAGEN, Hilden, Germany) that does not use phenol/ chloroform extraction or alcohol precipitation protocols. Moreover, a primer mix for the endogenous control Actin Beta (ACTB) gene was used to evaluate the quality of the original biological sample. MERS-CoV causes severe lower respiratory tract infection that sometimes requires admission to the intensive care unit. Patients usually respond well to alpha interferon or cyclosporine treatment, however, no specific antiviral or vaccine is available for MERS-CoV (Ohnuma et al., 2013) .\n",
      "\n",
      "Summary for article: Veterinary Science Molecular characterization and genogrouping of VP1 of aquatic birnavirus GC1 isolated from rockfish Sebastes schlegeli in Korea\n",
      "We believe that this motif represents a potential GTP-binding site in the VP1 protein, and has been conserved in GC1, including aquatic birnaviruses. GC1 contains the LKN motif instead of the typical GDD motif, which is present in other aquatic birnaviruses. Further, we confirmed the 'GLPYIGKT'motif at amino acid position 248; this motif is the putative GTP-binding site that is commonly found in other aquatic birnaviruses. The type species of the genus Aquabirnavirus is the infectious pancreatic necrosis virus (IPNV); the genus comprises marine aquatic birnaviruses (MABV) of fish and shellfish [3] . Some researchers reported the characteristics of VP1 and compared the VP1 region among birnaviruses [4, 25] . The study of genetic relationships using a phylogenetic cladogram revealed that GC1 is more closely related to genogroup 1 than genogroup 2. The estimated molecular weight of VP1 ranges from 95 kDa for the Jasper isolate [4] to 89 kDa for the Sp and Ab isolates of IPNV [6] . Aquatic birnaviruses, including GC1 and IPNV, also belong to genogroups that are distinct from those of the avibirnaviruses and Entomo-birnaviruses.\n",
      "\n",
      "Summary for article: An Improved Method for Titration of Mouse Hepatitis Virus Type 3 in a Mouse Cell Culture Brief Report\n",
      "DBT cells were grown in Eagle's minimum essential medium (MEM) supplemented with 10 per cent calf serum (CS) and 10 per cent tryptose phosphate broth (TPB). After infection, D B T cells were overlaid with MEM containing 1 per cent Noble agar and trypsin at a concentration of 5, 10 or 25 [zg/ml. When DEAE-D was added to the overlay medium, no significant increase in the mean plaque number was produced compared with that of cultures overlaid with a DEAE-D-free medium. Comparative titrations showed that the plaque assay gave tigers lower by about half a log than did the LDs0 method in mice (Table 1) . When DEAE-D was given along with the virus suspension to DBT cells, a clear-cut increase in the plaque number was found (Fig. The effect of trypsin on M H V 3 -p l a q u e formation in DBT-monolayers was also investigated. 50 ~zg/ml dose of DEAE-D. ~Vith a 25 tzg/mI dose of DEAE-D the mean plaque number was still 4 times greater than that of the control. With regard to the plaque diameter, no significant difference was found between the control group and a n y of the treated groups.\n",
      "\n",
      "Summary for article: Detection of diverse viruses in alimentary specimens of bats in Macau\n",
      "We also selected 207 samples from 6 species to detect hepatitis A virus (HAV), hepatitis E virus (HEV) and hantavirus (HTNV), but none was positive. Some bat species may be more susceptible to virus infection and can be infected by more than one virus. One bat from each of the three bat species was used for phylogenetic analysis based on translated amino sequences (KY783852-7K783854) (Figure 3) . The partial DNA-dependent DNA polymerase gene (Pol) sequences from the same bat species shared high identity. A total of 220 anal swabs, 782 fecal pellets and 2 urine samples were collected from 10 bat species (Table 1) . In some seasons, bats may carry a high rate of viruses, which may cause a high risk of interspecies transmission if human are highly exposed to bats. Seven full-length S genes from BtCoV 1A-related samples (KY783845-KY783851) and three from BtCoV HKU4-related samples (KY783842-KY783844) were successfully amplified. Of the 1004 samples, 50 were positive for coronaviruses, 22 for adenoviruses and 2 for paramyxoviruses among 6 bat species.\n",
      "\n",
      "Summary for article: \n",
      "Eight (3.5%) of 230 samples, collected from infants hospitalized with bronchiolitis during the 2003-2005 winter epidemic seasons, were positive for HBoV. As expected, because HBoV NP-1 is highly conserved, sequence variation among New Zealand isolates and the prototype Stockholm ST-1 and ST-2 (1) NP-1 sequences was limited. It is also, to our knowledge, the fi rst study of its kind in New Zealand infants, confi rming wide distribution of HBoV. This study reaffi rms previous reports of fi nding HBoV in a subset of infants with bronchiolitis (7). HBoV has since been identifi ed in infants and children with respiratory illness in >17 countries, at frequencies ranging from 1.5% to >18.0%. In the past decade New Zealand has experienced increasing bronchiolitis hospitalization rates, currently >70 admissions per 1,000 infants. Alignments of the partial NP-1 sequence (nt 2410-2602) of New Zea-\n",
      "Letters commenting on recent articles as well as letters reporting cases, outbreaks, or original research are welcome. Adult ticks were collected because nymphal ticks are more diffi cult to obtain, and the infection rate in adult ticks is similar (1).\n",
      "\n",
      "Summary for article: The S1 glycoprotein but not the N or M proteins of avian infectious bronchitis virus induces protection in vaccinated chickens\n"
     ]
    },
    {
     "name": "stdout",
     "output_type": "stream",
     "text": [
      "Inactivated IBV lacking the S1 glycoprotein did not induce protection in the trachea of immunized chickens whereas whole inactivated IBV protected chickens against virulent challenge [9] . In there separate experiments chickens were immunized with 50 ~tg of immunoaffinity purified $1, N and M proteins and inactivated and live N1/62 virus at four weekly intervals. Our results showed that the S 1 glycoprotein of IBV induces protective immunity against IBV-infection whereas neither the N protein nor the M glycoprotein induced any level of protection. Protection induced by the purified S1 glycoprotein was complete and prevented replication of the challenge virus in trachea and kidney tissues which are the target organs for IBV replication. The ELISA antibodies were detected in all chickens immunized with the N antigen four weeks following secondary immunization (P ~< 0.001) ( Table 2) . In this study protection induced by the purified S1 glycoprotein and inactivated IBV did not correlate with the presence of circulating antibodies. The antigenic properties of the purified S1 and N proteins were comparable with properties of the same antigens in the purified untreated virus. Monoclonal antibodies (MAbs) designated 5, 16 and 2, directed against epitopes on the S1, N and M proteins of IBV, respectively, [18] were used to construct affinity columns.\n",
      "\n"
     ]
    }
   ],
   "source": [
    "generate_summary(list(map(lambda x: x[1], relevant_docs)))"
   ]
  },
  {
   "cell_type": "markdown",
   "metadata": {},
   "source": [
    "# Pulaksh"
   ]
  },
  {
   "cell_type": "markdown",
   "metadata": {},
   "source": [
    "\n",
    "https://github.com/UKPLab/sentence-transformers"
   ]
  },
  {
   "cell_type": "code",
   "execution_count": 65,
   "metadata": {},
   "outputs": [
    {
     "name": "stdout",
     "output_type": "stream",
     "text": [
      "Collecting sentence-transformers\n",
      "  Downloading sentence-transformers-0.2.6.1.tar.gz (55 kB)\n",
      "\u001b[K     |████████████████████████████████| 55 kB 1.8 MB/s eta 0:00:011\n",
      "\u001b[?25hRequirement already satisfied, skipping upgrade: transformers>=2.8.0 in /opt/conda/lib/python3.7/site-packages (from sentence-transformers) (2.9.0)\n",
      "Requirement already satisfied, skipping upgrade: tqdm in /opt/conda/lib/python3.7/site-packages (from sentence-transformers) (4.45.0)\n",
      "Requirement already satisfied, skipping upgrade: torch>=1.0.1 in /opt/conda/lib/python3.7/site-packages (from sentence-transformers) (1.5.0)\n",
      "Requirement already satisfied, skipping upgrade: numpy in /opt/conda/lib/python3.7/site-packages (from sentence-transformers) (1.18.1)\n",
      "Requirement already satisfied, skipping upgrade: scikit-learn in /opt/conda/lib/python3.7/site-packages (from sentence-transformers) (0.22.2.post1)\n",
      "Requirement already satisfied, skipping upgrade: scipy in /opt/conda/lib/python3.7/site-packages (from sentence-transformers) (1.4.1)\n",
      "Requirement already satisfied, skipping upgrade: nltk in /opt/conda/lib/python3.7/site-packages (from sentence-transformers) (3.2.4)\n",
      "Requirement already satisfied, skipping upgrade: tokenizers==0.7.0 in /opt/conda/lib/python3.7/site-packages (from transformers>=2.8.0->sentence-transformers) (0.7.0)\n",
      "Requirement already satisfied, skipping upgrade: filelock in /opt/conda/lib/python3.7/site-packages (from transformers>=2.8.0->sentence-transformers) (3.0.10)\n",
      "Requirement already satisfied, skipping upgrade: sentencepiece in /opt/conda/lib/python3.7/site-packages (from transformers>=2.8.0->sentence-transformers) (0.1.86)\n",
      "Requirement already satisfied, skipping upgrade: requests in /opt/conda/lib/python3.7/site-packages (from transformers>=2.8.0->sentence-transformers) (2.23.0)\n",
      "Requirement already satisfied, skipping upgrade: regex!=2019.12.17 in /opt/conda/lib/python3.7/site-packages (from transformers>=2.8.0->sentence-transformers) (2020.4.4)\n",
      "Requirement already satisfied, skipping upgrade: sacremoses in /opt/conda/lib/python3.7/site-packages (from transformers>=2.8.0->sentence-transformers) (0.0.43)\n",
      "Requirement already satisfied, skipping upgrade: future in /opt/conda/lib/python3.7/site-packages (from torch>=1.0.1->sentence-transformers) (0.18.2)\n",
      "Requirement already satisfied, skipping upgrade: joblib>=0.11 in /opt/conda/lib/python3.7/site-packages (from scikit-learn->sentence-transformers) (0.14.1)\n",
      "Requirement already satisfied, skipping upgrade: six in /opt/conda/lib/python3.7/site-packages (from nltk->sentence-transformers) (1.14.0)\n",
      "Requirement already satisfied, skipping upgrade: certifi>=2017.4.17 in /opt/conda/lib/python3.7/site-packages (from requests->transformers>=2.8.0->sentence-transformers) (2020.4.5.1)\n",
      "Requirement already satisfied, skipping upgrade: chardet<4,>=3.0.2 in /opt/conda/lib/python3.7/site-packages (from requests->transformers>=2.8.0->sentence-transformers) (3.0.4)\n",
      "Requirement already satisfied, skipping upgrade: idna<3,>=2.5 in /opt/conda/lib/python3.7/site-packages (from requests->transformers>=2.8.0->sentence-transformers) (2.9)\n",
      "Requirement already satisfied, skipping upgrade: urllib3!=1.25.0,!=1.25.1,<1.26,>=1.21.1 in /opt/conda/lib/python3.7/site-packages (from requests->transformers>=2.8.0->sentence-transformers) (1.24.3)\n",
      "Requirement already satisfied, skipping upgrade: click in /opt/conda/lib/python3.7/site-packages (from sacremoses->transformers>=2.8.0->sentence-transformers) (7.1.1)\n",
      "Building wheels for collected packages: sentence-transformers\n",
      "  Building wheel for sentence-transformers (setup.py) ... \u001b[?25ldone\n",
      "\u001b[?25h  Created wheel for sentence-transformers: filename=sentence_transformers-0.2.6.1-py3-none-any.whl size=74030 sha256=606bac4aea1155470e2af4db05efb685b67b40401028114268581c072fddf567\n",
      "  Stored in directory: /root/.cache/pip/wheels/71/eb/84/05830bceaeef549ceb0257c6797254173e197e971b3f911ee4\n",
      "Successfully built sentence-transformers\n",
      "Installing collected packages: sentence-transformers\n",
      "Successfully installed sentence-transformers-0.2.6.1\n",
      "\u001b[33mWARNING: You are using pip version 20.1; however, version 20.1.1 is available.\n",
      "You should consider upgrading via the '/opt/conda/bin/python3.7 -m pip install --upgrade pip' command.\u001b[0m\n",
      "Note: you may need to restart the kernel to use updated packages.\n"
     ]
    }
   ],
   "source": [
    "pip install -U sentence-transformers\n"
   ]
  },
  {
   "cell_type": "code",
   "execution_count": 66,
   "metadata": {},
   "outputs": [
    {
     "name": "stderr",
     "output_type": "stream",
     "text": [
      "100%|██████████| 405M/405M [02:40<00:00, 2.53MB/s] \n"
     ]
    }
   ],
   "source": [
    "from sentence_transformers import SentenceTransformer\n",
    "model = SentenceTransformer('bert-base-nli-stsb-mean-tokens')"
   ]
  },
  {
   "cell_type": "code",
   "execution_count": 67,
   "metadata": {},
   "outputs": [],
   "source": [
    "final_df = df_covid_small.head(500).copy()"
   ]
  },
  {
   "cell_type": "code",
   "execution_count": 70,
   "metadata": {},
   "outputs": [
    {
     "name": "stderr",
     "output_type": "stream",
     "text": [
      "Batches: 100%|██████████| 1/1 [00:00<00:00,  1.45it/s]\n"
     ]
    },
    {
     "data": {
      "text/plain": [
       "(1, 768)"
      ]
     },
     "execution_count": 70,
     "metadata": {},
     "output_type": "execute_result"
    }
   ],
   "source": [
    "np.array(model.encode(['a'])).shape"
   ]
  },
  {
   "cell_type": "code",
   "execution_count": 71,
   "metadata": {},
   "outputs": [
    {
     "name": "stderr",
     "output_type": "stream",
     "text": [
      "Batches: 100%|██████████| 1/1 [00:00<00:00, 11.90it/s]\n"
     ]
    },
    {
     "data": {
      "text/plain": [
       "(1, 768)"
      ]
     },
     "execution_count": 71,
     "metadata": {},
     "output_type": "execute_result"
    }
   ],
   "source": [
    "np.array(model.encode(nltk.sent_tokenize(final_df.iloc[0]['filtered_body_text']))).shape"
   ]
  },
  {
   "cell_type": "markdown",
   "metadata": {},
   "source": [
    "Output of next cell is hidden for readability as it's very long."
   ]
  },
  {
   "cell_type": "code",
   "execution_count": null,
   "metadata": {},
   "outputs": [],
   "source": [
    "doc_embeddings = np.zeros((len(final_df),768))\n",
    "norms_doc_embeddings = np.zeros((len(final_df),1))\n",
    "for i in range(len(final_df)):\n",
    "    if i % 100 == 0:\n",
    "        print(\"working on \"+str(i)+\"th document\")\n",
    "    doc_embedding_vec = np.array(model.encode(nltk.sent_tokenize(final_df.iloc[i]['filtered_body_text'])))\n",
    "    doc_embedding_vec = doc_embedding_vec.sum(axis=0)\n",
    "    doc_embedding_vec /= len(nltk.sent_tokenize(final_df.iloc[i]['filtered_body_text']))\n",
    "    norms_doc_embeddings[i,:] = np.sqrt(np.dot(doc_embedding_vec,doc_embedding_vec.T))\n",
    "    doc_embeddings[i,:] = doc_embedding_vec\n"
   ]
  },
  {
   "cell_type": "code",
   "execution_count": 74,
   "metadata": {},
   "outputs": [
    {
     "name": "stderr",
     "output_type": "stream",
     "text": [
      "Batches: 100%|██████████| 1/1 [00:00<00:00, 61.75it/s]\n"
     ]
    }
   ],
   "source": [
    "question = \"What do we know about virus genetics, origin, and evolution? What do we know about Real-time tracking of whole genomes\"\n",
    "ques_embedding_vec = np.array(model.encode([question]))\n",
    "norm_ques_embedding = np.sqrt(np.dot(ques_embedding_vec, ques_embedding_vec.T))"
   ]
  },
  {
   "cell_type": "code",
   "execution_count": 75,
   "metadata": {},
   "outputs": [],
   "source": [
    "norm_prods = norms_doc_embeddings * norm_ques_embedding\n",
    "dot_prod = np.dot(doc_embeddings, ques_embedding_vec.T)\n",
    "cosine_similarity = dot_prod / norm_prods"
   ]
  },
  {
   "cell_type": "code",
   "execution_count": 76,
   "metadata": {},
   "outputs": [
    {
     "data": {
      "text/plain": [
       "array([311,  80, 103, 411,  95])"
      ]
     },
     "execution_count": 76,
     "metadata": {},
     "output_type": "execute_result"
    }
   ],
   "source": [
    "cosine_similarity = cosine_similarity.reshape(-1,)\n",
    "reqd_idxs = np.argpartition(cosine_similarity, -5)[-5:]\n",
    "reqd_idxs = reqd_idxs[np.argsort(cosine_similarity[reqd_idxs])][::-1]\n",
    "reqd_idxs"
   ]
  },
  {
   "cell_type": "code",
   "execution_count": 77,
   "metadata": {},
   "outputs": [
    {
     "name": "stdout",
     "output_type": "stream",
     "text": [
      "Articles for your question: \n",
      "Thermal-induced unfolding-refolding of a nucleocapsid COVN protein by Warin Rangubpit, Pornthep Sompornpisut, R Pandey\n",
      "W, 110 Y, 224 L, 374 P even at high temperatures.\n",
      "CoVID-19 pandemic is attracting unprecedented attention [1] [2] [3] [4] [5] in investigating the corona virus and its constituents. Corona virus involves a number of proteins, RNA and a huge list of crowded inter-and intra-cellular constituents in its assembly and replication. In an initial investigation even with a coarse-grained computer simulation model it is not feasible to consider all constituents that are involved in its assembly and replication. We examine the structural dynamics of a nucleocapsid (COVN) protein [6] consisting of 422 residues which plays a critical role in packaging the viral genome RNA into ribonucleocapsid and virion assembly [7] [8] [9] . For the sake of simplicity and to develop a clear understanding of the basic nature of the conformational evolution, it would be interesting to examine the structural response of a free COVN as a function of temperature before systematically including different types of prot......\n",
      "============================================================================================================================================\n",
      " by \n",
      "Molecular biology of the • corona viruses from Brian W. J. Mahy THE rapid advances being made in understanding the molecular biology of the coronaviruses took centre stage at a recent international workshop* on these viruses, overshadowing studies of the pathogenesis of the diseases they cause: respiratory infections and colds in man, and numerous acute and chronic diseases in animals. Of particular interest were studies revealing novel mechanisms employed by coronaviruses for the synthesis of glycoproteins and mRNA. These studies have concentrated mainly on mouse hepatitis virus (MHV) and avian infectious bronchitis virus (IBV). Glycoproteins Corona viruses contain two envelope glycoproteins, termed E 1 and E 2 in MHV. E 1 , the matrix protein, is a transmembrane glycoprotein with its N-terminus exterior to the envelope and its C-terminus associated internally with the nucleocapsid. E 2 or spike protein which forms the peplomers on the virion surface attaches to host cells and elicits......\n",
      "============================================================================================================================================\n",
      "Origination and consequences of bovine viral diarrhea virus diversity by Steven Bolin, Daniel Grooms\n",
      "The purpose of this article is to provide an overview of genetic, antigenic, and biologic diversity among bovine viral diarrhea viruses (BVDV), and to discuss the impact of that diversity on disease manifestations, diagnostic testing, and disease control strategies. The genetic diversity that occurs among isolates of BVDV is characteristic of RNA viruses that exist in nature as quasispecies (a swarm of viral mutants). The basis for the viral quasispecies phenomenon will be discussed briefly and related to recent evidence for the existence of BVDV as a quasispecies. The genetic diversity that occurs among BVDV is reflected in the antigenic diversity found among viral isolates worldwide. The persistently infected (PI) animal is considered important for maintaining BVDV in nature, and as being a primary source of virus for other cattle. PI cattle may also serves as a source of viral genetic variants that may be ''selected'' by non-PI cattle when infected with virus. The emergence and esta......\n",
      "============================================================================================================================================\n",
      "Detailed structural analysis of a genome rearrangement in bovine rotavirus by G Scott, M Tarlow,  Mccrae\n",
      "are major medical and veterinary pathogens. Epidemiological variation within these viruses and the mechanisms that are involved in generating it are consequently of considerable interest to strategies aimed at effective virus vaccine development.\n",
      "Five distinct groups of rotavirus (A-E) have been defined using both serological and nucleic acid based criteria (Pedley et al., 1983 (Pedley et al., , 1986 . There is no serological cross-reaction between viruses from different groups and the available nucleic acid data would suggest that each group represents an isolated gene pool with no exchange of genes across the group boundaries (McCrae, 1987) . Currently numbers of isolations of group A rotaviruses greatly exceed those from any of the other groups and molecular studies have focused on isolates from this group. Extensive genome profile analysis of group A rotaviruses has revealed that whilst variation in the electrophoretic mobility of individual RNA segments is observed, in general the......\n",
      "============================================================================================================================================\n",
      "Genome3D: A viewer-model framework for integrating and visualizing multi-scale epigenomic information within a three-dimensional genome by Thomas Asbury, Matt Mitman, Jijun Tang, Jim Zheng\n",
      "Background A significant portion of genomic data that is currently being generated extends beyond traditional primary sequence information. Genome-wide epigenetic characteristics such as DNA and histone modifications, nucleosome distributions, along with transcriptional and replication center structural insights are rapidly changing the way the genome is understood. Indeed, these new data from high-throughput sources are often demonstrating that much of the genome's functional landscape resides in extra-sequential properties.\n",
      "With this influx of new detail about the higher-level structure and dynamics of the genome, new techniques will be required to visualize and model the full extent of genomic interactions and function. Genome browsers, such as the USCS Genome Database Browser [1] , are specifically aimed at viewing primary sequence information. Although supplemental information can easily be annotated via new tracks, representing structural hierarchies and interactions is quite dif......\n",
      "============================================================================================================================================\n"
     ]
    }
   ],
   "source": [
    "print(\"Articles for your question: \")\n",
    "for idx in reqd_idxs:\n",
    "    print(final_df.iloc[idx]['title']+\" by \"+ final_df.iloc[idx]['authors'])\n",
    "    print(final_df.iloc[idx]['body_text'][:1000]+\"......\")\n",
    "    print(\"=\"*140)"
   ]
  },
  {
   "cell_type": "markdown",
   "metadata": {},
   "source": [
    "Summary for What do we know about virus genetics, origin, and evolution? What do we know about Real-time tracking of whole genomes?"
   ]
  },
  {
   "cell_type": "code",
   "execution_count": 79,
   "metadata": {},
   "outputs": [
    {
     "name": "stdout",
     "output_type": "stream",
     "text": [
      "Summary for article: Thermal-induced unfolding-refolding of a nucleocapsid COVN protein\n",
      "The radius of gyration increases on raising the temperature, first monotonically from a minimum in its native state to a maximum value. The effective dimension begin to reduce with increasing the temperature further as the protein conformation approaches a tenuous structure, i.e. A number of local and global physical quantities such as radius of gyration, root mean square displacement of the center of mass, structure factor, contact map, etc. At low temperatures (T=0.010 -0.015), the radius of gyration remains almost constant with its lowest magnitude (Rg  22.5) in its native phase. First, we notice that the number of residues (Nr) within the range of interaction of each residues along the backbone, is higher at lower temperatures. While most segmental folds disappear in denatured phase while some persist even at a very high temperature (see below). 367 T-380 A (along with other segments with comparably low folds) lead to futher expansion of the protein (T=0.0268) before it reaches to a stable conformation. Overall size of the protein chain is described by its radius of gyration (Rg).\n",
      "\n",
      "Summary for article: \n",
      "The polymerase could read the leader sequence then jump across a postulated gap in the template, joining the leader to mRNA body sequences in the process. Glycoproteins Corona viruses contain two envelope glycoproteins, termed E 1 and E 2 in MHV. Glycosylation of E 1 is therefore not co-translational, in contrast with E 2 which is formed by synchronous membrane insertion and glycosylation of *Thl' second international workshop on coronavini. Fusion of leader and body sequences occurs within the sequence 5' AAUCUAAUCUAAACU 3', which does not include the consensus established 2 for splice junctions in viral and cellular mRNAs. During replication, mRNA of genome length is synthesized together with six subgenomic mRNA molecules which range in size from 2 to 10 kb. The coronavirus genome is a linear singlestranded RNA molecule about 20 kilobases (kb) long which is polyadenylated at the 3' end, capped at the 5' end and infectious. Two possible mechanisms by which leader sequences could become fused to mRNA body sequences during transcription were considered at the meeting. Addition of microsomes at different times after synthesis shows that the protein can enter the membrane at any stage during synthesis of the first 150 amino-acid residues.\n",
      "\n",
      "Summary for article: Origination and consequences of bovine viral diarrhea virus diversity\n",
      "Noncytopathic BVDV is more prevalent in nature, and serves as the parent virus from which cytopathic BVDV arise after homologous or heterologous recombination in the noncytopathic viral RNA. In BVDV, recombination of RNA has not been shown to create new viral species (a new viral genotype), but it can cause a switch in viral biotype. Comparison of the BVDV from those animals showed that the viral isolates were similar; however, antigenic differences could be detected among the viral isolates [26] . Currently, 11 subgenotypes of BVDV type 1 and two subgenotypes of BVDV type 2 have been identified [42, 44, 45] . The genetic diversity that occurs among isolates of BVDV is characteristic of RNA viruses that exist in nature as quasispecies (a swarm of viral mutants). The latter may be homologous (involving recombination of viral RNA [self-RNA]) or nonhomologous (involving recombination of RNA from another BVDV [nonself] or from the infected host). It is important to realize that despite wide genetic and antigenic diversity of BVDV isolates, most viral isolates are capable of inducing some common clinical syndromes. Diagnostics target viral antigens (immunoperoxidase microtiter assay, antigen ELISA, immunohistochemistry, fluorescent antibody), genomic material (PCR, in situ hybridization) or BVDV specific antibodies (virus neutralization, antibody ELISA).\n",
      "\n",
      "Summary for article: Detailed structural analysis of a genome rearrangement in bovine rotavirus\n",
      "This probe also hybridized to segment X of C7/183, indicating that in this virus only this RNA segment contained sequences derived from the normal segment 11 RNA (Fig. Comparison of the RNA and Protein sequences of the unique sequences of RNA segment X (top lines) and the corresponding sequences from the UKtc bovine rotavirus RNA segment 11. 2) that segment X is 1242 base pairs long and is made up of a head to tail partial duplication of the normal segment 11. The sequence of gene 11 from the UKtc strain has been determined (Ward et al., 1985) and therefore the sequence of segment X can be compared with it. The right panel of two tracks shows a Northern blot probed with a full length c-DNA clone of RNA segment X of C7/183. Pocock (1987) analysed the proteins encoded by transcripts coming from the new RNA segment in one of the calf isolates exhibiting a rearranged gene 11. Sequence analysis has now been carried out on RNA segment 11 from several different rotaviruses. The 3' copy of segment 11 in the rearrangement begins at nucleotide 40/41 of the normal gene sequence.\n",
      "\n",
      "Summary for article: Genome3D: A viewer-model framework for integrating and visualizing multi-scale epigenomic information within a three-dimensional genome\n",
      "In addition to epigenomic data, the physical genome model also provides a platform to visualize highthroughput gene expression data and its interplay with global binding information of transcription factors. The Genome3D viewer, decoupled from the genome model, can be used to view any model that uses our model framework. To illustrate the capability of Genome3D to integrate and examine data of appropriate scales, we constructed an elementary model of the physical genome (see Additional file 1 for details). We choose to concentrate on highthroughput data sets that are becoming commonplace in current research: genome wide nucleosome positions, SNPs, histone methylations and gene expression profiles. Such large-scale microarray expression data is often displayed with a two-dimensional array format, emphasizing shared expression between genes, while P53 binding data are stored in tabular form. This data can be loaded into Genome3D and displayed on the currently loaded genome model. A common framework of established scales and formats could vastly improve multi-scale data integration and the ability to infer previously unknown relationships within the composite data. Our model framework is flexible and adaptable to handle new more precise structural information as details emerge about the genome's physical arrangement.\n",
      "\n"
     ]
    }
   ],
   "source": [
    "generate_summary(reqd_idxs)"
   ]
  },
  {
   "cell_type": "code",
   "execution_count": 80,
   "metadata": {},
   "outputs": [],
   "source": [
    "def compute_cosine_get_idxs(norms_doc_embeddings, norm_ques_embedding, ques_embedding_vec, doc_embeddings):\n",
    "    norm_prods = norms_doc_embeddings * norm_ques_embedding\n",
    "    dot_prod = np.dot(doc_embeddings, ques_embedding_vec.T)\n",
    "    cosine_similarity = dot_prod / norm_prods\n",
    "    cosine_similarity = cosine_similarity.reshape(-1,)\n",
    "    reqd_idxs = np.argpartition(cosine_similarity, -5)[-5:]\n",
    "    reqd_idxs = reqd_idxs[np.argsort(cosine_similarity[reqd_idxs])][::-1]\n",
    "    return reqd_idxs"
   ]
  },
  {
   "cell_type": "code",
   "execution_count": 81,
   "metadata": {},
   "outputs": [
    {
     "name": "stderr",
     "output_type": "stream",
     "text": [
      "Batches: 100%|██████████| 1/1 [00:00<00:00, 66.04it/s]"
     ]
    },
    {
     "name": "stdout",
     "output_type": "stream",
     "text": [
      "Articles for your question: \n",
      "Phylogeny and Origins of Hantaviruses Harbored by Bats, Insectivores, and Rodents by Wen-Ping Guo, Xian-Dan Lin, Wen Wang, Jun-Hua Tian, Mei-Li Cong, Hai-Lin Zhang, Miao-Ruo Wang, Run-Hong Zhou, Jian-Bo Wang, Ming-Hui Li, Jianguo Xu, Edward Holmes, Yong-Zhen Zhang\n",
      "Emerging infectious diseases have a substantial and ongoing impact on public health and agricultural production [1] [2] [3] . Over half of the currently recognized pathogens are zoonotic, and nearly all of the most important human pathogens are either zoonotic or originated as zoonoses before adapting to human transmission [4, 5] . Hence, wildlife species play a key role in disease emergence by providing a ''zoonotic pool'' from which previously unknown pathogens may emerge [1] . A major goal of infectious disease research is therefore to characterize those unknown pathogens circulating in animal host reservoirs before they emerge in human populations [6, 7] .\n",
      "Hantaviruses (genus Hantavirus, family Bunyaviridae) are the etiological agent(s) of hemorrhagic fever with renal syndrome (HFRS) and hantavirus pulmonary syndrome (HPS) in humans [8] . Unlike the other genera of Bunyaviridae, hantaviruses are not known to be transmitted by arthropods, and instead are harbored by small mammals, p......\n",
      "============================================================================================================================================\n",
      "Preliminary studies on isolates of Clostridium difficile from dogs and exotic pets by Sara Andrés-Lasheras, Inma Martín-Burriel, Raúl Carlos Mainar-Jaime, Mariano Morales, Ed Kuijper, José Blanco, Manuel Chirino-Trejo, Rosa Bolea\n",
      "Clostridium difficile is a bacterium capable of producing enteric disease in different animal species included humans. Toxigenic C. difficile strains are the most common cause of antibiotic-associated diarrhoea in people from developed countries through the synthesis of toxins A and B, its main virulence factors [1] . The epidemiology of C. difficile has changed in the last 15 years and it is now recognised as an emerging pathogen in both humans and animals. It is also considered an emerging community-acquired pathogen likely associated with a zoonotic and/or foodborne transmission [2] .\n",
      "Animals are an important source of many infectious diseases for humans. About 75% of emerging infectious diseases are zoonoses [3] , and it is thought that pets could be implicated in the transmission of C. difficile to humans since similar genotypes have been recovered from them and humans [4] . Among the strains isolated from dogs, there are several ribotypes of international interest, such as RT078,......\n",
      "============================================================================================================================================\n",
      "A quantitative study of day-night changes in the spatial distribution of insects in a stony stream by J Elliott\n",
      "The spatial distribution of animals is an essential part of their population dynamics because it reflects the behaviour of individuals within the population as well as demographic changes (Anderson et al . 1982; Taylor et al . 1983) . Various indices of spatial distribution (also called indices of dispersion) have been proposed and most are based on different combinations of estimates of the population variance and mean. The simplest approach is therefore to examine the relationship between the spatial variance ( s 2 ) and mean ( m ). The spatial distribution of individuals in a population can be random ( s 2 = m ), regular, uniform or even ( s 2 < m ), or aggregated, clumped or contagious ( s 2 > m ). As contagious implies that the animals are influencing each other's distribution, and clumped implies an active gathering together, the term aggregation is preferred here because it has no implication of causation (Taylor 1984) . True population randomness requires that no individual ani......\n",
      "============================================================================================================================================\n",
      " by \n",
      "The following facts and figures have been obtained from experimental infections and observations from field cases. 5, [9] [10] [11] They summarise and reflect the current state of knowledge, and will have to be revised and expanded as additional information becomes available: ✜ Cats can be infected via the intratracheal and oral routes (eg, by eating infected chickens); ✜ Infection can occur upon contact with infected birds (Fig 2) \n",
      "Before the veterinary practitioner expresses a suspicion, the potential risk must be evaluated according to the case history and circumstances (see box on page 617). If these conditions are fulfilled, a risk is assumed when a clinical assessment reveals fever, lethargy/depression, dyspnoea, conjunctivitis; neurological signs may also be seen. Rapid progression and death are important indicators.\n",
      "To date, no human case has been linked to exposure to a diseased cat. The differential diagnosis should exclude other infections leading to similar systemic and res......\n",
      "============================================================================================================================================\n",
      "Predicting the global mammalian viral sharing network using phylogeography by Gregory Albery, Evan Eskew, Noam Ross, Kevin Olival\n",
      "M ost emerging human viruses originate in wild mammals, so understanding the drivers of interspecific viral transmission in these taxa is an important public health research priority 1, 2 . Despite a rapidly expanding knowledge base, the mammalian viruses known to science remain taxonomically biased and limited in scope, likely comprising less than 1% of the complete mammalian virome 3, 4 . Furthermore, host range is inadequately characterised even for the best-studied viruses [5] [6] [7] . To help prioritise viral discovery efforts and zoonotic disease surveillance in wildlife, studies have revealed high (zoonotic) parasite diversity in certain host taxa, such as rodents and bats 5, 8 , and/or linked parasite diversity with host phenotypic traits such as reproductive output 9, 10 . Viral diversity has also been associated with host macroecological traits, including geographic range size 11 and sympatry with other mammals 5 . The rationale for investigating viral diversity is that spec......\n",
      "============================================================================================================================================\n"
     ]
    },
    {
     "name": "stderr",
     "output_type": "stream",
     "text": [
      "\n"
     ]
    }
   ],
   "source": [
    "question = \"What about Animal host and any evidence of continued spill over to humans, Socioeconomic and behavioral risk factors for this spill over?\"\n",
    "ques_embedding_vec = np.array(model.encode([question]))\n",
    "norm_ques_embedding = np.sqrt(np.dot(ques_embedding_vec, ques_embedding_vec.T))\n",
    "reqd_idxs = compute_cosine_get_idxs(norms_doc_embeddings, norm_ques_embedding, ques_embedding_vec, doc_embeddings)\n",
    "print(\"Articles for your question: \")\n",
    "for idx in reqd_idxs:\n",
    "    print(final_df.iloc[idx]['title']+\" by \"+ final_df.iloc[idx]['authors'])\n",
    "    print(final_df.iloc[idx]['body_text'][:1000]+\"......\")\n",
    "    print(\"=\"*140)"
   ]
  },
  {
   "cell_type": "markdown",
   "metadata": {},
   "source": [
    "Summary for What about Animal host and any evidence of continued spill over to humans, Socioeconomic and behavioral risk factors for this spill over?"
   ]
  },
  {
   "cell_type": "code",
   "execution_count": 82,
   "metadata": {},
   "outputs": [
    {
     "name": "stdout",
     "output_type": "stream",
     "text": [
      "Summary for article: Phylogeny and Origins of Hantaviruses Harbored by Bats, Insectivores, and Rodents\n",
      "Here, we describe four novel hantaviruses (Huangpi virus, Lianghe virus, Longquan virus, and Yakeshi virus) that were sampled from bats and shrews in China. One notable feature of our phylogenetic analysis was the basal position of phylogroup I viruses in the S segment tree but of phylogroup II viruses in the M segment. Our analysis also suggests that hantaviruses might have first appeared in bats or insectivores, before spreading to rodents, even though rodents are currently the best documented hosts of hantaviruses. Accordingly, we propose naming these four novel hantaviruses as Huangpi virus (HUPV), Lianghe virus (LHEV) Longquan virus (LQUV), and Yakeshi virus (YKSV), reflecting their geographic origins. In the S segment tree (Figure 2A ), all known hantaviruses including the viruses identified in bats and insectivores could be placed into four well supported 'phylogroups'. In the L gene tree the two viruses found in African bats were closely related to HPUV and LQUV found in bats from China, respectively ( Figure 2C ). We therefore named these new viruses as Huangpi virus (HUPV), Longquan virus (LQUV), Lianghe virus (LHEV), and Yakeshi virus (YKSV), and which were found in P. abramus, Rhinolophus spp. Clearly, the viruses from bats and shrews are distinct from each other and from other known hantaviruses, representing four novel species of hantavirus (see below).\n",
      "\n",
      "Summary for article: Preliminary studies on isolates of Clostridium difficile from dogs and exotic pets\n",
      "There is limited information about antimicrobial susceptibilities of C. difficile strains obtained from dogs or exotic animal species [7, 15] . Additional file 3: Clostridium difficile field isolates and Clostridium difficile ATCC 43255 (positive control) toxinotyping in agarose gel. Metronidazole is widely used in dogs, thus animals treated with this drug could be a possible source of MDR strains for humans. Clostridium difficile was isolated from 6.7% (6/90) of dogs with diarrhoea, but only four strains were toxigenic (66.7%). In this study, 4.4% toxigenic C. difficile strains were isolated from diarrhoeic dogs. An increase in the number of metronidazole-resistance C. difficile isolates has been observed for the last years in both humans and animals strains [17] . Overall, the frequency of resistant C. difficile isolates to metronidazole is still low (0%-18%) [17] , and even lower after laboratory strain manipulation [28] . There is also a potential risk for the emergence of C. difficile strains resistant to the first line of antimicrobial drugs used for the treatment of CDI in people.\n",
      "\n",
      "Summary for article: A quantitative study of day-night changes in the spatial distribution of insects in a stony stream\n",
      "The close overlap of the day and night values for this species supported the conclusion that the spatial distribution did not change significantly from day to night (Fig. Therefore, at lower densities the spatial distribution remained close to random during both day and night, while aggregation increased at night for medium to high densities (e.g. Although the spatial distribution of some species changed from day to night, mean densities did not change significantly (e.g. the spatial variance was density-dependent ( r 2 > 0·96 for all Ephemeroptera species, > 0·97 for all Plecoptera species and > 0·95 for all Trichoptera species). As the larvae of these four nocturnal species were usually found aggregated under stones during the day, their reduced aggregation when they were active at night was not unexpected. The rather sedentary case-building species, Agapetus fuscipes, occurred chiefly on the upper surface of large stones and was moderately aggregated with no significant change from day to night. The spatial distribution of the very active carnivore, Rhyacophila dorsalis, was close to random with no significant difference between day and night samples (Fig. Similar results for day and night estimates of mean density were obtained for the different species of Plecoptera and Trichoptera, and therefore further examples will not be shown.\n",
      "\n",
      "Summary for article: \n",
      "If H5N1 virus infection is suspected, minimise all physical contact with the cat, avoid scratching and biting, and wear gloves, a mask and protective eyewear when handling the cat. During the first 7 days after infection, a sick cat can transmit H5N1 virus to another cat in close contact. ✜ The suspected cat should be kept in isolation in a cage at the veterinary clinic. To date, no human case has been linked to exposure to a diseased cat. What can owners do to minimise the risk of H5N1 infection in their cats? Finally, remember that clinical signs can only result in a clinical suspicion, which must be confirmed by laboratory testing. If these conditions are fulfilled, a risk is assumed when a clinical assessment reveals fever, lethargy/depression, dyspnoea, conjunctivitis; neurological signs may also be seen. The authorities should be notified according to the national regulations, and an appropriate diagnostic laboratory contacted for detailed instructions.\n",
      "\n",
      "Summary for article: Predicting the global mammalian viral sharing network using phylogeography\n",
      "a Species pairs with higher predicted viral sharing probability from our model were more likely to be observed sharing a virus in the independent EID2 dataset. We therefore interrogated our predicted viral sharing network to investigate whether it could be used to identify potential hosts of known viruses at the species level. b Species that hosted a zoonotic virus in our dataset had more viral sharing links in the predicted all-mammal network than those without zoonotic viruses. The rationale for investigating viral diversity is that species with more viruses will generate more opportunities for viral transmission to other species, including humans. We used this measure of viral sharing \"predictability\" to investigate whether certain viral traits affected the ease with which phylogeography predicted their hosts. We then used these predicted links to create 1000 unipartite viral sharing networks, estimating link numbers (degree centrality) for species in each replicated network. To visualise geographic patterns of viral sharing, we projected species-level degree centrality across the species' ranges, then calculated grid cell-level mean degree centrality (Fig. Similarly, where there is limited knowledge of mammalian host range for newly-discovered viruses, our modelled network can be used to prioritise the sampling of additional species for viral surveillance.\n",
      "\n"
     ]
    }
   ],
   "source": [
    "generate_summary(reqd_idxs)"
   ]
  }
 ],
 "metadata": {
  "kernelspec": {
   "display_name": "Python 3",
   "language": "python",
   "name": "python3"
  },
  "language_info": {
   "codemirror_mode": {
    "name": "ipython",
    "version": 3
   },
   "file_extension": ".py",
   "mimetype": "text/x-python",
   "name": "python",
   "nbconvert_exporter": "python",
   "pygments_lexer": "ipython3",
   "version": "3.7.4"
  }
 },
 "nbformat": 4,
 "nbformat_minor": 4
}
